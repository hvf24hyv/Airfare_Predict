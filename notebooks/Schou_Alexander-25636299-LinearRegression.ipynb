{
 "cells": [
  {
   "cell_type": "markdown",
   "id": "50ffdaba-c524-4536-ab7f-9e8728ae2bf2",
   "metadata": {},
   "source": [
    "# AT3 - Linear Regression"
   ]
  },
  {
   "cell_type": "code",
   "execution_count": 1,
   "id": "d63a811a-2b90-4859-bc20-8c36e71979ac",
   "metadata": {},
   "outputs": [
    {
     "name": "stderr",
     "output_type": "stream",
     "text": [
      "/Users/alexanderschou/Library/Caches/pypoetry/virtualenvs/airfare-predict-2ER38gMK-py3.12/lib/python3.12/site-packages/tqdm/auto.py:21: TqdmWarning: IProgress not found. Please update jupyter and ipywidgets. See https://ipywidgets.readthedocs.io/en/stable/user_install.html\n",
      "  from .autonotebook import tqdm as notebook_tqdm\n"
     ]
    }
   ],
   "source": [
    "import pandas as pd\n",
    "from sklearn.compose import ColumnTransformer\n",
    "from sklearn.pipeline import Pipeline\n",
    "from sklearn.preprocessing import OneHotEncoder, FunctionTransformer\n",
    "import numpy as np\n",
    "import xgboost as xgb\n",
    "from xgboost import XGBRegressor\n",
    "from sklearn.metrics import mean_squared_error, mean_absolute_error\n",
    "import matplotlib.pyplot as plt\n",
    "from joblib import dump\n",
    "from catboost import CatBoostRegressor\n",
    "from imblearn.over_sampling import SMOTE\n",
    "from hyperopt import fmin, tpe, hp, Trials\n",
    "from hyperopt import STATUS_OK\n",
    "from sklearn.model_selection import train_test_split\n",
    "from prophet import Prophet\n",
    "import joblib\n",
    "from sklearn.ensemble import RandomForestRegressor\n",
    "from sklearn.model_selection import RandomizedSearchCV\n",
    "from sklearn.linear_model import LinearRegression"
   ]
  },
  {
   "cell_type": "code",
   "execution_count": 2,
   "id": "30c1d091-11ea-49d9-aac5-fc30ec13c11c",
   "metadata": {},
   "outputs": [],
   "source": [
    "X_train = pd.read_csv(\"../data/processed/X_train.csv\")\n",
    "y_train = pd.read_csv(\"../data/processed/y_train.csv\")\n",
    "X_val = pd.read_csv(\"../data/processed/X_val.csv\")\n",
    "y_val = pd.read_csv(\"../data/processed/y_val.csv\")\n",
    "X_test = pd.read_csv(\"../data/processed/X_test.csv\")\n",
    "y_test = pd.read_csv(\"../data/processed/y_test.csv\")"
   ]
  },
  {
   "cell_type": "code",
   "execution_count": 3,
   "id": "53357d76-4233-47f5-81bc-e7bf0669a39b",
   "metadata": {},
   "outputs": [
    {
     "data": {
      "text/html": [
       "<div>\n",
       "<style scoped>\n",
       "    .dataframe tbody tr th:only-of-type {\n",
       "        vertical-align: middle;\n",
       "    }\n",
       "\n",
       "    .dataframe tbody tr th {\n",
       "        vertical-align: top;\n",
       "    }\n",
       "\n",
       "    .dataframe thead th {\n",
       "        text-align: right;\n",
       "    }\n",
       "</style>\n",
       "<table border=\"1\" class=\"dataframe\">\n",
       "  <thead>\n",
       "    <tr style=\"text-align: right;\">\n",
       "      <th></th>\n",
       "      <th>startingAirport</th>\n",
       "      <th>destinationAirport</th>\n",
       "      <th>cabin_type</th>\n",
       "      <th>year</th>\n",
       "      <th>month</th>\n",
       "      <th>day</th>\n",
       "      <th>hour</th>\n",
       "      <th>minute</th>\n",
       "    </tr>\n",
       "  </thead>\n",
       "  <tbody>\n",
       "    <tr>\n",
       "      <th>0</th>\n",
       "      <td>LAX</td>\n",
       "      <td>PHL</td>\n",
       "      <td>coach</td>\n",
       "      <td>2022</td>\n",
       "      <td>4</td>\n",
       "      <td>17</td>\n",
       "      <td>0</td>\n",
       "      <td>4</td>\n",
       "    </tr>\n",
       "    <tr>\n",
       "      <th>1</th>\n",
       "      <td>LAX</td>\n",
       "      <td>BOS</td>\n",
       "      <td>coach</td>\n",
       "      <td>2022</td>\n",
       "      <td>4</td>\n",
       "      <td>17</td>\n",
       "      <td>0</td>\n",
       "      <td>4</td>\n",
       "    </tr>\n",
       "    <tr>\n",
       "      <th>2</th>\n",
       "      <td>LAX</td>\n",
       "      <td>DFW</td>\n",
       "      <td>coach</td>\n",
       "      <td>2022</td>\n",
       "      <td>4</td>\n",
       "      <td>17</td>\n",
       "      <td>0</td>\n",
       "      <td>4</td>\n",
       "    </tr>\n",
       "    <tr>\n",
       "      <th>3</th>\n",
       "      <td>LAX</td>\n",
       "      <td>LGA</td>\n",
       "      <td>coach</td>\n",
       "      <td>2022</td>\n",
       "      <td>4</td>\n",
       "      <td>17</td>\n",
       "      <td>0</td>\n",
       "      <td>4</td>\n",
       "    </tr>\n",
       "    <tr>\n",
       "      <th>4</th>\n",
       "      <td>LAX</td>\n",
       "      <td>ATL</td>\n",
       "      <td>coach</td>\n",
       "      <td>2022</td>\n",
       "      <td>4</td>\n",
       "      <td>17</td>\n",
       "      <td>0</td>\n",
       "      <td>4</td>\n",
       "    </tr>\n",
       "  </tbody>\n",
       "</table>\n",
       "</div>"
      ],
      "text/plain": [
       "  startingAirport destinationAirport cabin_type  year  month  day  hour  \\\n",
       "0             LAX                PHL      coach  2022      4   17     0   \n",
       "1             LAX                BOS      coach  2022      4   17     0   \n",
       "2             LAX                DFW      coach  2022      4   17     0   \n",
       "3             LAX                LGA      coach  2022      4   17     0   \n",
       "4             LAX                ATL      coach  2022      4   17     0   \n",
       "\n",
       "   minute  \n",
       "0       4  \n",
       "1       4  \n",
       "2       4  \n",
       "3       4  \n",
       "4       4  "
      ]
     },
     "execution_count": 3,
     "metadata": {},
     "output_type": "execute_result"
    }
   ],
   "source": [
    "X_train.head()"
   ]
  },
  {
   "cell_type": "code",
   "execution_count": 5,
   "id": "7694d188-31ad-4cc4-b5be-f9652ac0888e",
   "metadata": {},
   "outputs": [
    {
     "name": "stdout",
     "output_type": "stream",
     "text": [
      "Training Set - RMSE: 179.98, MAE: 127.60\n",
      "Validation Set - RMSE: 194.48, MAE: 139.07\n",
      "Test Set - RMSE: 182.99, MAE: 134.78\n"
     ]
    }
   ],
   "source": [
    "# Cyclical encoding for time features (hour and month)\n",
    "def encode_cyclical_features(df):\n",
    "    df = df.copy()\n",
    "    df['hour_sin'] = np.sin(2 * np.pi * df['hour'] / 24)\n",
    "    df['hour_cos'] = np.cos(2 * np.pi * df['hour'] / 24)\n",
    "    df['month_sin'] = np.sin(2 * np.pi * df['month'] / 12)\n",
    "    df['month_cos'] = np.cos(2 * np.pi * df['month'] / 12)\n",
    "    df = df.drop(columns=['year', 'month', 'day', 'hour', 'minute'])  # Drop raw datetime features after encoding\n",
    "    return df\n",
    "\n",
    "# Define preprocessing pipeline\n",
    "preprocessor = ColumnTransformer(\n",
    "    transformers=[\n",
    "        ('cat', OneHotEncoder(handle_unknown='ignore'), ['startingAirport', 'destinationAirport', 'cabin_type']),\n",
    "        ('cyclical', FunctionTransformer(encode_cyclical_features), ['year', 'month', 'day', 'hour', 'minute'])\n",
    "    ], remainder='passthrough'\n",
    ")\n",
    "\n",
    "# Define the model\n",
    "model = LinearRegression()\n",
    "\n",
    "# Create a pipeline\n",
    "pipeline = Pipeline(steps=[\n",
    "    ('preprocessor', preprocessor),\n",
    "    ('linear', model)\n",
    "])\n",
    "\n",
    "pipeline.fit(X_train, y_train)\n",
    "\n",
    "# Predictions\n",
    "train_pred = pipeline.predict(X_train)\n",
    "val_pred = pipeline.predict(X_val)\n",
    "test_pred = pipeline.predict(X_test)\n",
    "\n",
    "# Calculate and print RMSE and MAE\n",
    "def calculate_metrics(y_true, y_pred):\n",
    "    rmse = np.sqrt(mean_squared_error(y_true, y_pred))\n",
    "    mae = mean_absolute_error(y_true, y_pred)\n",
    "    return rmse, mae\n",
    "\n",
    "train_rmse, train_mae = calculate_metrics(y_train, train_pred)\n",
    "val_rmse, val_mae = calculate_metrics(y_val, val_pred)\n",
    "test_rmse, test_mae = calculate_metrics(y_test, test_pred)\n",
    "\n",
    "print(f\"Training Set - RMSE: {train_rmse:.2f}, MAE: {train_mae:.2f}\")\n",
    "print(f\"Validation Set - RMSE: {val_rmse:.2f}, MAE: {val_mae:.2f}\")\n",
    "print(f\"Test Set - RMSE: {test_rmse:.2f}, MAE: {test_mae:.2f}\")"
   ]
  },
  {
   "cell_type": "code",
   "execution_count": null,
   "id": "0e7589e5-a067-484c-9102-4a4084867f65",
   "metadata": {},
   "outputs": [],
   "source": []
  },
  {
   "cell_type": "code",
   "execution_count": null,
   "id": "43f8ed06-eb54-4261-96dd-4fcff898ca07",
   "metadata": {},
   "outputs": [],
   "source": []
  },
  {
   "cell_type": "code",
   "execution_count": null,
   "id": "ef6f1399-4e14-4246-9746-19d4da93c7ad",
   "metadata": {},
   "outputs": [],
   "source": []
  },
  {
   "cell_type": "code",
   "execution_count": null,
   "id": "b72bf542-9145-4caa-a62c-efa4cc7bdffc",
   "metadata": {},
   "outputs": [],
   "source": []
  }
 ],
 "metadata": {
  "kernelspec": {
   "display_name": "Python 3 (ipykernel)",
   "language": "python",
   "name": "python3"
  },
  "language_info": {
   "codemirror_mode": {
    "name": "ipython",
    "version": 3
   },
   "file_extension": ".py",
   "mimetype": "text/x-python",
   "name": "python",
   "nbconvert_exporter": "python",
   "pygments_lexer": "ipython3",
   "version": "3.12.4"
  }
 },
 "nbformat": 4,
 "nbformat_minor": 5
}
