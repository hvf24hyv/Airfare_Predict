{
 "cells": [
  {
   "cell_type": "markdown",
   "metadata": {},
   "source": [
    "# Notebook 2: Null Regressor Model"
   ]
  },
  {
   "cell_type": "markdown",
   "metadata": {},
   "source": [
    "**Model 1**: Benchmark model, predicting only the mean\n",
    "\n",
    "**Reason for model**: benchmark model, to get a baseline result upon which to improve future models\n",
    "\n",
    "**Metric**: RMSE\n",
    "\n",
    "**Reason for metric**: focus on penalising large errors over small errors, RMSE is the better choice."
   ]
  },
  {
   "cell_type": "code",
   "execution_count": 1,
   "metadata": {},
   "outputs": [],
   "source": [
    "ROOT_PATH_FROM_NOTEBOOK = \"..\"\n",
    "DATA_PATH = \"data\"\n",
    "PROCESSED_DATA_PATH = \"processed\"\n",
    "DATASET_NAME = \"all_data_transformed.parquet\"\n",
    "\n",
    "df_path = f\"{ROOT_PATH_FROM_NOTEBOOK}/{DATA_PATH}/{PROCESSED_DATA_PATH}/{DATASET_NAME}\""
   ]
  },
  {
   "cell_type": "code",
   "execution_count": 2,
   "metadata": {},
   "outputs": [],
   "source": [
    "import sys\n",
    "import os\n",
    "\n",
    "import pandas as pd\n",
    "import numpy as np\n",
    "from sklearn.pipeline import Pipeline\n",
    "from sklearn.model_selection import cross_validate"
   ]
  },
  {
   "cell_type": "code",
   "execution_count": 3,
   "metadata": {},
   "outputs": [],
   "source": [
    "# Set Pandas option to show all columns in prints\n",
    "pd.set_option('display.max_columns', None)"
   ]
  },
  {
   "cell_type": "code",
   "execution_count": 4,
   "metadata": {},
   "outputs": [],
   "source": [
    "# Get the current working directory\n",
    "current_dir = os.getcwd()\n",
    "\n",
    "# Add the src directory to sys.path to use custom functions\n",
    "sys.path.append(os.path.abspath(os.path.join(current_dir, '..', 'src')))"
   ]
  },
  {
   "cell_type": "code",
   "execution_count": 5,
   "metadata": {},
   "outputs": [],
   "source": [
    "from models.null import SklearnNullRegressor"
   ]
  },
  {
   "cell_type": "code",
   "execution_count": 6,
   "metadata": {},
   "outputs": [],
   "source": [
    "df = pd.read_parquet(df_path)"
   ]
  },
  {
   "cell_type": "code",
   "execution_count": 7,
   "metadata": {},
   "outputs": [
    {
     "data": {
      "text/html": [
       "<div>\n",
       "<style scoped>\n",
       "    .dataframe tbody tr th:only-of-type {\n",
       "        vertical-align: middle;\n",
       "    }\n",
       "\n",
       "    .dataframe tbody tr th {\n",
       "        vertical-align: top;\n",
       "    }\n",
       "\n",
       "    .dataframe thead th {\n",
       "        text-align: right;\n",
       "    }\n",
       "</style>\n",
       "<table border=\"1\" class=\"dataframe\">\n",
       "  <thead>\n",
       "    <tr style=\"text-align: right;\">\n",
       "      <th></th>\n",
       "      <th>flightDayOfWeekSin</th>\n",
       "      <th>flightDayOfWeekCos</th>\n",
       "      <th>flightMonthSin</th>\n",
       "      <th>flightMonthCos</th>\n",
       "      <th>flightHourSin</th>\n",
       "      <th>flightHourCos</th>\n",
       "      <th>flightMinuteSin</th>\n",
       "      <th>flightMinuteCos</th>\n",
       "      <th>timeDeltaDays</th>\n",
       "      <th>travelDurationDay</th>\n",
       "      <th>totalTravelDistance</th>\n",
       "      <th>totalFare</th>\n",
       "      <th>isBasicEconomy</th>\n",
       "      <th>isRefundable</th>\n",
       "      <th>isNonStop</th>\n",
       "      <th>numLegs</th>\n",
       "      <th>business</th>\n",
       "      <th>coach</th>\n",
       "      <th>first</th>\n",
       "      <th>premium coach</th>\n",
       "    </tr>\n",
       "  </thead>\n",
       "  <tbody>\n",
       "    <tr>\n",
       "      <th>0</th>\n",
       "      <td>-0.433884</td>\n",
       "      <td>-0.900969</td>\n",
       "      <td>0.5</td>\n",
       "      <td>-0.866025</td>\n",
       "      <td>0.000000e+00</td>\n",
       "      <td>1.000000e+00</td>\n",
       "      <td>-2.079117e-01</td>\n",
       "      <td>0.978148</td>\n",
       "      <td>34</td>\n",
       "      <td>0.406250</td>\n",
       "      <td>1931.0</td>\n",
       "      <td>129.58</td>\n",
       "      <td>-1</td>\n",
       "      <td>-1</td>\n",
       "      <td>-1</td>\n",
       "      <td>2</td>\n",
       "      <td>-1</td>\n",
       "      <td>1</td>\n",
       "      <td>-1</td>\n",
       "      <td>-1</td>\n",
       "    </tr>\n",
       "    <tr>\n",
       "      <th>1</th>\n",
       "      <td>-0.433884</td>\n",
       "      <td>-0.900969</td>\n",
       "      <td>0.5</td>\n",
       "      <td>-0.866025</td>\n",
       "      <td>1.000000e+00</td>\n",
       "      <td>6.123234e-17</td>\n",
       "      <td>9.510565e-01</td>\n",
       "      <td>-0.309017</td>\n",
       "      <td>34</td>\n",
       "      <td>0.181944</td>\n",
       "      <td>1947.0</td>\n",
       "      <td>228.59</td>\n",
       "      <td>-1</td>\n",
       "      <td>-1</td>\n",
       "      <td>1</td>\n",
       "      <td>1</td>\n",
       "      <td>-1</td>\n",
       "      <td>1</td>\n",
       "      <td>-1</td>\n",
       "      <td>-1</td>\n",
       "    </tr>\n",
       "    <tr>\n",
       "      <th>2</th>\n",
       "      <td>0.433884</td>\n",
       "      <td>-0.900969</td>\n",
       "      <td>0.5</td>\n",
       "      <td>-0.866025</td>\n",
       "      <td>-9.659258e-01</td>\n",
       "      <td>-2.588190e-01</td>\n",
       "      <td>-9.510565e-01</td>\n",
       "      <td>-0.309017</td>\n",
       "      <td>33</td>\n",
       "      <td>0.182639</td>\n",
       "      <td>1947.0</td>\n",
       "      <td>228.59</td>\n",
       "      <td>-1</td>\n",
       "      <td>-1</td>\n",
       "      <td>1</td>\n",
       "      <td>1</td>\n",
       "      <td>-1</td>\n",
       "      <td>1</td>\n",
       "      <td>-1</td>\n",
       "      <td>-1</td>\n",
       "    </tr>\n",
       "    <tr>\n",
       "      <th>3</th>\n",
       "      <td>0.433884</td>\n",
       "      <td>-0.900969</td>\n",
       "      <td>0.5</td>\n",
       "      <td>-0.866025</td>\n",
       "      <td>1.224647e-16</td>\n",
       "      <td>-1.000000e+00</td>\n",
       "      <td>5.665539e-16</td>\n",
       "      <td>-1.000000</td>\n",
       "      <td>33</td>\n",
       "      <td>0.253472</td>\n",
       "      <td>1947.0</td>\n",
       "      <td>301.58</td>\n",
       "      <td>-1</td>\n",
       "      <td>-1</td>\n",
       "      <td>-1</td>\n",
       "      <td>2</td>\n",
       "      <td>-1</td>\n",
       "      <td>1</td>\n",
       "      <td>-1</td>\n",
       "      <td>-1</td>\n",
       "    </tr>\n",
       "    <tr>\n",
       "      <th>4</th>\n",
       "      <td>0.433884</td>\n",
       "      <td>-0.900969</td>\n",
       "      <td>0.5</td>\n",
       "      <td>-0.866025</td>\n",
       "      <td>-2.588190e-01</td>\n",
       "      <td>-9.659258e-01</td>\n",
       "      <td>0.000000e+00</td>\n",
       "      <td>1.000000</td>\n",
       "      <td>33</td>\n",
       "      <td>0.255556</td>\n",
       "      <td>1947.0</td>\n",
       "      <td>309.58</td>\n",
       "      <td>-1</td>\n",
       "      <td>-1</td>\n",
       "      <td>-1</td>\n",
       "      <td>2</td>\n",
       "      <td>-1</td>\n",
       "      <td>1</td>\n",
       "      <td>-1</td>\n",
       "      <td>-1</td>\n",
       "    </tr>\n",
       "  </tbody>\n",
       "</table>\n",
       "</div>"
      ],
      "text/plain": [
       "   flightDayOfWeekSin  flightDayOfWeekCos  flightMonthSin  flightMonthCos  \\\n",
       "0           -0.433884           -0.900969             0.5       -0.866025   \n",
       "1           -0.433884           -0.900969             0.5       -0.866025   \n",
       "2            0.433884           -0.900969             0.5       -0.866025   \n",
       "3            0.433884           -0.900969             0.5       -0.866025   \n",
       "4            0.433884           -0.900969             0.5       -0.866025   \n",
       "\n",
       "   flightHourSin  flightHourCos  flightMinuteSin  flightMinuteCos  \\\n",
       "0   0.000000e+00   1.000000e+00    -2.079117e-01         0.978148   \n",
       "1   1.000000e+00   6.123234e-17     9.510565e-01        -0.309017   \n",
       "2  -9.659258e-01  -2.588190e-01    -9.510565e-01        -0.309017   \n",
       "3   1.224647e-16  -1.000000e+00     5.665539e-16        -1.000000   \n",
       "4  -2.588190e-01  -9.659258e-01     0.000000e+00         1.000000   \n",
       "\n",
       "   timeDeltaDays  travelDurationDay  totalTravelDistance  totalFare  \\\n",
       "0             34           0.406250               1931.0     129.58   \n",
       "1             34           0.181944               1947.0     228.59   \n",
       "2             33           0.182639               1947.0     228.59   \n",
       "3             33           0.253472               1947.0     301.58   \n",
       "4             33           0.255556               1947.0     309.58   \n",
       "\n",
       "   isBasicEconomy  isRefundable  isNonStop  numLegs  business  coach  first  \\\n",
       "0              -1            -1         -1        2        -1      1     -1   \n",
       "1              -1            -1          1        1        -1      1     -1   \n",
       "2              -1            -1          1        1        -1      1     -1   \n",
       "3              -1            -1         -1        2        -1      1     -1   \n",
       "4              -1            -1         -1        2        -1      1     -1   \n",
       "\n",
       "   premium coach  \n",
       "0             -1  \n",
       "1             -1  \n",
       "2             -1  \n",
       "3             -1  \n",
       "4             -1  "
      ]
     },
     "execution_count": 7,
     "metadata": {},
     "output_type": "execute_result"
    }
   ],
   "source": [
    "df.head()"
   ]
  },
  {
   "cell_type": "markdown",
   "metadata": {},
   "source": [
    "## Random sampling"
   ]
  },
  {
   "cell_type": "markdown",
   "metadata": {},
   "source": [
    "The dataset is fairly large, so I will only choose a sample without replacement of 50000 observations to test a variety of machine learning models. \n",
    "\n",
    "For all subsequent experiments, these same samples will be used, so I will perform a 2-sample Kolmogorov-Smirnov test to test the null hypothesis $H_0$ that the samples come from the same probability distribution as their populations. I will keep resampling until all columns achieve a p-value of at least 0.75, indicating failure to reject $H_0$ at significance level $\\alpha=0.05$, which suggests that the samples are very likely to come from the same distribution as their populations."
   ]
  },
  {
   "cell_type": "code",
   "execution_count": 8,
   "metadata": {},
   "outputs": [],
   "source": [
    "from models.stats import ks_test"
   ]
  },
  {
   "cell_type": "code",
   "execution_count": 9,
   "metadata": {},
   "outputs": [],
   "source": [
    "random_state = 0\n",
    "\n",
    "df_sample = None\n",
    "\n",
    "p_values_dict = {col: 0.0 for col in df.columns}"
   ]
  },
  {
   "cell_type": "code",
   "execution_count": 10,
   "metadata": {},
   "outputs": [
    {
     "name": "stdout",
     "output_type": "stream",
     "text": [
      "Random state: 1, {'flightDayOfWeekSin': np.float64(0.6568596667360618), 'flightDayOfWeekCos': np.float64(0.5368644651571088), 'flightMonthSin': np.float64(0.9999993451378185), 'flightMonthCos': np.float64(0.9999982100100006), 'flightHourSin': np.float64(0.6583487941790305), 'flightHourCos': np.float64(0.8180809319276218), 'flightMinuteSin': np.float64(0.897973812594328), 'flightMinuteCos': np.float64(0.48996142053407854), 'timeDeltaDays': np.float64(0.8781072351889596), 'travelDurationDay': np.float64(0.24576270607136508), 'totalTravelDistance': np.float64(0.8865257034605957), 'totalFare': np.float64(0.360449514286697), 'isBasicEconomy': np.float64(0.9837906466664834), 'isRefundable': np.float64(1.0), 'isNonStop': np.float64(0.9999999999999999), 'numLegs': np.float64(0.9999999999999999), 'business': np.float64(1.0), 'coach': np.float64(1.0), 'first': np.float64(1.0), 'premium coach': np.float64(1.0)}\n",
      "Random state: 2, {'flightDayOfWeekSin': np.float64(0.9912414447993826), 'flightDayOfWeekCos': np.float64(0.7156332926917903), 'flightMonthSin': np.float64(0.43912495034307286), 'flightMonthCos': np.float64(0.43912495034307286), 'flightHourSin': np.float64(0.2683064277638507), 'flightHourCos': np.float64(0.373821443012361), 'flightMinuteSin': np.float64(0.8680467322180634), 'flightMinuteCos': np.float64(0.960551939843715), 'timeDeltaDays': np.float64(0.11663464036184057), 'travelDurationDay': np.float64(0.8029364362551337), 'totalTravelDistance': np.float64(0.27590529874092873), 'totalFare': np.float64(0.5914024958092965), 'isBasicEconomy': np.float64(1.0), 'isRefundable': np.float64(1.0), 'isNonStop': np.float64(0.9999845249719455), 'numLegs': np.float64(0.9999845249719455), 'business': np.float64(1.0), 'coach': np.float64(1.0), 'first': np.float64(1.0), 'premium coach': np.float64(1.0)}\n",
      "Random state: 3, {'flightDayOfWeekSin': np.float64(0.37781006972170283), 'flightDayOfWeekCos': np.float64(0.9863520738988969), 'flightMonthSin': np.float64(0.15804234165556363), 'flightMonthCos': np.float64(0.03895636321889673), 'flightHourSin': np.float64(0.0030977192666499114), 'flightHourCos': np.float64(0.04907704677669289), 'flightMinuteSin': np.float64(0.8978938828605016), 'flightMinuteCos': np.float64(0.8037440101178377), 'timeDeltaDays': np.float64(0.47630681805579667), 'travelDurationDay': np.float64(0.6543934849771675), 'totalTravelDistance': np.float64(0.9557594543018091), 'totalFare': np.float64(0.4685760051246418), 'isBasicEconomy': np.float64(1.0), 'isRefundable': np.float64(1.0), 'isNonStop': np.float64(0.9914114592716258), 'numLegs': np.float64(0.9914114592716258), 'business': np.float64(1.0), 'coach': np.float64(1.0), 'first': np.float64(1.0), 'premium coach': np.float64(1.0)}\n",
      "Random state: 4, {'flightDayOfWeekSin': np.float64(0.9658683865470395), 'flightDayOfWeekCos': np.float64(0.8575236316587094), 'flightMonthSin': np.float64(0.9999999999287491), 'flightMonthCos': np.float64(0.9999999999287491), 'flightHourSin': np.float64(0.38156919782507004), 'flightHourCos': np.float64(0.15112789936161697), 'flightMinuteSin': np.float64(0.5908460649776099), 'flightMinuteCos': np.float64(0.4641472825115224), 'timeDeltaDays': np.float64(0.8510776968184217), 'travelDurationDay': np.float64(0.8782517037268236), 'totalTravelDistance': np.float64(0.436907533412801), 'totalFare': np.float64(0.3479802133137593), 'isBasicEconomy': np.float64(1.0), 'isRefundable': np.float64(1.0), 'isNonStop': np.float64(1.0), 'numLegs': np.float64(1.0), 'business': np.float64(1.0), 'coach': np.float64(1.0), 'first': np.float64(1.0), 'premium coach': np.float64(1.0)}\n",
      "Random state: 5, {'flightDayOfWeekSin': np.float64(0.9116223945861054), 'flightDayOfWeekCos': np.float64(0.7807978788412488), 'flightMonthSin': np.float64(0.9446207758033958), 'flightMonthCos': np.float64(0.9446207758033958), 'flightHourSin': np.float64(0.9998377478163184), 'flightHourCos': np.float64(0.9722878159068924), 'flightMinuteSin': np.float64(0.9430961007768328), 'flightMinuteCos': np.float64(0.5719605237858092), 'timeDeltaDays': np.float64(0.9372412620263443), 'travelDurationDay': np.float64(0.5329668760649069), 'totalTravelDistance': np.float64(0.2997246342824256), 'totalFare': np.float64(0.886149767650805), 'isBasicEconomy': np.float64(1.0), 'isRefundable': np.float64(1.0), 'isNonStop': np.float64(0.9999999999953492), 'numLegs': np.float64(0.9999998490218422), 'business': np.float64(1.0), 'coach': np.float64(1.0), 'first': np.float64(1.0), 'premium coach': np.float64(1.0)}\n",
      "Random state: 6, {'flightDayOfWeekSin': np.float64(0.4870573500430587), 'flightDayOfWeekCos': np.float64(0.6717089031441968), 'flightMonthSin': np.float64(0.9929452096992893), 'flightMonthCos': np.float64(0.9929452096992893), 'flightHourSin': np.float64(0.23966180233210543), 'flightHourCos': np.float64(0.97404605882621), 'flightMinuteSin': np.float64(0.9115127061821984), 'flightMinuteCos': np.float64(0.7766179333946708), 'timeDeltaDays': np.float64(0.4445914634311767), 'travelDurationDay': np.float64(0.3818477467162009), 'totalTravelDistance': np.float64(0.7962434852181797), 'totalFare': np.float64(0.07427534096088106), 'isBasicEconomy': np.float64(1.0), 'isRefundable': np.float64(1.0), 'isNonStop': np.float64(0.9999947716680376), 'numLegs': np.float64(0.9999947716680376), 'business': np.float64(1.0), 'coach': np.float64(1.0), 'first': np.float64(1.0), 'premium coach': np.float64(1.0)}\n",
      "Random state: 7, {'flightDayOfWeekSin': np.float64(0.7957548227837664), 'flightDayOfWeekCos': np.float64(0.228558166733549), 'flightMonthSin': np.float64(0.7073249396916639), 'flightMonthCos': np.float64(0.7073249396916639), 'flightHourSin': np.float64(0.20201201308182704), 'flightHourCos': np.float64(0.9779444582635173), 'flightMinuteSin': np.float64(0.008677144138365789), 'flightMinuteCos': np.float64(0.5621062263661043), 'timeDeltaDays': np.float64(0.8593643219935283), 'travelDurationDay': np.float64(0.9680258871305459), 'totalTravelDistance': np.float64(0.20419786763664427), 'totalFare': np.float64(0.8997283572822947), 'isBasicEconomy': np.float64(0.9999939114941547), 'isRefundable': np.float64(1.0), 'isNonStop': np.float64(1.0), 'numLegs': np.float64(1.0), 'business': np.float64(1.0), 'coach': np.float64(1.0), 'first': np.float64(1.0), 'premium coach': np.float64(1.0)}\n",
      "Random state: 8, {'flightDayOfWeekSin': np.float64(0.8093610348150049), 'flightDayOfWeekCos': np.float64(0.6169258294549181), 'flightMonthSin': np.float64(0.9719398745613204), 'flightMonthCos': np.float64(0.9719398745613204), 'flightHourSin': np.float64(0.9865406138821052), 'flightHourCos': np.float64(0.4797669956620214), 'flightMinuteSin': np.float64(0.6494226627168925), 'flightMinuteCos': np.float64(0.0812613694026948), 'timeDeltaDays': np.float64(0.7178091805063815), 'travelDurationDay': np.float64(0.47667445363761773), 'totalTravelDistance': np.float64(0.6952711570699764), 'totalFare': np.float64(0.5905575346633958), 'isBasicEconomy': np.float64(0.9040814952848598), 'isRefundable': np.float64(1.0), 'isNonStop': np.float64(0.11725677019789671), 'numLegs': np.float64(0.11725677019791025), 'business': np.float64(1.0), 'coach': np.float64(1.0), 'first': np.float64(1.0), 'premium coach': np.float64(1.0)}\n",
      "Random state: 9, {'flightDayOfWeekSin': np.float64(0.4367884470381289), 'flightDayOfWeekCos': np.float64(0.38197718581209605), 'flightMonthSin': np.float64(0.9999999992546293), 'flightMonthCos': np.float64(0.9999999992546293), 'flightHourSin': np.float64(0.9937004852060489), 'flightHourCos': np.float64(0.35599613737946023), 'flightMinuteSin': np.float64(0.7297346185063851), 'flightMinuteCos': np.float64(0.17367450555806452), 'timeDeltaDays': np.float64(0.9984537605030464), 'travelDurationDay': np.float64(0.12580787221081347), 'totalTravelDistance': np.float64(0.8174208247755126), 'totalFare': np.float64(0.11268301702722006), 'isBasicEconomy': np.float64(1.0), 'isRefundable': np.float64(1.0), 'isNonStop': np.float64(1.0), 'numLegs': np.float64(1.0), 'business': np.float64(1.0), 'coach': np.float64(1.0), 'first': np.float64(1.0), 'premium coach': np.float64(1.0)}\n",
      "Random state: 10, {'flightDayOfWeekSin': np.float64(0.7442979703856465), 'flightDayOfWeekCos': np.float64(0.18798492803411437), 'flightMonthSin': np.float64(1.0), 'flightMonthCos': np.float64(1.0), 'flightHourSin': np.float64(0.42264787915682533), 'flightHourCos': np.float64(0.9637141751742914), 'flightMinuteSin': np.float64(0.9253475213417557), 'flightMinuteCos': np.float64(0.6421987659885913), 'timeDeltaDays': np.float64(0.8150972538656112), 'travelDurationDay': np.float64(0.09625860183057156), 'totalTravelDistance': np.float64(0.7172989546294842), 'totalFare': np.float64(0.6713563799206337), 'isBasicEconomy': np.float64(0.9999999985738929), 'isRefundable': np.float64(1.0), 'isNonStop': np.float64(0.2723365231902354), 'numLegs': np.float64(0.27233652319022206), 'business': np.float64(1.0), 'coach': np.float64(1.0), 'first': np.float64(1.0), 'premium coach': np.float64(1.0)}\n",
      "Random state: 11, {'flightDayOfWeekSin': np.float64(0.9999764927051346), 'flightDayOfWeekCos': np.float64(0.8953908068978566), 'flightMonthSin': np.float64(0.887392322922756), 'flightMonthCos': np.float64(0.6771552038227103), 'flightHourSin': np.float64(0.8248494412417003), 'flightHourCos': np.float64(0.9990477242981974), 'flightMinuteSin': np.float64(0.3304097479675837), 'flightMinuteCos': np.float64(0.94174253490171), 'timeDeltaDays': np.float64(0.5225605332902736), 'travelDurationDay': np.float64(0.4738989872664262), 'totalTravelDistance': np.float64(0.6513956386528557), 'totalFare': np.float64(0.8255036652700141), 'isBasicEconomy': np.float64(1.0), 'isRefundable': np.float64(1.0), 'isNonStop': np.float64(0.9999999998398167), 'numLegs': np.float64(0.9999999998398167), 'business': np.float64(1.0), 'coach': np.float64(1.0), 'first': np.float64(1.0), 'premium coach': np.float64(1.0)}\n",
      "Random state: 12, {'flightDayOfWeekSin': np.float64(0.9998493547381669), 'flightDayOfWeekCos': np.float64(0.99981102025488), 'flightMonthSin': np.float64(0.98335978560332), 'flightMonthCos': np.float64(0.98335978560332), 'flightHourSin': np.float64(0.9872737634501988), 'flightHourCos': np.float64(0.9956606791051702), 'flightMinuteSin': np.float64(0.24960855771261792), 'flightMinuteCos': np.float64(0.3803008885855831), 'timeDeltaDays': np.float64(0.23775713518213126), 'travelDurationDay': np.float64(0.5278300842653881), 'totalTravelDistance': np.float64(0.5480635350750469), 'totalFare': np.float64(0.8058275765581959), 'isBasicEconomy': np.float64(0.9936744025493456), 'isRefundable': np.float64(1.0), 'isNonStop': np.float64(1.0), 'numLegs': np.float64(0.9979846873858792), 'business': np.float64(1.0), 'coach': np.float64(1.0), 'first': np.float64(1.0), 'premium coach': np.float64(1.0)}\n",
      "Random state: 13, {'flightDayOfWeekSin': np.float64(0.9267590865406139), 'flightDayOfWeekCos': np.float64(0.9657111014001147), 'flightMonthSin': np.float64(0.9172616340426858), 'flightMonthCos': np.float64(0.9172616340426858), 'flightHourSin': np.float64(0.9989241545952344), 'flightHourCos': np.float64(0.3979562956149556), 'flightMinuteSin': np.float64(0.9982036370229982), 'flightMinuteCos': np.float64(0.999504917304194), 'timeDeltaDays': np.float64(0.7795864012953718), 'travelDurationDay': np.float64(0.3257924135758774), 'totalTravelDistance': np.float64(0.6183272237206594), 'totalFare': np.float64(0.20045437774189334), 'isBasicEconomy': np.float64(1.0), 'isRefundable': np.float64(1.0), 'isNonStop': np.float64(0.9673353822466946), 'numLegs': np.float64(0.967335382246702), 'business': np.float64(1.0), 'coach': np.float64(1.0), 'first': np.float64(1.0), 'premium coach': np.float64(1.0)}\n",
      "Random state: 14, {'flightDayOfWeekSin': np.float64(0.2265598734839711), 'flightDayOfWeekCos': np.float64(0.8174735886580246), 'flightMonthSin': np.float64(0.9992942015423695), 'flightMonthCos': np.float64(0.9987576447099316), 'flightHourSin': np.float64(0.991760530554895), 'flightHourCos': np.float64(0.8284449633353275), 'flightMinuteSin': np.float64(0.25419066205110763), 'flightMinuteCos': np.float64(0.7491366580228167), 'timeDeltaDays': np.float64(0.9972124704478356), 'travelDurationDay': np.float64(0.5862707720890212), 'totalTravelDistance': np.float64(0.5768777445668666), 'totalFare': np.float64(0.7584083661285479), 'isBasicEconomy': np.float64(1.0), 'isRefundable': np.float64(1.0), 'isNonStop': np.float64(1.0), 'numLegs': np.float64(1.0), 'business': np.float64(1.0), 'coach': np.float64(1.0), 'first': np.float64(1.0), 'premium coach': np.float64(1.0)}\n",
      "Random state: 15, {'flightDayOfWeekSin': np.float64(0.9747839704715647), 'flightDayOfWeekCos': np.float64(0.6932713821832943), 'flightMonthSin': np.float64(0.9999460481330549), 'flightMonthCos': np.float64(0.9999999987891043), 'flightHourSin': np.float64(0.9810264865456678), 'flightHourCos': np.float64(0.25806890392643966), 'flightMinuteSin': np.float64(0.8441779046270982), 'flightMinuteCos': np.float64(0.8868039150149472), 'timeDeltaDays': np.float64(0.7453947742523421), 'travelDurationDay': np.float64(0.8884867074084546), 'totalTravelDistance': np.float64(0.9984373001289438), 'totalFare': np.float64(0.4190752153358127), 'isBasicEconomy': np.float64(1.0), 'isRefundable': np.float64(1.0), 'isNonStop': np.float64(0.999999961466415), 'numLegs': np.float64(0.9994820276681877), 'business': np.float64(1.0), 'coach': np.float64(1.0), 'first': np.float64(1.0), 'premium coach': np.float64(1.0)}\n",
      "Random state: 16, {'flightDayOfWeekSin': np.float64(0.9791775697212189), 'flightDayOfWeekCos': np.float64(0.9965814631172188), 'flightMonthSin': np.float64(0.9851363888047622), 'flightMonthCos': np.float64(0.9567927183874485), 'flightHourSin': np.float64(0.46847228711781697), 'flightHourCos': np.float64(0.5261264245409591), 'flightMinuteSin': np.float64(0.37439339581328956), 'flightMinuteCos': np.float64(0.4511656403446923), 'timeDeltaDays': np.float64(0.7234985902164908), 'travelDurationDay': np.float64(0.09762867968021993), 'totalTravelDistance': np.float64(0.30358716604836644), 'totalFare': np.float64(0.13461026722889502), 'isBasicEconomy': np.float64(1.0), 'isRefundable': np.float64(1.0), 'isNonStop': np.float64(0.17048701891270668), 'numLegs': np.float64(0.17048701891270668), 'business': np.float64(1.0), 'coach': np.float64(1.0), 'first': np.float64(1.0), 'premium coach': np.float64(1.0)}\n",
      "Random state: 17, {'flightDayOfWeekSin': np.float64(0.41732134948857624), 'flightDayOfWeekCos': np.float64(0.9962414434475926), 'flightMonthSin': np.float64(0.9973102765125933), 'flightMonthCos': np.float64(0.9893027125082497), 'flightHourSin': np.float64(0.46366269792472936), 'flightHourCos': np.float64(0.027813080979912086), 'flightMinuteSin': np.float64(0.8375153571429291), 'flightMinuteCos': np.float64(0.8231052856851626), 'timeDeltaDays': np.float64(0.848089957472566), 'travelDurationDay': np.float64(0.3534966965943852), 'totalTravelDistance': np.float64(0.35153049902367894), 'totalFare': np.float64(0.7381810259963641), 'isBasicEconomy': np.float64(0.9973836394728499), 'isRefundable': np.float64(1.0), 'isNonStop': np.float64(1.0), 'numLegs': np.float64(1.0), 'business': np.float64(1.0), 'coach': np.float64(1.0), 'first': np.float64(1.0), 'premium coach': np.float64(1.0)}\n",
      "Random state: 18, {'flightDayOfWeekSin': np.float64(0.9890753940122152), 'flightDayOfWeekCos': np.float64(0.9892929486626485), 'flightMonthSin': np.float64(0.9905297362211247), 'flightMonthCos': np.float64(0.8978406427630183), 'flightHourSin': np.float64(0.9214050708087596), 'flightHourCos': np.float64(0.985381647470601), 'flightMinuteSin': np.float64(0.652007184736739), 'flightMinuteCos': np.float64(0.961766441901048), 'timeDeltaDays': np.float64(0.1790183209516092), 'travelDurationDay': np.float64(0.9129758855555167), 'totalTravelDistance': np.float64(0.9911337614648403), 'totalFare': np.float64(0.6120286900244825), 'isBasicEconomy': np.float64(0.9999999928603965), 'isRefundable': np.float64(1.0), 'isNonStop': np.float64(0.9999999999937493), 'numLegs': np.float64(0.9999999999937493), 'business': np.float64(1.0), 'coach': np.float64(1.0), 'first': np.float64(1.0), 'premium coach': np.float64(1.0)}\n",
      "Random state: 19, {'flightDayOfWeekSin': np.float64(0.7854793739978528), 'flightDayOfWeekCos': np.float64(0.9980372114228627), 'flightMonthSin': np.float64(0.662355220973101), 'flightMonthCos': np.float64(0.662355220973101), 'flightHourSin': np.float64(0.9912838057357867), 'flightHourCos': np.float64(0.9954326040599449), 'flightMinuteSin': np.float64(0.8383500068982788), 'flightMinuteCos': np.float64(0.3934639800895926), 'timeDeltaDays': np.float64(0.8228964762087946), 'travelDurationDay': np.float64(0.9208630900200108), 'totalTravelDistance': np.float64(0.994630655070727), 'totalFare': np.float64(0.5943779162420232), 'isBasicEconomy': np.float64(0.9357842361668405), 'isRefundable': np.float64(1.0), 'isNonStop': np.float64(0.9975450580020059), 'numLegs': np.float64(0.9975450580020082), 'business': np.float64(1.0), 'coach': np.float64(1.0), 'first': np.float64(1.0), 'premium coach': np.float64(1.0)}\n",
      "Random state: 20, {'flightDayOfWeekSin': np.float64(0.8451830120571024), 'flightDayOfWeekCos': np.float64(0.34978707473822634), 'flightMonthSin': np.float64(0.9266625972637749), 'flightMonthCos': np.float64(0.616984762757425), 'flightHourSin': np.float64(0.6217630676282122), 'flightHourCos': np.float64(0.822494512587242), 'flightMinuteSin': np.float64(0.46016860637239554), 'flightMinuteCos': np.float64(0.8738026279971517), 'timeDeltaDays': np.float64(0.6337253335299995), 'travelDurationDay': np.float64(0.70832559637991), 'totalTravelDistance': np.float64(0.30981598639135977), 'totalFare': np.float64(0.9347830300874314), 'isBasicEconomy': np.float64(1.0), 'isRefundable': np.float64(1.0), 'isNonStop': np.float64(1.0), 'numLegs': np.float64(0.9988338984049221), 'business': np.float64(1.0), 'coach': np.float64(1.0), 'first': np.float64(1.0), 'premium coach': np.float64(1.0)}\n",
      "Random state: 21, {'flightDayOfWeekSin': np.float64(0.877810588890687), 'flightDayOfWeekCos': np.float64(0.19537503530534805), 'flightMonthSin': np.float64(0.9405006452259675), 'flightMonthCos': np.float64(0.9405006452259675), 'flightHourSin': np.float64(0.7832206893421297), 'flightHourCos': np.float64(0.391172947710827), 'flightMinuteSin': np.float64(0.7346787461166848), 'flightMinuteCos': np.float64(0.3025358831586441), 'timeDeltaDays': np.float64(0.8438625741721908), 'travelDurationDay': np.float64(0.2460670915122598), 'totalTravelDistance': np.float64(0.6585528073058953), 'totalFare': np.float64(0.50581258474856), 'isBasicEconomy': np.float64(0.9969279012658201), 'isRefundable': np.float64(1.0), 'isNonStop': np.float64(0.9624179776150925), 'numLegs': np.float64(0.9624179776150843), 'business': np.float64(1.0), 'coach': np.float64(1.0), 'first': np.float64(1.0), 'premium coach': np.float64(1.0)}\n",
      "Random state: 22, {'flightDayOfWeekSin': np.float64(0.9793205533599805), 'flightDayOfWeekCos': np.float64(0.7977704716464755), 'flightMonthSin': np.float64(0.9964357541446297), 'flightMonthCos': np.float64(0.9999956675333632), 'flightHourSin': np.float64(0.623355116992715), 'flightHourCos': np.float64(0.9579251473990231), 'flightMinuteSin': np.float64(0.5509482712847211), 'flightMinuteCos': np.float64(0.7273591285213872), 'timeDeltaDays': np.float64(0.8960621536929619), 'travelDurationDay': np.float64(0.9088387737274017), 'totalTravelDistance': np.float64(0.795064542667175), 'totalFare': np.float64(0.9390834343145299), 'isBasicEconomy': np.float64(1.0), 'isRefundable': np.float64(1.0), 'isNonStop': np.float64(1.0), 'numLegs': np.float64(0.9999999999948779), 'business': np.float64(1.0), 'coach': np.float64(1.0), 'first': np.float64(1.0), 'premium coach': np.float64(1.0)}\n"
     ]
    }
   ],
   "source": [
    "while not all(p >= 0.5 for p in p_values_dict.values()):\n",
    "    random_state += 1\n",
    "    df_sample = df.sample(\n",
    "        n=50000, replace=False, random_state=random_state)\n",
    "    p_values_dict = ks_test(sample=df_sample, population=df)\n",
    "    print(f\"Random state: {random_state}, {p_values_dict}\")"
   ]
  },
  {
   "cell_type": "code",
   "execution_count": 11,
   "metadata": {},
   "outputs": [
    {
     "name": "stdout",
     "output_type": "stream",
     "text": [
      "{'flightDayOfWeekSin': np.float64(0.9793205533599805), 'flightDayOfWeekCos': np.float64(0.7977704716464755), 'flightMonthSin': np.float64(0.9964357541446297), 'flightMonthCos': np.float64(0.9999956675333632), 'flightHourSin': np.float64(0.623355116992715), 'flightHourCos': np.float64(0.9579251473990231), 'flightMinuteSin': np.float64(0.5509482712847211), 'flightMinuteCos': np.float64(0.7273591285213872), 'timeDeltaDays': np.float64(0.8960621536929619), 'travelDurationDay': np.float64(0.9088387737274017), 'totalTravelDistance': np.float64(0.795064542667175), 'totalFare': np.float64(0.9390834343145299), 'isBasicEconomy': np.float64(1.0), 'isRefundable': np.float64(1.0), 'isNonStop': np.float64(1.0), 'numLegs': np.float64(0.9999999999948779), 'business': np.float64(1.0), 'coach': np.float64(1.0), 'first': np.float64(1.0), 'premium coach': np.float64(1.0)}\n"
     ]
    }
   ],
   "source": [
    "# This is a fairly good sample in that it's statistically significant in the KS test\n",
    "print(p_values_dict)"
   ]
  },
  {
   "cell_type": "code",
   "execution_count": 12,
   "metadata": {},
   "outputs": [],
   "source": [
    "df_sample.to_parquet(f\"{ROOT_PATH_FROM_NOTEBOOK}/{DATA_PATH}/{PROCESSED_DATA_PATH}/data_sample.parquet\", index=False)"
   ]
  },
  {
   "cell_type": "markdown",
   "metadata": {},
   "source": [
    "## Pop the target column"
   ]
  },
  {
   "cell_type": "code",
   "execution_count": 13,
   "metadata": {},
   "outputs": [],
   "source": [
    "y = df_sample.pop('totalFare')\n",
    "X = df_sample"
   ]
  },
  {
   "cell_type": "markdown",
   "metadata": {},
   "source": [
    "## Null Regressor with Cross Validation"
   ]
  },
  {
   "cell_type": "markdown",
   "metadata": {},
   "source": [
    "To get a fair comparison with all other models which will employ cross-validation for model selection, I will also be performing cross-validation for the baseline model. \n",
    "\n",
    "Each model will go through 5-fold cross-validation using the sample dataset."
   ]
  },
  {
   "cell_type": "code",
   "execution_count": 16,
   "metadata": {},
   "outputs": [
    {
     "name": "stdout",
     "output_type": "stream",
     "text": [
      "Looking in indexes: https://test.pypi.org/simple/\n",
      "Collecting assignment2_pkg_11919925\n",
      "  Using cached https://test-files.pythonhosted.org/packages/56/79/e68a19a7ce3f46c686492a7aa9d9f538346ec109eca03c04e0f79fb51e1b/assignment2_pkg_11919925-1.0.10-py3-none-any.whl.metadata (1.5 kB)\n",
      "Requirement already satisfied: matplotlib<4.0.0,>=3.9.2 in /Users/nicholasle/Desktop/University/UTS/2024/spr-2024/36120_advanced_ml_applications/assignments/assignment3/Airfare_Predict/.venv/lib/python3.11/site-packages (from assignment2_pkg_11919925) (3.9.2)\n",
      "Requirement already satisfied: pandas==2.2.2 in /Users/nicholasle/Desktop/University/UTS/2024/spr-2024/36120_advanced_ml_applications/assignments/assignment3/Airfare_Predict/.venv/lib/python3.11/site-packages (from assignment2_pkg_11919925) (2.2.2)\n",
      "Requirement already satisfied: scikit-learn==1.5.1 in /Users/nicholasle/Desktop/University/UTS/2024/spr-2024/36120_advanced_ml_applications/assignments/assignment3/Airfare_Predict/.venv/lib/python3.11/site-packages (from assignment2_pkg_11919925) (1.5.1)\n",
      "Requirement already satisfied: numpy>=1.23.2 in /Users/nicholasle/Desktop/University/UTS/2024/spr-2024/36120_advanced_ml_applications/assignments/assignment3/Airfare_Predict/.venv/lib/python3.11/site-packages (from pandas==2.2.2->assignment2_pkg_11919925) (2.1.2)\n",
      "Requirement already satisfied: python-dateutil>=2.8.2 in /Users/nicholasle/Desktop/University/UTS/2024/spr-2024/36120_advanced_ml_applications/assignments/assignment3/Airfare_Predict/.venv/lib/python3.11/site-packages (from pandas==2.2.2->assignment2_pkg_11919925) (2.9.0.post0)\n",
      "Requirement already satisfied: pytz>=2020.1 in /Users/nicholasle/Desktop/University/UTS/2024/spr-2024/36120_advanced_ml_applications/assignments/assignment3/Airfare_Predict/.venv/lib/python3.11/site-packages (from pandas==2.2.2->assignment2_pkg_11919925) (2024.2)\n",
      "Requirement already satisfied: tzdata>=2022.7 in /Users/nicholasle/Desktop/University/UTS/2024/spr-2024/36120_advanced_ml_applications/assignments/assignment3/Airfare_Predict/.venv/lib/python3.11/site-packages (from pandas==2.2.2->assignment2_pkg_11919925) (2024.2)\n",
      "Requirement already satisfied: scipy>=1.6.0 in /Users/nicholasle/Desktop/University/UTS/2024/spr-2024/36120_advanced_ml_applications/assignments/assignment3/Airfare_Predict/.venv/lib/python3.11/site-packages (from scikit-learn==1.5.1->assignment2_pkg_11919925) (1.14.1)\n",
      "Requirement already satisfied: joblib>=1.2.0 in /Users/nicholasle/Desktop/University/UTS/2024/spr-2024/36120_advanced_ml_applications/assignments/assignment3/Airfare_Predict/.venv/lib/python3.11/site-packages (from scikit-learn==1.5.1->assignment2_pkg_11919925) (1.4.2)\n",
      "Requirement already satisfied: threadpoolctl>=3.1.0 in /Users/nicholasle/Desktop/University/UTS/2024/spr-2024/36120_advanced_ml_applications/assignments/assignment3/Airfare_Predict/.venv/lib/python3.11/site-packages (from scikit-learn==1.5.1->assignment2_pkg_11919925) (3.5.0)\n",
      "Requirement already satisfied: contourpy>=1.0.1 in /Users/nicholasle/Desktop/University/UTS/2024/spr-2024/36120_advanced_ml_applications/assignments/assignment3/Airfare_Predict/.venv/lib/python3.11/site-packages (from matplotlib<4.0.0,>=3.9.2->assignment2_pkg_11919925) (1.3.0)\n",
      "Requirement already satisfied: cycler>=0.10 in /Users/nicholasle/Desktop/University/UTS/2024/spr-2024/36120_advanced_ml_applications/assignments/assignment3/Airfare_Predict/.venv/lib/python3.11/site-packages (from matplotlib<4.0.0,>=3.9.2->assignment2_pkg_11919925) (0.12.1)\n",
      "Requirement already satisfied: fonttools>=4.22.0 in /Users/nicholasle/Desktop/University/UTS/2024/spr-2024/36120_advanced_ml_applications/assignments/assignment3/Airfare_Predict/.venv/lib/python3.11/site-packages (from matplotlib<4.0.0,>=3.9.2->assignment2_pkg_11919925) (4.54.1)\n",
      "Requirement already satisfied: kiwisolver>=1.3.1 in /Users/nicholasle/Desktop/University/UTS/2024/spr-2024/36120_advanced_ml_applications/assignments/assignment3/Airfare_Predict/.venv/lib/python3.11/site-packages (from matplotlib<4.0.0,>=3.9.2->assignment2_pkg_11919925) (1.4.7)\n",
      "Requirement already satisfied: packaging>=20.0 in /Users/nicholasle/Desktop/University/UTS/2024/spr-2024/36120_advanced_ml_applications/assignments/assignment3/Airfare_Predict/.venv/lib/python3.11/site-packages (from matplotlib<4.0.0,>=3.9.2->assignment2_pkg_11919925) (24.1)\n",
      "Requirement already satisfied: pillow>=8 in /Users/nicholasle/Desktop/University/UTS/2024/spr-2024/36120_advanced_ml_applications/assignments/assignment3/Airfare_Predict/.venv/lib/python3.11/site-packages (from matplotlib<4.0.0,>=3.9.2->assignment2_pkg_11919925) (11.0.0)\n",
      "Requirement already satisfied: pyparsing>=2.3.1 in /Users/nicholasle/Desktop/University/UTS/2024/spr-2024/36120_advanced_ml_applications/assignments/assignment3/Airfare_Predict/.venv/lib/python3.11/site-packages (from matplotlib<4.0.0,>=3.9.2->assignment2_pkg_11919925) (3.2.0)\n",
      "Requirement already satisfied: six>=1.5 in /Users/nicholasle/Desktop/University/UTS/2024/spr-2024/36120_advanced_ml_applications/assignments/assignment3/Airfare_Predict/.venv/lib/python3.11/site-packages (from python-dateutil>=2.8.2->pandas==2.2.2->assignment2_pkg_11919925) (1.16.0)\n",
      "Using cached https://test-files.pythonhosted.org/packages/56/79/e68a19a7ce3f46c686492a7aa9d9f538346ec109eca03c04e0f79fb51e1b/assignment2_pkg_11919925-1.0.10-py3-none-any.whl (5.7 kB)\n",
      "Installing collected packages: assignment2_pkg_11919925\n",
      "Successfully installed assignment2_pkg_11919925-1.0.10\n"
     ]
    }
   ],
   "source": [
    "# Install my custom package from Assignment 2\n",
    "# Source code here: https://github.com/nicnl31/assignment2_pkg_11919925\n",
    "! pip install -i https://test.pypi.org/simple/ assignment2_pkg_11919925"
   ]
  },
  {
   "cell_type": "code",
   "execution_count": 14,
   "metadata": {},
   "outputs": [],
   "source": [
    "from assignment2_pkg_11919925.metrics.regression import print_regressor_scores"
   ]
  },
  {
   "cell_type": "code",
   "execution_count": 15,
   "metadata": {},
   "outputs": [],
   "source": [
    "# Instantiate the null regressor\n",
    "null_reg = SklearnNullRegressor()"
   ]
  },
  {
   "cell_type": "code",
   "execution_count": 16,
   "metadata": {},
   "outputs": [],
   "source": [
    "# Cross validate 5 folds\n",
    "cv_results = cross_validate(null_reg, X, y, cv=5,\n",
    "                            scoring=\"neg_root_mean_squared_error\", \n",
    "                            return_train_score=True)"
   ]
  },
  {
   "cell_type": "code",
   "execution_count": 17,
   "metadata": {},
   "outputs": [
    {
     "name": "stdout",
     "output_type": "stream",
     "text": [
      "RMSE Train: 208.41857342335229\n",
      "RMSE Val: 208.42276109810624\n"
     ]
    }
   ],
   "source": [
    "# Print regression scores\n",
    "train_score = -float(cv_results[\"train_score\"].mean())\n",
    "val_score = -float(cv_results[\"test_score\"].mean())\n",
    "print(f\"RMSE Train: {train_score}\")\n",
    "print(f\"RMSE Val: {val_score}\")"
   ]
  },
  {
   "cell_type": "markdown",
   "metadata": {},
   "source": [
    "**Observations**: This is the benchmark to beat for subsequent models.\n",
    "\n",
    "Next I will check the linearity between covariates and the target, to see if a linear model suffices."
   ]
  },
  {
   "cell_type": "markdown",
   "metadata": {},
   "source": [
    "## Linearity check between covariates and the target"
   ]
  },
  {
   "cell_type": "code",
   "execution_count": 18,
   "metadata": {},
   "outputs": [
    {
     "name": "stdout",
     "output_type": "stream",
     "text": [
      "Correlation between flightDayOfWeekSin and totalFare: -0.12272635012020762\n",
      "Correlation between flightDayOfWeekCos and totalFare: 0.01701503187273621\n",
      "Correlation between flightMonthSin and totalFare: -0.0640203782082558\n",
      "Correlation between flightMonthCos and totalFare: -0.04954129888303736\n",
      "Correlation between flightHourSin and totalFare: 0.01274291148020228\n",
      "Correlation between flightHourCos and totalFare: -0.02144172877213112\n",
      "Correlation between flightMinuteSin and totalFare: -0.011751724229015608\n",
      "Correlation between flightMinuteCos and totalFare: 0.005478573356582721\n",
      "Correlation between timeDeltaDays and totalFare: 0.06563269007972668\n",
      "Correlation between travelDurationDay and totalFare: 0.4139419531542999\n",
      "Correlation between totalTravelDistance and totalFare: 0.5628821303880182\n",
      "Correlation between isBasicEconomy and totalFare: -0.24733559297020452\n",
      "Correlation between isRefundable and totalFare: nan\n",
      "Correlation between isNonStop and totalFare: -0.28710524454620506\n",
      "Correlation between numLegs and totalFare: 0.37001331876875765\n",
      "Correlation between business and totalFare: 0.13340318235977713\n",
      "Correlation between coach and totalFare: -0.2707074368242261\n",
      "Correlation between first and totalFare: 0.247980019951746\n",
      "Correlation between premium coach and totalFare: 0.07380727990192872\n"
     ]
    },
    {
     "name": "stderr",
     "output_type": "stream",
     "text": [
      "/Users/nicholasle/Desktop/University/UTS/2024/spr-2024/36120_advanced_ml_applications/assignments/assignment3/Airfare_Predict/.venv/lib/python3.11/site-packages/numpy/lib/_function_base_impl.py:2922: RuntimeWarning: invalid value encountered in divide\n",
      "  c /= stddev[:, None]\n",
      "/Users/nicholasle/Desktop/University/UTS/2024/spr-2024/36120_advanced_ml_applications/assignments/assignment3/Airfare_Predict/.venv/lib/python3.11/site-packages/numpy/lib/_function_base_impl.py:2923: RuntimeWarning: invalid value encountered in divide\n",
      "  c /= stddev[None, :]\n"
     ]
    }
   ],
   "source": [
    "# Check correlation with the target variable\n",
    "for col in X.columns:\n",
    "    print(f\"Correlation between {col} and {y.name}: {X[col].corr(y)}\")"
   ]
  },
  {
   "cell_type": "markdown",
   "metadata": {},
   "source": [
    "Linearity is violated, because there is little correlation between covariates and the target. A nonlinear model is necessary.\n",
    "\n",
    "**Next model**: Support Vector Regression model."
   ]
  },
  {
   "cell_type": "markdown",
   "metadata": {},
   "source": []
  }
 ],
 "metadata": {
  "kernelspec": {
   "display_name": ".venv",
   "language": "python",
   "name": "python3"
  },
  "language_info": {
   "codemirror_mode": {
    "name": "ipython",
    "version": 3
   },
   "file_extension": ".py",
   "mimetype": "text/x-python",
   "name": "python",
   "nbconvert_exporter": "python",
   "pygments_lexer": "ipython3",
   "version": "3.11.4"
  }
 },
 "nbformat": 4,
 "nbformat_minor": 2
}
