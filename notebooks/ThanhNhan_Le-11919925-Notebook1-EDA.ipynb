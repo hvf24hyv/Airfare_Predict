{
 "cells": [
  {
   "cell_type": "markdown",
   "metadata": {},
   "source": [
    "# Notebook 1: Exploratory Data Analysis"
   ]
  },
  {
   "cell_type": "markdown",
   "metadata": {},
   "source": [
    "## Declare global notebook variables"
   ]
  },
  {
   "cell_type": "code",
   "execution_count": 1,
   "metadata": {},
   "outputs": [],
   "source": [
    "ROOT_PATH_FROM_NOTEBOOK = \"..\"\n",
    "MODELS_PATH = \"models\"\n",
    "DATA_PATH = \"data\"\n",
    "RAW_DATA_PATH = \"raw\"\n",
    "EXTERNAL_DATA_PATH = \"external\"\n",
    "INTERIM_DATA_PATH = \"interim\"\n",
    "PROCESSED_DATA_PATH = \"processed\"\n",
    "ZIPPED_DATA_PATH = \"itineraries_csv.zip\"\n"
   ]
  },
  {
   "cell_type": "markdown",
   "metadata": {},
   "source": [
    "## Import libraries"
   ]
  },
  {
   "cell_type": "code",
   "execution_count": 2,
   "metadata": {},
   "outputs": [],
   "source": [
    "import sys\n",
    "import os\n",
    "import glob\n",
    "\n",
    "import pandas as pd\n",
    "import numpy as np\n",
    "import seaborn as sns\n",
    "import matplotlib.pyplot as plt"
   ]
  },
  {
   "cell_type": "code",
   "execution_count": 3,
   "metadata": {},
   "outputs": [],
   "source": [
    "# Set Pandas option to show all columns in prints\n",
    "pd.set_option('display.max_columns', None)"
   ]
  },
  {
   "cell_type": "code",
   "execution_count": 4,
   "metadata": {},
   "outputs": [],
   "source": [
    "# Get the current working directory\n",
    "current_dir = os.getcwd()\n",
    "\n",
    "# Add the src directory to sys.path to use custom functions\n",
    "sys.path.append(os.path.abspath(os.path.join(current_dir, '..', 'src')))"
   ]
  },
  {
   "cell_type": "code",
   "execution_count": 5,
   "metadata": {},
   "outputs": [],
   "source": [
    "# Import custom function (Credit to Pine for authoring/ideating these functions)\n",
    "from models.data_extraction import extract_nested_zips\n",
    "from models.sets import cyclical"
   ]
  },
  {
   "cell_type": "code",
   "execution_count": 18,
   "metadata": {},
   "outputs": [],
   "source": [
    "# Create the data directory string for the zipped data\n",
    "zip_data_dir = f\"{ROOT_PATH_FROM_NOTEBOOK}/{DATA_PATH}/{RAW_DATA_PATH}/{ZIPPED_DATA_PATH}\"\n",
    "\n",
    "# Create the directory string for landing unzipped data\n",
    "output_data_dir = f\"{ROOT_PATH_FROM_NOTEBOOK}/{DATA_PATH}/{INTERIM_DATA_PATH}\""
   ]
  },
  {
   "cell_type": "code",
   "execution_count": null,
   "metadata": {},
   "outputs": [],
   "source": [
    "extract_nested_zips(zip_data_dir, output_data_dir)"
   ]
  },
  {
   "cell_type": "code",
   "execution_count": 6,
   "metadata": {},
   "outputs": [],
   "source": [
    "# Extract two of the extracted files\n",
    "df_sample = pd.read_csv(f'{ROOT_PATH_FROM_NOTEBOOK}/{DATA_PATH}/{INTERIM_DATA_PATH}/ATL_itineraries_aa.csv',low_memory=False)\n",
    "df_sample2 = pd.read_csv(f'{ROOT_PATH_FROM_NOTEBOOK}/{DATA_PATH}/{INTERIM_DATA_PATH}/ATL_itineraries_zz.csv',low_memory=False)\n"
   ]
  },
  {
   "cell_type": "code",
   "execution_count": 7,
   "metadata": {},
   "outputs": [
    {
     "data": {
      "text/html": [
       "<div>\n",
       "<style scoped>\n",
       "    .dataframe tbody tr th:only-of-type {\n",
       "        vertical-align: middle;\n",
       "    }\n",
       "\n",
       "    .dataframe tbody tr th {\n",
       "        vertical-align: top;\n",
       "    }\n",
       "\n",
       "    .dataframe thead th {\n",
       "        text-align: right;\n",
       "    }\n",
       "</style>\n",
       "<table border=\"1\" class=\"dataframe\">\n",
       "  <thead>\n",
       "    <tr style=\"text-align: right;\">\n",
       "      <th></th>\n",
       "      <th>legId</th>\n",
       "      <th>searchDate</th>\n",
       "      <th>flightDate</th>\n",
       "      <th>startingAirport</th>\n",
       "      <th>destinationAirport</th>\n",
       "      <th>travelDuration</th>\n",
       "      <th>isBasicEconomy</th>\n",
       "      <th>isRefundable</th>\n",
       "      <th>isNonStop</th>\n",
       "      <th>totalFare</th>\n",
       "      <th>totalTravelDistance</th>\n",
       "      <th>segmentsDepartureTimeEpochSeconds</th>\n",
       "      <th>segmentsDepartureTimeRaw</th>\n",
       "      <th>segmentsArrivalTimeEpochSeconds</th>\n",
       "      <th>segmentsArrivalTimeRaw</th>\n",
       "      <th>segmentsArrivalAirportCode</th>\n",
       "      <th>segmentsDepartureAirportCode</th>\n",
       "      <th>segmentsAirlineName</th>\n",
       "      <th>segmentsAirlineCode</th>\n",
       "      <th>segmentsEquipmentDescription</th>\n",
       "      <th>segmentsDurationInSeconds</th>\n",
       "      <th>segmentsDistance</th>\n",
       "      <th>segmentsCabinCode</th>\n",
       "    </tr>\n",
       "  </thead>\n",
       "  <tbody>\n",
       "    <tr>\n",
       "      <th>0</th>\n",
       "      <td>9ca0e81111c683bec1012473feefd28f</td>\n",
       "      <td>2022-04-16</td>\n",
       "      <td>2022-04-17</td>\n",
       "      <td>ATL</td>\n",
       "      <td>BOS</td>\n",
       "      <td>PT2H29M</td>\n",
       "      <td>False</td>\n",
       "      <td>False</td>\n",
       "      <td>True</td>\n",
       "      <td>248.6</td>\n",
       "      <td>947.0</td>\n",
       "      <td>1650214620</td>\n",
       "      <td>2022-04-17T12:57:00.000-04:00</td>\n",
       "      <td>1650223560</td>\n",
       "      <td>2022-04-17T15:26:00.000-04:00</td>\n",
       "      <td>BOS</td>\n",
       "      <td>ATL</td>\n",
       "      <td>Delta</td>\n",
       "      <td>DL</td>\n",
       "      <td>Airbus A321</td>\n",
       "      <td>8940</td>\n",
       "      <td>947</td>\n",
       "      <td>coach</td>\n",
       "    </tr>\n",
       "    <tr>\n",
       "      <th>1</th>\n",
       "      <td>98685953630e772a098941b71906592b</td>\n",
       "      <td>2022-04-16</td>\n",
       "      <td>2022-04-17</td>\n",
       "      <td>ATL</td>\n",
       "      <td>BOS</td>\n",
       "      <td>PT2H30M</td>\n",
       "      <td>False</td>\n",
       "      <td>False</td>\n",
       "      <td>True</td>\n",
       "      <td>248.6</td>\n",
       "      <td>947.0</td>\n",
       "      <td>1650191400</td>\n",
       "      <td>2022-04-17T06:30:00.000-04:00</td>\n",
       "      <td>1650200400</td>\n",
       "      <td>2022-04-17T09:00:00.000-04:00</td>\n",
       "      <td>BOS</td>\n",
       "      <td>ATL</td>\n",
       "      <td>Delta</td>\n",
       "      <td>DL</td>\n",
       "      <td>Airbus A321</td>\n",
       "      <td>9000</td>\n",
       "      <td>947</td>\n",
       "      <td>coach</td>\n",
       "    </tr>\n",
       "    <tr>\n",
       "      <th>2</th>\n",
       "      <td>98d90cbc32bfbb05c2fc32897c7c1087</td>\n",
       "      <td>2022-04-16</td>\n",
       "      <td>2022-04-17</td>\n",
       "      <td>ATL</td>\n",
       "      <td>BOS</td>\n",
       "      <td>PT2H30M</td>\n",
       "      <td>False</td>\n",
       "      <td>False</td>\n",
       "      <td>True</td>\n",
       "      <td>248.6</td>\n",
       "      <td>947.0</td>\n",
       "      <td>1650209700</td>\n",
       "      <td>2022-04-17T11:35:00.000-04:00</td>\n",
       "      <td>1650218700</td>\n",
       "      <td>2022-04-17T14:05:00.000-04:00</td>\n",
       "      <td>BOS</td>\n",
       "      <td>ATL</td>\n",
       "      <td>Delta</td>\n",
       "      <td>DL</td>\n",
       "      <td>Boeing 757-200</td>\n",
       "      <td>9000</td>\n",
       "      <td>947</td>\n",
       "      <td>coach</td>\n",
       "    </tr>\n",
       "    <tr>\n",
       "      <th>3</th>\n",
       "      <td>969a269d38eae583f455486fa90877b4</td>\n",
       "      <td>2022-04-16</td>\n",
       "      <td>2022-04-17</td>\n",
       "      <td>ATL</td>\n",
       "      <td>BOS</td>\n",
       "      <td>PT2H32M</td>\n",
       "      <td>False</td>\n",
       "      <td>False</td>\n",
       "      <td>True</td>\n",
       "      <td>248.6</td>\n",
       "      <td>947.0</td>\n",
       "      <td>1650218340</td>\n",
       "      <td>2022-04-17T13:59:00.000-04:00</td>\n",
       "      <td>1650227460</td>\n",
       "      <td>2022-04-17T16:31:00.000-04:00</td>\n",
       "      <td>BOS</td>\n",
       "      <td>ATL</td>\n",
       "      <td>Delta</td>\n",
       "      <td>DL</td>\n",
       "      <td>Airbus A321</td>\n",
       "      <td>9120</td>\n",
       "      <td>947</td>\n",
       "      <td>coach</td>\n",
       "    </tr>\n",
       "    <tr>\n",
       "      <th>4</th>\n",
       "      <td>980370cf27c89b40d2833a1d5afc9751</td>\n",
       "      <td>2022-04-16</td>\n",
       "      <td>2022-04-17</td>\n",
       "      <td>ATL</td>\n",
       "      <td>BOS</td>\n",
       "      <td>PT2H34M</td>\n",
       "      <td>False</td>\n",
       "      <td>False</td>\n",
       "      <td>True</td>\n",
       "      <td>248.6</td>\n",
       "      <td>947.0</td>\n",
       "      <td>1650203940</td>\n",
       "      <td>2022-04-17T09:59:00.000-04:00</td>\n",
       "      <td>1650213180</td>\n",
       "      <td>2022-04-17T12:33:00.000-04:00</td>\n",
       "      <td>BOS</td>\n",
       "      <td>ATL</td>\n",
       "      <td>Delta</td>\n",
       "      <td>DL</td>\n",
       "      <td>Airbus A321</td>\n",
       "      <td>9240</td>\n",
       "      <td>947</td>\n",
       "      <td>coach</td>\n",
       "    </tr>\n",
       "  </tbody>\n",
       "</table>\n",
       "</div>"
      ],
      "text/plain": [
       "                              legId  searchDate  flightDate startingAirport  \\\n",
       "0  9ca0e81111c683bec1012473feefd28f  2022-04-16  2022-04-17             ATL   \n",
       "1  98685953630e772a098941b71906592b  2022-04-16  2022-04-17             ATL   \n",
       "2  98d90cbc32bfbb05c2fc32897c7c1087  2022-04-16  2022-04-17             ATL   \n",
       "3  969a269d38eae583f455486fa90877b4  2022-04-16  2022-04-17             ATL   \n",
       "4  980370cf27c89b40d2833a1d5afc9751  2022-04-16  2022-04-17             ATL   \n",
       "\n",
       "  destinationAirport travelDuration  isBasicEconomy  isRefundable  isNonStop  \\\n",
       "0                BOS        PT2H29M           False         False       True   \n",
       "1                BOS        PT2H30M           False         False       True   \n",
       "2                BOS        PT2H30M           False         False       True   \n",
       "3                BOS        PT2H32M           False         False       True   \n",
       "4                BOS        PT2H34M           False         False       True   \n",
       "\n",
       "   totalFare  totalTravelDistance segmentsDepartureTimeEpochSeconds  \\\n",
       "0      248.6                947.0                        1650214620   \n",
       "1      248.6                947.0                        1650191400   \n",
       "2      248.6                947.0                        1650209700   \n",
       "3      248.6                947.0                        1650218340   \n",
       "4      248.6                947.0                        1650203940   \n",
       "\n",
       "        segmentsDepartureTimeRaw segmentsArrivalTimeEpochSeconds  \\\n",
       "0  2022-04-17T12:57:00.000-04:00                      1650223560   \n",
       "1  2022-04-17T06:30:00.000-04:00                      1650200400   \n",
       "2  2022-04-17T11:35:00.000-04:00                      1650218700   \n",
       "3  2022-04-17T13:59:00.000-04:00                      1650227460   \n",
       "4  2022-04-17T09:59:00.000-04:00                      1650213180   \n",
       "\n",
       "          segmentsArrivalTimeRaw segmentsArrivalAirportCode  \\\n",
       "0  2022-04-17T15:26:00.000-04:00                        BOS   \n",
       "1  2022-04-17T09:00:00.000-04:00                        BOS   \n",
       "2  2022-04-17T14:05:00.000-04:00                        BOS   \n",
       "3  2022-04-17T16:31:00.000-04:00                        BOS   \n",
       "4  2022-04-17T12:33:00.000-04:00                        BOS   \n",
       "\n",
       "  segmentsDepartureAirportCode segmentsAirlineName segmentsAirlineCode  \\\n",
       "0                          ATL               Delta                  DL   \n",
       "1                          ATL               Delta                  DL   \n",
       "2                          ATL               Delta                  DL   \n",
       "3                          ATL               Delta                  DL   \n",
       "4                          ATL               Delta                  DL   \n",
       "\n",
       "  segmentsEquipmentDescription segmentsDurationInSeconds segmentsDistance  \\\n",
       "0                  Airbus A321                      8940              947   \n",
       "1                  Airbus A321                      9000              947   \n",
       "2               Boeing 757-200                      9000              947   \n",
       "3                  Airbus A321                      9120              947   \n",
       "4                  Airbus A321                      9240              947   \n",
       "\n",
       "  segmentsCabinCode  \n",
       "0             coach  \n",
       "1             coach  \n",
       "2             coach  \n",
       "3             coach  \n",
       "4             coach  "
      ]
     },
     "execution_count": 7,
     "metadata": {},
     "output_type": "execute_result"
    }
   ],
   "source": [
    "df_sample.head()"
   ]
  },
  {
   "cell_type": "code",
   "execution_count": 8,
   "metadata": {},
   "outputs": [
    {
     "data": {
      "text/html": [
       "<div>\n",
       "<style scoped>\n",
       "    .dataframe tbody tr th:only-of-type {\n",
       "        vertical-align: middle;\n",
       "    }\n",
       "\n",
       "    .dataframe tbody tr th {\n",
       "        vertical-align: top;\n",
       "    }\n",
       "\n",
       "    .dataframe thead th {\n",
       "        text-align: right;\n",
       "    }\n",
       "</style>\n",
       "<table border=\"1\" class=\"dataframe\">\n",
       "  <thead>\n",
       "    <tr style=\"text-align: right;\">\n",
       "      <th></th>\n",
       "      <th>legId</th>\n",
       "      <th>searchDate</th>\n",
       "      <th>flightDate</th>\n",
       "      <th>startingAirport</th>\n",
       "      <th>destinationAirport</th>\n",
       "      <th>travelDuration</th>\n",
       "      <th>isBasicEconomy</th>\n",
       "      <th>isRefundable</th>\n",
       "      <th>isNonStop</th>\n",
       "      <th>totalFare</th>\n",
       "      <th>totalTravelDistance</th>\n",
       "      <th>segmentsDepartureTimeEpochSeconds</th>\n",
       "      <th>segmentsDepartureTimeRaw</th>\n",
       "      <th>segmentsArrivalTimeEpochSeconds</th>\n",
       "      <th>segmentsArrivalTimeRaw</th>\n",
       "      <th>segmentsArrivalAirportCode</th>\n",
       "      <th>segmentsDepartureAirportCode</th>\n",
       "      <th>segmentsAirlineName</th>\n",
       "      <th>segmentsAirlineCode</th>\n",
       "      <th>segmentsEquipmentDescription</th>\n",
       "      <th>segmentsDurationInSeconds</th>\n",
       "      <th>segmentsDistance</th>\n",
       "      <th>segmentsCabinCode</th>\n",
       "    </tr>\n",
       "  </thead>\n",
       "  <tbody>\n",
       "    <tr>\n",
       "      <th>1848</th>\n",
       "      <td>fe6d76c86591bf264fbfbe4394cba987</td>\n",
       "      <td>2022-04-16</td>\n",
       "      <td>2022-04-19</td>\n",
       "      <td>ATL</td>\n",
       "      <td>SFO</td>\n",
       "      <td>PT5H20M</td>\n",
       "      <td>False</td>\n",
       "      <td>False</td>\n",
       "      <td>True</td>\n",
       "      <td>558.60</td>\n",
       "      <td>2135.0</td>\n",
       "      <td>1650370200</td>\n",
       "      <td>2022-04-19T08:10:00.000-04:00</td>\n",
       "      <td>1650389400</td>\n",
       "      <td>2022-04-19T10:30:00.000-07:00</td>\n",
       "      <td>SFO</td>\n",
       "      <td>ATL</td>\n",
       "      <td>Delta</td>\n",
       "      <td>DL</td>\n",
       "      <td>NaN</td>\n",
       "      <td>19200</td>\n",
       "      <td>2135</td>\n",
       "      <td>coach</td>\n",
       "    </tr>\n",
       "    <tr>\n",
       "      <th>1849</th>\n",
       "      <td>9c46e20cb56f20d1e51500124675e6b5</td>\n",
       "      <td>2022-04-16</td>\n",
       "      <td>2022-04-19</td>\n",
       "      <td>ATL</td>\n",
       "      <td>SFO</td>\n",
       "      <td>PT5H20M</td>\n",
       "      <td>False</td>\n",
       "      <td>False</td>\n",
       "      <td>True</td>\n",
       "      <td>558.60</td>\n",
       "      <td>2135.0</td>\n",
       "      <td>1650380400</td>\n",
       "      <td>2022-04-19T11:00:00.000-04:00</td>\n",
       "      <td>1650399600</td>\n",
       "      <td>2022-04-19T13:20:00.000-07:00</td>\n",
       "      <td>SFO</td>\n",
       "      <td>ATL</td>\n",
       "      <td>Delta</td>\n",
       "      <td>DL</td>\n",
       "      <td>Boeing 737-900</td>\n",
       "      <td>19200</td>\n",
       "      <td>2135</td>\n",
       "      <td>coach</td>\n",
       "    </tr>\n",
       "    <tr>\n",
       "      <th>1850</th>\n",
       "      <td>124a35d2b046e447a8a821b11a2ec930</td>\n",
       "      <td>2022-04-16</td>\n",
       "      <td>2022-04-19</td>\n",
       "      <td>ATL</td>\n",
       "      <td>SFO</td>\n",
       "      <td>PT5H21M</td>\n",
       "      <td>False</td>\n",
       "      <td>False</td>\n",
       "      <td>True</td>\n",
       "      <td>558.60</td>\n",
       "      <td>2135.0</td>\n",
       "      <td>1650417540</td>\n",
       "      <td>2022-04-19T21:19:00.000-04:00</td>\n",
       "      <td>1650436800</td>\n",
       "      <td>2022-04-19T23:40:00.000-07:00</td>\n",
       "      <td>SFO</td>\n",
       "      <td>ATL</td>\n",
       "      <td>Delta</td>\n",
       "      <td>DL</td>\n",
       "      <td>NaN</td>\n",
       "      <td>19260</td>\n",
       "      <td>2135</td>\n",
       "      <td>coach</td>\n",
       "    </tr>\n",
       "    <tr>\n",
       "      <th>1851</th>\n",
       "      <td>0ee968aac199b65de6a4f7e6c4e6ee3a</td>\n",
       "      <td>2022-04-16</td>\n",
       "      <td>2022-04-19</td>\n",
       "      <td>ATL</td>\n",
       "      <td>SFO</td>\n",
       "      <td>PT10H39M</td>\n",
       "      <td>False</td>\n",
       "      <td>False</td>\n",
       "      <td>False</td>\n",
       "      <td>565.11</td>\n",
       "      <td>2488.0</td>\n",
       "      <td>1650399600||1650414000||1650430620</td>\n",
       "      <td>2022-04-19T16:20:00.000-04:00||2022-04-19T19:2...</td>\n",
       "      <td>1650408480||1650424740||1650437940</td>\n",
       "      <td>2022-04-19T17:48:00.000-05:00||2022-04-19T21:1...</td>\n",
       "      <td>AUS||SLC||SFO</td>\n",
       "      <td>ATL||AUS||SLC</td>\n",
       "      <td>Delta||Delta||Delta</td>\n",
       "      <td>DL||DL||DL</td>\n",
       "      <td>Airbus A321||Airbus A220-100||Airbus A220-100</td>\n",
       "      <td>8880||10740||7320</td>\n",
       "      <td>811||1078||599</td>\n",
       "      <td>coach||coach||coach</td>\n",
       "    </tr>\n",
       "    <tr>\n",
       "      <th>1852</th>\n",
       "      <td>8e81da58328269ec49081217c2cf39fd</td>\n",
       "      <td>2022-04-16</td>\n",
       "      <td>2022-04-19</td>\n",
       "      <td>ATL</td>\n",
       "      <td>SFO</td>\n",
       "      <td>PT10H11M</td>\n",
       "      <td>False</td>\n",
       "      <td>False</td>\n",
       "      <td>False</td>\n",
       "      <td>567.09</td>\n",
       "      <td>2450.0</td>\n",
       "      <td>1650380580||1650393900||1650410100</td>\n",
       "      <td>2022-04-19T11:03:00.000-04:00||2022-04-19T13:4...</td>\n",
       "      <td>1650387780||1650406380||1650417240</td>\n",
       "      <td>2022-04-19T12:03:00.000-05:00||2022-04-19T16:1...</td>\n",
       "      <td>ORD||SLC||SFO</td>\n",
       "      <td>ATL||ORD||SLC</td>\n",
       "      <td>United||Delta||Delta</td>\n",
       "      <td>UA||DL||DL</td>\n",
       "      <td>Airbus A319||Airbus A319||Airbus A220-100</td>\n",
       "      <td>7200||12480||7140</td>\n",
       "      <td>600||1251||599</td>\n",
       "      <td>coach||coach||coach</td>\n",
       "    </tr>\n",
       "  </tbody>\n",
       "</table>\n",
       "</div>"
      ],
      "text/plain": [
       "                                 legId  searchDate  flightDate  \\\n",
       "1848  fe6d76c86591bf264fbfbe4394cba987  2022-04-16  2022-04-19   \n",
       "1849  9c46e20cb56f20d1e51500124675e6b5  2022-04-16  2022-04-19   \n",
       "1850  124a35d2b046e447a8a821b11a2ec930  2022-04-16  2022-04-19   \n",
       "1851  0ee968aac199b65de6a4f7e6c4e6ee3a  2022-04-16  2022-04-19   \n",
       "1852  8e81da58328269ec49081217c2cf39fd  2022-04-16  2022-04-19   \n",
       "\n",
       "     startingAirport destinationAirport travelDuration  isBasicEconomy  \\\n",
       "1848             ATL                SFO        PT5H20M           False   \n",
       "1849             ATL                SFO        PT5H20M           False   \n",
       "1850             ATL                SFO        PT5H21M           False   \n",
       "1851             ATL                SFO       PT10H39M           False   \n",
       "1852             ATL                SFO       PT10H11M           False   \n",
       "\n",
       "      isRefundable  isNonStop  totalFare  totalTravelDistance  \\\n",
       "1848         False       True     558.60               2135.0   \n",
       "1849         False       True     558.60               2135.0   \n",
       "1850         False       True     558.60               2135.0   \n",
       "1851         False      False     565.11               2488.0   \n",
       "1852         False      False     567.09               2450.0   \n",
       "\n",
       "       segmentsDepartureTimeEpochSeconds  \\\n",
       "1848                          1650370200   \n",
       "1849                          1650380400   \n",
       "1850                          1650417540   \n",
       "1851  1650399600||1650414000||1650430620   \n",
       "1852  1650380580||1650393900||1650410100   \n",
       "\n",
       "                               segmentsDepartureTimeRaw  \\\n",
       "1848                      2022-04-19T08:10:00.000-04:00   \n",
       "1849                      2022-04-19T11:00:00.000-04:00   \n",
       "1850                      2022-04-19T21:19:00.000-04:00   \n",
       "1851  2022-04-19T16:20:00.000-04:00||2022-04-19T19:2...   \n",
       "1852  2022-04-19T11:03:00.000-04:00||2022-04-19T13:4...   \n",
       "\n",
       "         segmentsArrivalTimeEpochSeconds  \\\n",
       "1848                          1650389400   \n",
       "1849                          1650399600   \n",
       "1850                          1650436800   \n",
       "1851  1650408480||1650424740||1650437940   \n",
       "1852  1650387780||1650406380||1650417240   \n",
       "\n",
       "                                 segmentsArrivalTimeRaw  \\\n",
       "1848                      2022-04-19T10:30:00.000-07:00   \n",
       "1849                      2022-04-19T13:20:00.000-07:00   \n",
       "1850                      2022-04-19T23:40:00.000-07:00   \n",
       "1851  2022-04-19T17:48:00.000-05:00||2022-04-19T21:1...   \n",
       "1852  2022-04-19T12:03:00.000-05:00||2022-04-19T16:1...   \n",
       "\n",
       "     segmentsArrivalAirportCode segmentsDepartureAirportCode  \\\n",
       "1848                        SFO                          ATL   \n",
       "1849                        SFO                          ATL   \n",
       "1850                        SFO                          ATL   \n",
       "1851              AUS||SLC||SFO                ATL||AUS||SLC   \n",
       "1852              ORD||SLC||SFO                ATL||ORD||SLC   \n",
       "\n",
       "       segmentsAirlineName segmentsAirlineCode  \\\n",
       "1848                 Delta                  DL   \n",
       "1849                 Delta                  DL   \n",
       "1850                 Delta                  DL   \n",
       "1851   Delta||Delta||Delta          DL||DL||DL   \n",
       "1852  United||Delta||Delta          UA||DL||DL   \n",
       "\n",
       "                       segmentsEquipmentDescription segmentsDurationInSeconds  \\\n",
       "1848                                            NaN                     19200   \n",
       "1849                                 Boeing 737-900                     19200   \n",
       "1850                                            NaN                     19260   \n",
       "1851  Airbus A321||Airbus A220-100||Airbus A220-100         8880||10740||7320   \n",
       "1852      Airbus A319||Airbus A319||Airbus A220-100         7200||12480||7140   \n",
       "\n",
       "     segmentsDistance    segmentsCabinCode  \n",
       "1848             2135                coach  \n",
       "1849             2135                coach  \n",
       "1850             2135                coach  \n",
       "1851   811||1078||599  coach||coach||coach  \n",
       "1852   600||1251||599  coach||coach||coach  "
      ]
     },
     "execution_count": 8,
     "metadata": {},
     "output_type": "execute_result"
    }
   ],
   "source": [
    "df_sample.tail()"
   ]
  },
  {
   "cell_type": "code",
   "execution_count": 9,
   "metadata": {},
   "outputs": [
    {
     "data": {
      "text/html": [
       "<div>\n",
       "<style scoped>\n",
       "    .dataframe tbody tr th:only-of-type {\n",
       "        vertical-align: middle;\n",
       "    }\n",
       "\n",
       "    .dataframe tbody tr th {\n",
       "        vertical-align: top;\n",
       "    }\n",
       "\n",
       "    .dataframe thead th {\n",
       "        text-align: right;\n",
       "    }\n",
       "</style>\n",
       "<table border=\"1\" class=\"dataframe\">\n",
       "  <thead>\n",
       "    <tr style=\"text-align: right;\">\n",
       "      <th></th>\n",
       "      <th>legId</th>\n",
       "      <th>searchDate</th>\n",
       "      <th>flightDate</th>\n",
       "      <th>startingAirport</th>\n",
       "      <th>destinationAirport</th>\n",
       "      <th>travelDuration</th>\n",
       "      <th>isBasicEconomy</th>\n",
       "      <th>isRefundable</th>\n",
       "      <th>isNonStop</th>\n",
       "      <th>totalFare</th>\n",
       "      <th>totalTravelDistance</th>\n",
       "      <th>segmentsDepartureTimeEpochSeconds</th>\n",
       "      <th>segmentsDepartureTimeRaw</th>\n",
       "      <th>segmentsArrivalTimeEpochSeconds</th>\n",
       "      <th>segmentsArrivalTimeRaw</th>\n",
       "      <th>segmentsArrivalAirportCode</th>\n",
       "      <th>segmentsDepartureAirportCode</th>\n",
       "      <th>segmentsAirlineName</th>\n",
       "      <th>segmentsAirlineCode</th>\n",
       "      <th>segmentsEquipmentDescription</th>\n",
       "      <th>segmentsDurationInSeconds</th>\n",
       "      <th>segmentsDistance</th>\n",
       "      <th>segmentsCabinCode</th>\n",
       "    </tr>\n",
       "  </thead>\n",
       "  <tbody>\n",
       "    <tr>\n",
       "      <th>0</th>\n",
       "      <td>788d457ecc3478ab9cd6989e519db95c</td>\n",
       "      <td>2022-05-19</td>\n",
       "      <td>2022-06-03</td>\n",
       "      <td>ATL</td>\n",
       "      <td>BOS</td>\n",
       "      <td>PT2H28M</td>\n",
       "      <td>False</td>\n",
       "      <td>False</td>\n",
       "      <td>True</td>\n",
       "      <td>130.59</td>\n",
       "      <td>NaN</td>\n",
       "      <td>1654251900</td>\n",
       "      <td>2022-06-03T06:25:00.000-04:00</td>\n",
       "      <td>1654260780</td>\n",
       "      <td>2022-06-03T08:53:00.000-04:00</td>\n",
       "      <td>BOS</td>\n",
       "      <td>ATL</td>\n",
       "      <td>Spirit Airlines</td>\n",
       "      <td>NK</td>\n",
       "      <td>Airbus A319</td>\n",
       "      <td>8880</td>\n",
       "      <td>NaN</td>\n",
       "      <td>coach</td>\n",
       "    </tr>\n",
       "    <tr>\n",
       "      <th>1</th>\n",
       "      <td>77a6dc85c1e9fb39ec9ec4716710d44b</td>\n",
       "      <td>2022-05-19</td>\n",
       "      <td>2022-06-03</td>\n",
       "      <td>ATL</td>\n",
       "      <td>BOS</td>\n",
       "      <td>PT2H38M</td>\n",
       "      <td>False</td>\n",
       "      <td>False</td>\n",
       "      <td>True</td>\n",
       "      <td>143.60</td>\n",
       "      <td>947.0</td>\n",
       "      <td>1654268820</td>\n",
       "      <td>2022-06-03T11:07:00.000-04:00</td>\n",
       "      <td>1654278300</td>\n",
       "      <td>2022-06-03T13:45:00.000-04:00</td>\n",
       "      <td>BOS</td>\n",
       "      <td>ATL</td>\n",
       "      <td>JetBlue Airways</td>\n",
       "      <td>B6</td>\n",
       "      <td>NaN</td>\n",
       "      <td>9480</td>\n",
       "      <td>947</td>\n",
       "      <td>coach</td>\n",
       "    </tr>\n",
       "    <tr>\n",
       "      <th>2</th>\n",
       "      <td>99e688686500ebcdd2a89c690556d0f4</td>\n",
       "      <td>2022-05-19</td>\n",
       "      <td>2022-06-03</td>\n",
       "      <td>ATL</td>\n",
       "      <td>BOS</td>\n",
       "      <td>PT8H38M</td>\n",
       "      <td>False</td>\n",
       "      <td>False</td>\n",
       "      <td>False</td>\n",
       "      <td>161.58</td>\n",
       "      <td>NaN</td>\n",
       "      <td>1654284540||1654304100</td>\n",
       "      <td>2022-06-03T15:29:00.000-04:00||2022-06-03T20:5...</td>\n",
       "      <td>1654291680||1654315620</td>\n",
       "      <td>2022-06-03T17:28:00.000-04:00||2022-06-04T00:0...</td>\n",
       "      <td>FLL||BOS</td>\n",
       "      <td>ATL||FLL</td>\n",
       "      <td>Spirit Airlines||Spirit Airlines</td>\n",
       "      <td>NK||NK</td>\n",
       "      <td>||</td>\n",
       "      <td>7140||11520</td>\n",
       "      <td>None||None</td>\n",
       "      <td>coach||coach</td>\n",
       "    </tr>\n",
       "    <tr>\n",
       "      <th>3</th>\n",
       "      <td>e1294092c852639e25667d276f003292</td>\n",
       "      <td>2022-05-19</td>\n",
       "      <td>2022-06-03</td>\n",
       "      <td>ATL</td>\n",
       "      <td>BOS</td>\n",
       "      <td>PT8H19M</td>\n",
       "      <td>False</td>\n",
       "      <td>False</td>\n",
       "      <td>False</td>\n",
       "      <td>181.58</td>\n",
       "      <td>NaN</td>\n",
       "      <td>1654261500||1654279980</td>\n",
       "      <td>2022-06-03T09:05:00.000-04:00||2022-06-03T14:1...</td>\n",
       "      <td>1654268460||1654291440</td>\n",
       "      <td>2022-06-03T11:01:00.000-04:00||2022-06-03T17:2...</td>\n",
       "      <td>FLL||BOS</td>\n",
       "      <td>ATL||FLL</td>\n",
       "      <td>Spirit Airlines||Spirit Airlines</td>\n",
       "      <td>NK||NK</td>\n",
       "      <td>AIRBUS INDUSTRIE A321 SHARKLETS||Airbus A319</td>\n",
       "      <td>6960||11460</td>\n",
       "      <td>None||None</td>\n",
       "      <td>coach||coach</td>\n",
       "    </tr>\n",
       "    <tr>\n",
       "      <th>4</th>\n",
       "      <td>71909a3a6a77253ec8927080d9c5d2cc</td>\n",
       "      <td>2022-05-19</td>\n",
       "      <td>2022-06-03</td>\n",
       "      <td>ATL</td>\n",
       "      <td>BOS</td>\n",
       "      <td>PT11H18M</td>\n",
       "      <td>False</td>\n",
       "      <td>False</td>\n",
       "      <td>False</td>\n",
       "      <td>181.58</td>\n",
       "      <td>NaN</td>\n",
       "      <td>1654267380||1654296900</td>\n",
       "      <td>2022-06-03T10:43:00.000-04:00||2022-06-03T18:5...</td>\n",
       "      <td>1654272660||1654308060</td>\n",
       "      <td>2022-06-03T12:11:00.000-04:00||2022-06-03T22:0...</td>\n",
       "      <td>MCO||BOS</td>\n",
       "      <td>ATL||MCO</td>\n",
       "      <td>Spirit Airlines||Spirit Airlines</td>\n",
       "      <td>NK||NK</td>\n",
       "      <td>AIRBUS INDUSTRIE A320 SHARKLETS||AIRBUS INDUST...</td>\n",
       "      <td>5280||11160</td>\n",
       "      <td>None||None</td>\n",
       "      <td>coach||coach</td>\n",
       "    </tr>\n",
       "  </tbody>\n",
       "</table>\n",
       "</div>"
      ],
      "text/plain": [
       "                              legId  searchDate  flightDate startingAirport  \\\n",
       "0  788d457ecc3478ab9cd6989e519db95c  2022-05-19  2022-06-03             ATL   \n",
       "1  77a6dc85c1e9fb39ec9ec4716710d44b  2022-05-19  2022-06-03             ATL   \n",
       "2  99e688686500ebcdd2a89c690556d0f4  2022-05-19  2022-06-03             ATL   \n",
       "3  e1294092c852639e25667d276f003292  2022-05-19  2022-06-03             ATL   \n",
       "4  71909a3a6a77253ec8927080d9c5d2cc  2022-05-19  2022-06-03             ATL   \n",
       "\n",
       "  destinationAirport travelDuration  isBasicEconomy  isRefundable  isNonStop  \\\n",
       "0                BOS        PT2H28M           False         False       True   \n",
       "1                BOS        PT2H38M           False         False       True   \n",
       "2                BOS        PT8H38M           False         False      False   \n",
       "3                BOS        PT8H19M           False         False      False   \n",
       "4                BOS       PT11H18M           False         False      False   \n",
       "\n",
       "   totalFare  totalTravelDistance segmentsDepartureTimeEpochSeconds  \\\n",
       "0     130.59                  NaN                        1654251900   \n",
       "1     143.60                947.0                        1654268820   \n",
       "2     161.58                  NaN            1654284540||1654304100   \n",
       "3     181.58                  NaN            1654261500||1654279980   \n",
       "4     181.58                  NaN            1654267380||1654296900   \n",
       "\n",
       "                            segmentsDepartureTimeRaw  \\\n",
       "0                      2022-06-03T06:25:00.000-04:00   \n",
       "1                      2022-06-03T11:07:00.000-04:00   \n",
       "2  2022-06-03T15:29:00.000-04:00||2022-06-03T20:5...   \n",
       "3  2022-06-03T09:05:00.000-04:00||2022-06-03T14:1...   \n",
       "4  2022-06-03T10:43:00.000-04:00||2022-06-03T18:5...   \n",
       "\n",
       "  segmentsArrivalTimeEpochSeconds  \\\n",
       "0                      1654260780   \n",
       "1                      1654278300   \n",
       "2          1654291680||1654315620   \n",
       "3          1654268460||1654291440   \n",
       "4          1654272660||1654308060   \n",
       "\n",
       "                              segmentsArrivalTimeRaw  \\\n",
       "0                      2022-06-03T08:53:00.000-04:00   \n",
       "1                      2022-06-03T13:45:00.000-04:00   \n",
       "2  2022-06-03T17:28:00.000-04:00||2022-06-04T00:0...   \n",
       "3  2022-06-03T11:01:00.000-04:00||2022-06-03T17:2...   \n",
       "4  2022-06-03T12:11:00.000-04:00||2022-06-03T22:0...   \n",
       "\n",
       "  segmentsArrivalAirportCode segmentsDepartureAirportCode  \\\n",
       "0                        BOS                          ATL   \n",
       "1                        BOS                          ATL   \n",
       "2                   FLL||BOS                     ATL||FLL   \n",
       "3                   FLL||BOS                     ATL||FLL   \n",
       "4                   MCO||BOS                     ATL||MCO   \n",
       "\n",
       "                segmentsAirlineName segmentsAirlineCode  \\\n",
       "0                   Spirit Airlines                  NK   \n",
       "1                   JetBlue Airways                  B6   \n",
       "2  Spirit Airlines||Spirit Airlines              NK||NK   \n",
       "3  Spirit Airlines||Spirit Airlines              NK||NK   \n",
       "4  Spirit Airlines||Spirit Airlines              NK||NK   \n",
       "\n",
       "                        segmentsEquipmentDescription  \\\n",
       "0                                        Airbus A319   \n",
       "1                                                NaN   \n",
       "2                                                 ||   \n",
       "3       AIRBUS INDUSTRIE A321 SHARKLETS||Airbus A319   \n",
       "4  AIRBUS INDUSTRIE A320 SHARKLETS||AIRBUS INDUST...   \n",
       "\n",
       "  segmentsDurationInSeconds segmentsDistance segmentsCabinCode  \n",
       "0                      8880              NaN             coach  \n",
       "1                      9480              947             coach  \n",
       "2               7140||11520       None||None      coach||coach  \n",
       "3               6960||11460       None||None      coach||coach  \n",
       "4               5280||11160       None||None      coach||coach  "
      ]
     },
     "execution_count": 9,
     "metadata": {},
     "output_type": "execute_result"
    }
   ],
   "source": [
    "df_sample2.head()"
   ]
  },
  {
   "cell_type": "code",
   "execution_count": 10,
   "metadata": {},
   "outputs": [
    {
     "data": {
      "text/html": [
       "<div>\n",
       "<style scoped>\n",
       "    .dataframe tbody tr th:only-of-type {\n",
       "        vertical-align: middle;\n",
       "    }\n",
       "\n",
       "    .dataframe tbody tr th {\n",
       "        vertical-align: top;\n",
       "    }\n",
       "\n",
       "    .dataframe thead th {\n",
       "        text-align: right;\n",
       "    }\n",
       "</style>\n",
       "<table border=\"1\" class=\"dataframe\">\n",
       "  <thead>\n",
       "    <tr style=\"text-align: right;\">\n",
       "      <th></th>\n",
       "      <th>legId</th>\n",
       "      <th>searchDate</th>\n",
       "      <th>flightDate</th>\n",
       "      <th>startingAirport</th>\n",
       "      <th>destinationAirport</th>\n",
       "      <th>travelDuration</th>\n",
       "      <th>isBasicEconomy</th>\n",
       "      <th>isRefundable</th>\n",
       "      <th>isNonStop</th>\n",
       "      <th>totalFare</th>\n",
       "      <th>totalTravelDistance</th>\n",
       "      <th>segmentsDepartureTimeEpochSeconds</th>\n",
       "      <th>segmentsDepartureTimeRaw</th>\n",
       "      <th>segmentsArrivalTimeEpochSeconds</th>\n",
       "      <th>segmentsArrivalTimeRaw</th>\n",
       "      <th>segmentsArrivalAirportCode</th>\n",
       "      <th>segmentsDepartureAirportCode</th>\n",
       "      <th>segmentsAirlineName</th>\n",
       "      <th>segmentsAirlineCode</th>\n",
       "      <th>segmentsEquipmentDescription</th>\n",
       "      <th>segmentsDurationInSeconds</th>\n",
       "      <th>segmentsDistance</th>\n",
       "      <th>segmentsCabinCode</th>\n",
       "    </tr>\n",
       "  </thead>\n",
       "  <tbody>\n",
       "    <tr>\n",
       "      <th>994</th>\n",
       "      <td>dafe7cde105105c58119efad61a79151</td>\n",
       "      <td>2022-05-19</td>\n",
       "      <td>2022-06-04</td>\n",
       "      <td>ATL</td>\n",
       "      <td>SFO</td>\n",
       "      <td>PT8H40M</td>\n",
       "      <td>False</td>\n",
       "      <td>False</td>\n",
       "      <td>False</td>\n",
       "      <td>766.61</td>\n",
       "      <td>2838.0</td>\n",
       "      <td>1654373700||1654383900</td>\n",
       "      <td>2022-06-04T16:15:00.000-04:00||2022-06-04T19:0...</td>\n",
       "      <td>1654379100||1654404900</td>\n",
       "      <td>2022-06-04T17:45:00.000-04:00||2022-06-04T21:5...</td>\n",
       "      <td>MCO||SFO</td>\n",
       "      <td>ATL||MCO</td>\n",
       "      <td>Delta||Alaska Airlines</td>\n",
       "      <td>DL||AS</td>\n",
       "      <td>Boeing 757||Boeing 737-900</td>\n",
       "      <td>5400||21000</td>\n",
       "      <td>399||2439</td>\n",
       "      <td>coach||coach</td>\n",
       "    </tr>\n",
       "    <tr>\n",
       "      <th>995</th>\n",
       "      <td>57a130a0b9af2de4383e3ce14888fed1</td>\n",
       "      <td>2022-05-19</td>\n",
       "      <td>2022-06-04</td>\n",
       "      <td>ATL</td>\n",
       "      <td>SFO</td>\n",
       "      <td>PT16H1M</td>\n",
       "      <td>False</td>\n",
       "      <td>False</td>\n",
       "      <td>False</td>\n",
       "      <td>812.21</td>\n",
       "      <td>3328.0</td>\n",
       "      <td>1654396500||1654431600</td>\n",
       "      <td>2022-06-04T22:35:00.000-04:00||2022-06-05T08:2...</td>\n",
       "      <td>1654404480||1654454160</td>\n",
       "      <td>2022-06-05T00:48:00.000-04:00||2022-06-05T11:3...</td>\n",
       "      <td>EWR||SFO</td>\n",
       "      <td>ATL||EWR</td>\n",
       "      <td>Delta||Alaska Airlines</td>\n",
       "      <td>DL||AS</td>\n",
       "      <td>Boeing 737-800||Boeing 737-900</td>\n",
       "      <td>7980||22560</td>\n",
       "      <td>762||2566</td>\n",
       "      <td>coach||coach</td>\n",
       "    </tr>\n",
       "    <tr>\n",
       "      <th>996</th>\n",
       "      <td>021df79efd5a9adbc865403cba3bcaf1</td>\n",
       "      <td>2022-05-19</td>\n",
       "      <td>2022-06-04</td>\n",
       "      <td>ATL</td>\n",
       "      <td>SFO</td>\n",
       "      <td>PT8H50M</td>\n",
       "      <td>False</td>\n",
       "      <td>False</td>\n",
       "      <td>False</td>\n",
       "      <td>886.60</td>\n",
       "      <td>2857.0</td>\n",
       "      <td>1654344000||1654367700</td>\n",
       "      <td>2022-06-04T08:00:00.000-04:00||2022-06-04T11:3...</td>\n",
       "      <td>1654363500||1654375800</td>\n",
       "      <td>2022-06-04T10:25:00.000-07:00||2022-06-04T13:5...</td>\n",
       "      <td>SEA||SFO</td>\n",
       "      <td>ATL||SEA</td>\n",
       "      <td>Alaska Airlines||Alaska Airlines</td>\n",
       "      <td>AS||AS</td>\n",
       "      <td>Boeing 737 MAX 9||Airbus A320</td>\n",
       "      <td>19500||8100</td>\n",
       "      <td>2178||679</td>\n",
       "      <td>coach||coach</td>\n",
       "    </tr>\n",
       "    <tr>\n",
       "      <th>997</th>\n",
       "      <td>88a4642c7f3edaf1a5a0be0c570ebdd8</td>\n",
       "      <td>2022-05-19</td>\n",
       "      <td>2022-06-04</td>\n",
       "      <td>ATL</td>\n",
       "      <td>SFO</td>\n",
       "      <td>PT9H55M</td>\n",
       "      <td>False</td>\n",
       "      <td>False</td>\n",
       "      <td>False</td>\n",
       "      <td>886.60</td>\n",
       "      <td>2857.0</td>\n",
       "      <td>1654344000||1654371900</td>\n",
       "      <td>2022-06-04T08:00:00.000-04:00||2022-06-04T12:4...</td>\n",
       "      <td>1654363500||1654379700</td>\n",
       "      <td>2022-06-04T10:25:00.000-07:00||2022-06-04T14:5...</td>\n",
       "      <td>SEA||SFO</td>\n",
       "      <td>ATL||SEA</td>\n",
       "      <td>Alaska Airlines||Alaska Airlines</td>\n",
       "      <td>AS||AS</td>\n",
       "      <td>Boeing 737 MAX 9||Boeing 737-800</td>\n",
       "      <td>19500||7800</td>\n",
       "      <td>2178||679</td>\n",
       "      <td>coach||coach</td>\n",
       "    </tr>\n",
       "    <tr>\n",
       "      <th>998</th>\n",
       "      <td>c57b7874e7e5e5aeed26501d7d2530b8</td>\n",
       "      <td>2022-05-19</td>\n",
       "      <td>2022-06-04</td>\n",
       "      <td>ATL</td>\n",
       "      <td>SFO</td>\n",
       "      <td>PT9H34M</td>\n",
       "      <td>False</td>\n",
       "      <td>False</td>\n",
       "      <td>False</td>\n",
       "      <td>1061.60</td>\n",
       "      <td>2282.0</td>\n",
       "      <td>1654373880||1654403400</td>\n",
       "      <td>2022-06-04T16:18:00.000-04:00||2022-06-04T21:3...</td>\n",
       "      <td>1654390320||1654408320</td>\n",
       "      <td>2022-06-04T17:52:00.000-07:00||2022-06-04T22:5...</td>\n",
       "      <td>LAX||SFO</td>\n",
       "      <td>ATL||LAX</td>\n",
       "      <td>Alaska Airlines||Alaska Airlines</td>\n",
       "      <td>AS||AS</td>\n",
       "      <td>Airbus A320||Embraer 175</td>\n",
       "      <td>16440||4920</td>\n",
       "      <td>1943||339</td>\n",
       "      <td>coach||coach</td>\n",
       "    </tr>\n",
       "  </tbody>\n",
       "</table>\n",
       "</div>"
      ],
      "text/plain": [
       "                                legId  searchDate  flightDate startingAirport  \\\n",
       "994  dafe7cde105105c58119efad61a79151  2022-05-19  2022-06-04             ATL   \n",
       "995  57a130a0b9af2de4383e3ce14888fed1  2022-05-19  2022-06-04             ATL   \n",
       "996  021df79efd5a9adbc865403cba3bcaf1  2022-05-19  2022-06-04             ATL   \n",
       "997  88a4642c7f3edaf1a5a0be0c570ebdd8  2022-05-19  2022-06-04             ATL   \n",
       "998  c57b7874e7e5e5aeed26501d7d2530b8  2022-05-19  2022-06-04             ATL   \n",
       "\n",
       "    destinationAirport travelDuration  isBasicEconomy  isRefundable  \\\n",
       "994                SFO        PT8H40M           False         False   \n",
       "995                SFO        PT16H1M           False         False   \n",
       "996                SFO        PT8H50M           False         False   \n",
       "997                SFO        PT9H55M           False         False   \n",
       "998                SFO        PT9H34M           False         False   \n",
       "\n",
       "     isNonStop  totalFare  totalTravelDistance  \\\n",
       "994      False     766.61               2838.0   \n",
       "995      False     812.21               3328.0   \n",
       "996      False     886.60               2857.0   \n",
       "997      False     886.60               2857.0   \n",
       "998      False    1061.60               2282.0   \n",
       "\n",
       "    segmentsDepartureTimeEpochSeconds  \\\n",
       "994            1654373700||1654383900   \n",
       "995            1654396500||1654431600   \n",
       "996            1654344000||1654367700   \n",
       "997            1654344000||1654371900   \n",
       "998            1654373880||1654403400   \n",
       "\n",
       "                              segmentsDepartureTimeRaw  \\\n",
       "994  2022-06-04T16:15:00.000-04:00||2022-06-04T19:0...   \n",
       "995  2022-06-04T22:35:00.000-04:00||2022-06-05T08:2...   \n",
       "996  2022-06-04T08:00:00.000-04:00||2022-06-04T11:3...   \n",
       "997  2022-06-04T08:00:00.000-04:00||2022-06-04T12:4...   \n",
       "998  2022-06-04T16:18:00.000-04:00||2022-06-04T21:3...   \n",
       "\n",
       "    segmentsArrivalTimeEpochSeconds  \\\n",
       "994          1654379100||1654404900   \n",
       "995          1654404480||1654454160   \n",
       "996          1654363500||1654375800   \n",
       "997          1654363500||1654379700   \n",
       "998          1654390320||1654408320   \n",
       "\n",
       "                                segmentsArrivalTimeRaw  \\\n",
       "994  2022-06-04T17:45:00.000-04:00||2022-06-04T21:5...   \n",
       "995  2022-06-05T00:48:00.000-04:00||2022-06-05T11:3...   \n",
       "996  2022-06-04T10:25:00.000-07:00||2022-06-04T13:5...   \n",
       "997  2022-06-04T10:25:00.000-07:00||2022-06-04T14:5...   \n",
       "998  2022-06-04T17:52:00.000-07:00||2022-06-04T22:5...   \n",
       "\n",
       "    segmentsArrivalAirportCode segmentsDepartureAirportCode  \\\n",
       "994                   MCO||SFO                     ATL||MCO   \n",
       "995                   EWR||SFO                     ATL||EWR   \n",
       "996                   SEA||SFO                     ATL||SEA   \n",
       "997                   SEA||SFO                     ATL||SEA   \n",
       "998                   LAX||SFO                     ATL||LAX   \n",
       "\n",
       "                  segmentsAirlineName segmentsAirlineCode  \\\n",
       "994            Delta||Alaska Airlines              DL||AS   \n",
       "995            Delta||Alaska Airlines              DL||AS   \n",
       "996  Alaska Airlines||Alaska Airlines              AS||AS   \n",
       "997  Alaska Airlines||Alaska Airlines              AS||AS   \n",
       "998  Alaska Airlines||Alaska Airlines              AS||AS   \n",
       "\n",
       "         segmentsEquipmentDescription segmentsDurationInSeconds  \\\n",
       "994        Boeing 757||Boeing 737-900               5400||21000   \n",
       "995    Boeing 737-800||Boeing 737-900               7980||22560   \n",
       "996     Boeing 737 MAX 9||Airbus A320               19500||8100   \n",
       "997  Boeing 737 MAX 9||Boeing 737-800               19500||7800   \n",
       "998          Airbus A320||Embraer 175               16440||4920   \n",
       "\n",
       "    segmentsDistance segmentsCabinCode  \n",
       "994        399||2439      coach||coach  \n",
       "995        762||2566      coach||coach  \n",
       "996        2178||679      coach||coach  \n",
       "997        2178||679      coach||coach  \n",
       "998        1943||339      coach||coach  "
      ]
     },
     "execution_count": 10,
     "metadata": {},
     "output_type": "execute_result"
    }
   ],
   "source": [
    "df_sample2.tail()"
   ]
  },
  {
   "cell_type": "markdown",
   "metadata": {},
   "source": [
    "First observations:\n",
    "- The mini datasets seem to have the same number of columns throughout, which need to be formally checked prior to concatenating\n",
    "- Columns corresponding to multi-leg trips need to be processed if going into modelling\n",
    "- Datasets look clean and structured"
   ]
  },
  {
   "cell_type": "markdown",
   "metadata": {},
   "source": [
    "## Count the number of columns in each file"
   ]
  },
  {
   "cell_type": "markdown",
   "metadata": {},
   "source": [
    "I want to count the columns in each file to verify that they are the same, in case each file has a different number of columns. To do this, I will walk through the extracted csv files, get the columns, and put them in a counter."
   ]
  },
  {
   "cell_type": "code",
   "execution_count": 11,
   "metadata": {},
   "outputs": [],
   "source": [
    "# Initiate a column counter dictionary \n",
    "all_cols = dict.fromkeys(list(df_sample.columns), 0)\n",
    "\n",
    "# Initiate a list of all CSV files extracted from the zipped data\n",
    "all_csvs = glob.glob(f'{ROOT_PATH_FROM_NOTEBOOK}/{DATA_PATH}/{INTERIM_DATA_PATH}/*.csv')"
   ]
  },
  {
   "cell_type": "code",
   "execution_count": 12,
   "metadata": {},
   "outputs": [],
   "source": [
    "# Walk through the CSV files and increment the count if the column is already in the dictionary, else create a new count\n",
    "for csv_file_path in all_csvs:\n",
    "    df = pd.read_csv(csv_file_path, nrows=0)\n",
    "    for c in df.columns:\n",
    "        try:\n",
    "            all_cols[c] += 1\n",
    "        except KeyError:\n",
    "            all_cols[c] = 1"
   ]
  },
  {
   "cell_type": "code",
   "execution_count": 13,
   "metadata": {},
   "outputs": [
    {
     "data": {
      "text/plain": [
       "{'legId': 10816,\n",
       " 'searchDate': 10816,\n",
       " 'flightDate': 10816,\n",
       " 'startingAirport': 10816,\n",
       " 'destinationAirport': 10816,\n",
       " 'travelDuration': 10816,\n",
       " 'isBasicEconomy': 10816,\n",
       " 'isRefundable': 10816,\n",
       " 'isNonStop': 10816,\n",
       " 'totalFare': 10816,\n",
       " 'totalTravelDistance': 10816,\n",
       " 'segmentsDepartureTimeEpochSeconds': 10816,\n",
       " 'segmentsDepartureTimeRaw': 10816,\n",
       " 'segmentsArrivalTimeEpochSeconds': 10816,\n",
       " 'segmentsArrivalTimeRaw': 10816,\n",
       " 'segmentsArrivalAirportCode': 10816,\n",
       " 'segmentsDepartureAirportCode': 10816,\n",
       " 'segmentsAirlineName': 10816,\n",
       " 'segmentsAirlineCode': 10816,\n",
       " 'segmentsEquipmentDescription': 10816,\n",
       " 'segmentsDurationInSeconds': 10816,\n",
       " 'segmentsDistance': 10816,\n",
       " 'segmentsCabinCode': 10816}"
      ]
     },
     "execution_count": 13,
     "metadata": {},
     "output_type": "execute_result"
    }
   ],
   "source": [
    "# Print the result\n",
    "all_cols"
   ]
  },
  {
   "cell_type": "markdown",
   "metadata": {},
   "source": [
    "So the number of columns is consistent across all files. Now I will select columns for modelling. Potential columns that are predictive of travel fares are:\n",
    "- `searchDate`: date of search, which may be used with flight date to calculate the time delta between flight date and search date. Small deltas likely lead to larger fares.\n",
    "- `flightDate`: date of flight. If holiday seasons, flights may be more expensive. \n",
    "- `startingAirport`: the user needs this information\n",
    "- `destinationAirport`: the user needs this information\n",
    "- `isBasicEconomy`: directly linked to fares\n",
    "- `isRefundable`: directly linked to fares\n",
    "- `isNonStop`: directly linked to fares\n",
    "- `totalTravelDistance`: directly linked to fares\n",
    "- `travelDuration`: directly linked to fares, and may include extra layover that `segmentsDurationInSeconds` is not reflecting. Long layover flights tend to be cheaper\n",
    "- `segmentsDepartureTimeEpochSeconds`: the entry for the first leg can be used to get detailed timestamps for departure times, which is useful for feature engineering.\n",
    "- `segmentsCabinCode`: directly linked to fares\n",
    "- `totalFare`: target variable\n"
   ]
  },
  {
   "cell_type": "code",
   "execution_count": 15,
   "metadata": {},
   "outputs": [],
   "source": [
    "columns_to_model = [\n",
    "    'searchDate',\n",
    "    'flightDate', \n",
    "    'startingAirport', \n",
    "    'destinationAirport', \n",
    "    'travelDuration', \n",
    "    'isBasicEconomy', \n",
    "    'isRefundable', \n",
    "    'isNonStop',\n",
    "    'totalTravelDistance',\n",
    "    'segmentsDepartureTimeEpochSeconds',\n",
    "    'segmentsCabinCode',\n",
    "    'totalFare'\n",
    "]"
   ]
  },
  {
   "cell_type": "markdown",
   "metadata": {},
   "source": [
    "## Concatenate CSV files and save as Parquet for compact sizing"
   ]
  },
  {
   "cell_type": "code",
   "execution_count": 16,
   "metadata": {},
   "outputs": [],
   "source": [
    "def save_full_df_to_parquet(\n",
    "        csv_filenames: list[str], \n",
    "        cols_to_include: list[str], \n",
    "        output_data_dir: str) -> None:\n",
    "    pd.concat([pd.read_csv(f, usecols=cols_to_include) for f in csv_filenames], axis=0, ignore_index=True) \\\n",
    "    .to_parquet(f\"{output_data_dir}/all_data.parquet\")\n",
    "    return\n"
   ]
  },
  {
   "cell_type": "code",
   "execution_count": 19,
   "metadata": {},
   "outputs": [],
   "source": [
    "save_full_df_to_parquet(all_csvs, columns_to_model, output_data_dir)"
   ]
  },
  {
   "cell_type": "code",
   "execution_count": 20,
   "metadata": {},
   "outputs": [],
   "source": [
    "df_all = pd.read_parquet(f\"{output_data_dir}/all_data.parquet\")"
   ]
  },
  {
   "cell_type": "code",
   "execution_count": 21,
   "metadata": {},
   "outputs": [
    {
     "data": {
      "text/plain": [
       "searchDate                                0\n",
       "flightDate                                0\n",
       "startingAirport                           0\n",
       "destinationAirport                        0\n",
       "travelDuration                            0\n",
       "isBasicEconomy                            0\n",
       "isRefundable                              0\n",
       "isNonStop                                 0\n",
       "totalFare                                 0\n",
       "totalTravelDistance                  959619\n",
       "segmentsDepartureTimeEpochSeconds         0\n",
       "segmentsCabinCode                         0\n",
       "dtype: int64"
      ]
     },
     "execution_count": 21,
     "metadata": {},
     "output_type": "execute_result"
    }
   ],
   "source": [
    "df_all.isna().sum()"
   ]
  },
  {
   "cell_type": "markdown",
   "metadata": {},
   "source": [
    "## Fill `NaN` values in `totalTravelDistance`"
   ]
  },
  {
   "cell_type": "markdown",
   "metadata": {},
   "source": [
    "For the total travel distance column, I will use a reference dataset from the **US Bureau of Transportation Statistics** to get the total distance (in miles) between 2 airports.\n",
    "\n",
    "The data is available here: https://www.transtats.bts.gov/Distance.aspx\n",
    "\n",
    "I will join these information into the existing dataset, then fill `NaN` values using pandas `combine_first()` function to select the first entry of two rows that are not `NaN`."
   ]
  },
  {
   "cell_type": "code",
   "execution_count": 22,
   "metadata": {},
   "outputs": [],
   "source": [
    "df_distance = pd.read_csv(f\"{ROOT_PATH_FROM_NOTEBOOK}/{DATA_PATH}/{EXTERNAL_DATA_PATH}/Distance_of_All_Airports_20241030_201331.csv\", \n",
    "                          usecols=['ORIGIN', 'DEST', 'DISTANCE IN MILES'])"
   ]
  },
  {
   "cell_type": "code",
   "execution_count": 23,
   "metadata": {},
   "outputs": [
    {
     "data": {
      "text/html": [
       "<div>\n",
       "<style scoped>\n",
       "    .dataframe tbody tr th:only-of-type {\n",
       "        vertical-align: middle;\n",
       "    }\n",
       "\n",
       "    .dataframe tbody tr th {\n",
       "        vertical-align: top;\n",
       "    }\n",
       "\n",
       "    .dataframe thead th {\n",
       "        text-align: right;\n",
       "    }\n",
       "</style>\n",
       "<table border=\"1\" class=\"dataframe\">\n",
       "  <thead>\n",
       "    <tr style=\"text-align: right;\">\n",
       "      <th></th>\n",
       "      <th>ORIGIN</th>\n",
       "      <th>DEST</th>\n",
       "      <th>DISTANCE IN MILES</th>\n",
       "    </tr>\n",
       "  </thead>\n",
       "  <tbody>\n",
       "    <tr>\n",
       "      <th>0</th>\n",
       "      <td>01A</td>\n",
       "      <td>A43</td>\n",
       "      <td>30.0</td>\n",
       "    </tr>\n",
       "    <tr>\n",
       "      <th>1</th>\n",
       "      <td>06A</td>\n",
       "      <td>A30</td>\n",
       "      <td>16.0</td>\n",
       "    </tr>\n",
       "    <tr>\n",
       "      <th>2</th>\n",
       "      <td>06A</td>\n",
       "      <td>A43</td>\n",
       "      <td>18.0</td>\n",
       "    </tr>\n",
       "    <tr>\n",
       "      <th>3</th>\n",
       "      <td>06A</td>\n",
       "      <td>ADQ</td>\n",
       "      <td>14.0</td>\n",
       "    </tr>\n",
       "    <tr>\n",
       "      <th>4</th>\n",
       "      <td>06A</td>\n",
       "      <td>AOS</td>\n",
       "      <td>40.0</td>\n",
       "    </tr>\n",
       "  </tbody>\n",
       "</table>\n",
       "</div>"
      ],
      "text/plain": [
       "  ORIGIN DEST  DISTANCE IN MILES\n",
       "0    01A  A43               30.0\n",
       "1    06A  A30               16.0\n",
       "2    06A  A43               18.0\n",
       "3    06A  ADQ               14.0\n",
       "4    06A  AOS               40.0"
      ]
     },
     "execution_count": 23,
     "metadata": {},
     "output_type": "execute_result"
    }
   ],
   "source": [
    "df_distance.head()"
   ]
  },
  {
   "cell_type": "markdown",
   "metadata": {},
   "source": [
    "Next step is to left join the original dataset with the reference dataset."
   ]
  },
  {
   "cell_type": "code",
   "execution_count": 24,
   "metadata": {},
   "outputs": [],
   "source": [
    "# Merge dataframes\n",
    "df_all = df_all.merge(right=df_distance, how='left',\n",
    "                      left_on=['startingAirport', 'destinationAirport'],\n",
    "                      right_on=['ORIGIN', 'DEST'])\n",
    "\n",
    "# Fill NaNs for new dataframe\n",
    "df_all['totalTravelDistance'] = df_all['totalTravelDistance'].combine_first(df_all['DISTANCE IN MILES'])\n",
    "\n",
    "# Drop reference columns since they are no longer needed\n",
    "df_all.drop(['ORIGIN', 'DEST', 'DISTANCE IN MILES'], axis=1, inplace=True)"
   ]
  },
  {
   "cell_type": "code",
   "execution_count": 25,
   "metadata": {},
   "outputs": [
    {
     "data": {
      "text/plain": [
       "searchDate                           0\n",
       "flightDate                           0\n",
       "startingAirport                      0\n",
       "destinationAirport                   0\n",
       "travelDuration                       0\n",
       "isBasicEconomy                       0\n",
       "isRefundable                         0\n",
       "isNonStop                            0\n",
       "totalFare                            0\n",
       "totalTravelDistance                  0\n",
       "segmentsDepartureTimeEpochSeconds    0\n",
       "segmentsCabinCode                    0\n",
       "dtype: int64"
      ]
     },
     "execution_count": 25,
     "metadata": {},
     "output_type": "execute_result"
    }
   ],
   "source": [
    "df_all.isna().sum()"
   ]
  },
  {
   "cell_type": "markdown",
   "metadata": {},
   "source": [
    "Now I will drop any duplicates and then save the imputed file to interim data."
   ]
  },
  {
   "cell_type": "code",
   "execution_count": 26,
   "metadata": {},
   "outputs": [],
   "source": [
    "# Drop duplicates\n",
    "df_all.drop_duplicates(inplace=True)"
   ]
  },
  {
   "cell_type": "code",
   "execution_count": 27,
   "metadata": {},
   "outputs": [],
   "source": [
    "# Save new data\n",
    "df_all.to_parquet(f\"{output_data_dir}/all_data_imputed.parquet\")"
   ]
  },
  {
   "cell_type": "markdown",
   "metadata": {},
   "source": [
    "## Feature engineering"
   ]
  },
  {
   "cell_type": "markdown",
   "metadata": {},
   "source": [
    "Feature engineering:\n",
    "- `deltaDays`: the difference in days from the date the search is performed and the date of the actual flight. Must be positive. The idea is that flights closer to the search date may be more expensive, since they're more likely to be full.\n",
    "- Cyclical features from departure date: `month_sin`, `month_cos`, `day_of_week_sin`, `day_of_week_cos`, `hour_sin`, `hour_cos`, `minute_sin`, `minute_cos`. The idea is to bridge the gap between the last instance of the previous month/day of week/hour/minute and the first instance of the next one, so the models learn better. \n",
    "\n",
    "Per Pine's analysis, departure and destination airports do not seem to suggest an indication for fares, and the information is already encoded into the `totalTravelDistance` column, so they will not be included in training/validation. \n",
    "\n",
    "**Total columns for training/validation:**\n",
    "- flightDate_month_sin\n",
    "- flightDate_month_cos\n",
    "- flightDate_day_of_week_sin\n",
    "- flightDate_day_of_week_cos\n",
    "- flightDate_hour_sin\n",
    "- flightDate_hour_cos\n",
    "- flightDate_minute_sin\n",
    "- flightDate_minute_cos\n",
    "- delta_days\n",
    "- travelDuration\n",
    "- isBasicEconomy\n",
    "- isRefundable\n",
    "- isNonStop\n",
    "- totalTravelDistance\n",
    "- segmentsCabinCode\n",
    "- totalFare\n",
    "\n",
    "**Columns that will go into a separate reference file** for use in inference:\n",
    "- startingAirport\n",
    "- destinationAirport\n",
    "- totalTravelDistance"
   ]
  },
  {
   "cell_type": "markdown",
   "metadata": {},
   "source": [
    "### Check unique cabin types"
   ]
  },
  {
   "cell_type": "markdown",
   "metadata": {},
   "source": [
    "The number of cabin types and their unique values are essential for building the app, so I need to extract this information."
   ]
  },
  {
   "cell_type": "code",
   "execution_count": 28,
   "metadata": {},
   "outputs": [],
   "source": [
    "# Get the unique values for cabin types\n",
    "cabin_types = set()\n",
    "\n",
    "for c in df_all['segmentsCabinCode'].unique():\n",
    "    for t in c.split('||'):\n",
    "        cabin_types.add(t)"
   ]
  },
  {
   "cell_type": "code",
   "execution_count": 29,
   "metadata": {},
   "outputs": [
    {
     "data": {
      "text/plain": [
       "{'business', 'coach', 'first', 'premium coach'}"
      ]
     },
     "execution_count": 29,
     "metadata": {},
     "output_type": "execute_result"
    }
   ],
   "source": [
    "cabin_types"
   ]
  },
  {
   "cell_type": "markdown",
   "metadata": {},
   "source": [
    "### Check the maximum number of legs for a single flight"
   ]
  },
  {
   "cell_type": "markdown",
   "metadata": {},
   "source": [
    "This is also an important information for building the app."
   ]
  },
  {
   "cell_type": "code",
   "execution_count": 31,
   "metadata": {},
   "outputs": [
    {
     "name": "stdout",
     "output_type": "stream",
     "text": [
      "4\n"
     ]
    }
   ],
   "source": [
    "# Get the maximum number of segments. This will be the maximum number of trips in a multi-city trip in the app\n",
    "max_num_legs = 1\n",
    "for i in df_all['segmentsCabinCode'].unique():\n",
    "    if len(i.split('||')) > max_num_legs:\n",
    "        max_num_legs = len(i.split('||'))\n",
    "\n",
    "print(max_num_legs)"
   ]
  },
  {
   "cell_type": "markdown",
   "metadata": {},
   "source": [
    "### Cyclical transformation for dates/times"
   ]
  },
  {
   "cell_type": "code",
   "execution_count": 32,
   "metadata": {},
   "outputs": [],
   "source": [
    "# Replace original flightDate with more detailed flightDate\n",
    "df_all['flightDate'] = df_all['segmentsDepartureTimeEpochSeconds'].apply(lambda x: int(x.split('||')[0]))"
   ]
  },
  {
   "cell_type": "code",
   "execution_count": 33,
   "metadata": {},
   "outputs": [],
   "source": [
    "df_all['flightDate'] = df_all['flightDate'].apply(lambda x: pd.to_datetime(x, unit='s'))"
   ]
  },
  {
   "cell_type": "code",
   "execution_count": 34,
   "metadata": {},
   "outputs": [],
   "source": [
    "# Travel duration, in days\n",
    "df_all['travelDurationDay'] = df_all['travelDuration'].str.findall('[0-9]+').apply(lambda x: float(x[0])/24.0 + float(x[1])/1440.0 if len(x) == 2 else float(x[0])/24.0)"
   ]
  },
  {
   "cell_type": "code",
   "execution_count": 35,
   "metadata": {},
   "outputs": [],
   "source": [
    "# Time difference in days between search date and departure date\n",
    "df_all['timeDeltaDays'] = (df_all['flightDate'] - pd.to_datetime(df_all['searchDate'], format=\"%Y-%m-%d\")).dt.days"
   ]
  },
  {
   "cell_type": "code",
   "execution_count": 36,
   "metadata": {},
   "outputs": [],
   "source": [
    "# Extract the day of week, month, hour and minute components from flightDate\n",
    "df_all['flightDayOfWeek'] = df_all['flightDate'].dt.weekday\n",
    "df_all['flightMonth'] = df_all['flightDate'].dt.month\n",
    "df_all['flightHour'] = df_all['flightDate'].dt.hour\n",
    "df_all['flightMinute'] = df_all['flightDate'].dt.minute"
   ]
  },
  {
   "cell_type": "code",
   "execution_count": 37,
   "metadata": {},
   "outputs": [],
   "source": [
    "# Perform cyclical transformation for day of week, month, hour and minute\n",
    "df_all['flightDayOfWeekSin'] = cyclical(df_all['flightDayOfWeek'], 7, func=np.sin)\n",
    "df_all['flightDayOfWeekCos'] = cyclical(df_all['flightDayOfWeek'], 7, func=np.cos)\n",
    "\n",
    "df_all['flightMonthSin'] = cyclical(df_all['flightMonth'], 12, func=np.sin)\n",
    "df_all['flightMonthCos'] = cyclical(df_all['flightMonth'], 12, func=np.cos)\n",
    "\n",
    "df_all['flightHourSin'] = cyclical(df_all['flightHour'], 24, func=np.sin)\n",
    "df_all['flightHourCos'] = cyclical(df_all['flightHour'], 24, func=np.cos)\n",
    "\n",
    "df_all['flightMinuteSin'] = cyclical(df_all['flightMinute'], 60, func=np.sin)\n",
    "df_all['flightMinuteCos'] = cyclical(df_all['flightMinute'], 60, func=np.cos)"
   ]
  },
  {
   "cell_type": "markdown",
   "metadata": {},
   "source": [
    "### Basic economy analysis"
   ]
  },
  {
   "cell_type": "markdown",
   "metadata": {},
   "source": [
    "This section aims to find out what types of cabins are available for basic economy tickets. The intuition is that basic economy tickets can only choose the `coach` cabin type."
   ]
  },
  {
   "cell_type": "code",
   "execution_count": 38,
   "metadata": {},
   "outputs": [],
   "source": [
    "# All cabins for basic economy tickets\n",
    "basic_economy_cabins_series = df_all[df_all['isBasicEconomy']==True]['segmentsCabinCode']\n",
    "\n",
    "basic_economy_cabins = set()\n",
    "\n",
    "for c in basic_economy_cabins_series.unique():\n",
    "    for t in c.split('||'):\n",
    "        basic_economy_cabins.add(t)\n"
   ]
  },
  {
   "cell_type": "code",
   "execution_count": 39,
   "metadata": {},
   "outputs": [
    {
     "data": {
      "text/plain": [
       "{'coach'}"
      ]
     },
     "execution_count": 39,
     "metadata": {},
     "output_type": "execute_result"
    }
   ],
   "source": [
    "basic_economy_cabins"
   ]
  },
  {
   "cell_type": "code",
   "execution_count": 40,
   "metadata": {},
   "outputs": [],
   "source": [
    "# All cabins for non-basic economy tickets\n",
    "nonbasic_economy_cabins_series = df_all[df_all['isBasicEconomy']==False]['segmentsCabinCode']\n",
    "\n",
    "nonbasic_economy_cabins = set()\n",
    "\n",
    "for c in nonbasic_economy_cabins_series.unique():\n",
    "    for t in c.split('||'):\n",
    "        nonbasic_economy_cabins.add(t)"
   ]
  },
  {
   "cell_type": "code",
   "execution_count": 41,
   "metadata": {},
   "outputs": [
    {
     "data": {
      "text/plain": [
       "{'business', 'coach', 'first', 'premium coach'}"
      ]
     },
     "execution_count": 41,
     "metadata": {},
     "output_type": "execute_result"
    }
   ],
   "source": [
    "nonbasic_economy_cabins"
   ]
  },
  {
   "cell_type": "markdown",
   "metadata": {},
   "source": [
    "The intuition is correct. This will be critical in modelling, because there has to be a price difference between basic and non-basic economy tickets."
   ]
  },
  {
   "cell_type": "markdown",
   "metadata": {},
   "source": [
    "### Refundables analysis"
   ]
  },
  {
   "cell_type": "markdown",
   "metadata": {},
   "source": [
    "This section aims to find out what cabins are available for refundable vs. non-refundable tickets."
   ]
  },
  {
   "cell_type": "code",
   "execution_count": 42,
   "metadata": {},
   "outputs": [],
   "source": [
    "refundable_series = df_all[df_all['isRefundable']==True]['segmentsCabinCode']\n",
    "\n",
    "refundable_cabins = set()\n",
    "\n",
    "for c in refundable_series.unique():\n",
    "    for t in c.split('||'):\n",
    "        refundable_cabins.add(t)"
   ]
  },
  {
   "cell_type": "code",
   "execution_count": 43,
   "metadata": {},
   "outputs": [
    {
     "data": {
      "text/plain": [
       "{'coach'}"
      ]
     },
     "execution_count": 43,
     "metadata": {},
     "output_type": "execute_result"
    }
   ],
   "source": [
    "refundable_cabins"
   ]
  },
  {
   "cell_type": "code",
   "execution_count": 44,
   "metadata": {},
   "outputs": [],
   "source": [
    "nonrefundable_series = df_all[df_all['isRefundable']==False]['segmentsCabinCode']\n",
    "\n",
    "nonrefundable_cabins = set()\n",
    "\n",
    "for c in nonrefundable_series.unique():\n",
    "    for t in c.split('||'):\n",
    "        nonrefundable_cabins.add(t)"
   ]
  },
  {
   "cell_type": "code",
   "execution_count": 45,
   "metadata": {},
   "outputs": [
    {
     "data": {
      "text/plain": [
       "{'business', 'coach', 'first', 'premium coach'}"
      ]
     },
     "execution_count": 45,
     "metadata": {},
     "output_type": "execute_result"
    }
   ],
   "source": [
    "nonrefundable_cabins"
   ]
  },
  {
   "cell_type": "markdown",
   "metadata": {},
   "source": [
    "The cell below checks if any basic economy tickets are refundable."
   ]
  },
  {
   "cell_type": "code",
   "execution_count": 46,
   "metadata": {},
   "outputs": [
    {
     "data": {
      "text/plain": [
       "0"
      ]
     },
     "execution_count": 46,
     "metadata": {},
     "output_type": "execute_result"
    }
   ],
   "source": [
    "len(df_all[(df_all['isBasicEconomy']==True) & (df_all['isRefundable']==True)])"
   ]
  },
  {
   "cell_type": "markdown",
   "metadata": {},
   "source": [
    "It is safe to assume that basic economy tickets are non-refundable."
   ]
  },
  {
   "cell_type": "markdown",
   "metadata": {},
   "source": [
    "### Effect-encoding for binary variables"
   ]
  },
  {
   "cell_type": "markdown",
   "metadata": {},
   "source": [
    "In a binary encoder, values are encoded as `[0, 1]`, whereas with the effect\n",
    "    encoder, values are encoded as `[-1, 1]`. This encoding strategy stands to \n",
    "    benefit neural network convergence for datasets with lots of binary \n",
    "    variables, as empirically found in the following resource on neural network\n",
    "    training (Specifically in the \"Why not code binary inputs as 0 and 1?\" \n",
    "    part): http://www.faqs.org/faqs/ai-faq/neural-nets/part2/"
   ]
  },
  {
   "cell_type": "code",
   "execution_count": 47,
   "metadata": {},
   "outputs": [],
   "source": [
    "from models.preprocessing import effect_encoder"
   ]
  },
  {
   "cell_type": "code",
   "execution_count": 48,
   "metadata": {},
   "outputs": [],
   "source": [
    "# Transform the cabin code and return the transformer\n",
    "mlbCabinCode, cabinCodeTransformed = effect_encoder(data=df_all['segmentsCabinCode'], data_is_transformed=False)"
   ]
  },
  {
   "cell_type": "code",
   "execution_count": 49,
   "metadata": {},
   "outputs": [],
   "source": [
    "# Transform the isBasicEconomy column\n",
    "isBasicEconomyTransformed = effect_encoder(data=df_all['isBasicEconomy'], data_is_transformed=True).reset_index(drop=True)"
   ]
  },
  {
   "cell_type": "code",
   "execution_count": 50,
   "metadata": {},
   "outputs": [],
   "source": [
    "# Transform the isRefundable column\n",
    "isRefundableTransformed = effect_encoder(data=df_all['isRefundable'], data_is_transformed=True).reset_index(drop=True)"
   ]
  },
  {
   "cell_type": "code",
   "execution_count": 51,
   "metadata": {},
   "outputs": [],
   "source": [
    "# Transform the isNonStop column\n",
    "isNonStopTransformed = effect_encoder(data=df_all['isNonStop'], data_is_transformed=True).reset_index(drop=True)"
   ]
  },
  {
   "cell_type": "code",
   "execution_count": 52,
   "metadata": {},
   "outputs": [],
   "source": [
    "# Add an extra column numLegs based on segmentsAirlineCode\n",
    "numLegs = df_all['segmentsCabinCode'].apply(lambda x: len(x.split('||'))).reset_index(drop=True).rename(\"numLegs\")\n"
   ]
  },
  {
   "cell_type": "markdown",
   "metadata": {},
   "source": [
    "## Concatenate transformed data and save to `data/processed`"
   ]
  },
  {
   "cell_type": "code",
   "execution_count": 53,
   "metadata": {},
   "outputs": [
    {
     "data": {
      "text/plain": [
       "(13166507, 26)"
      ]
     },
     "execution_count": 53,
     "metadata": {},
     "output_type": "execute_result"
    }
   ],
   "source": [
    "df_all.shape"
   ]
  },
  {
   "cell_type": "code",
   "execution_count": 54,
   "metadata": {},
   "outputs": [],
   "source": [
    "df_transformed = df_all[[    \n",
    "    'flightDayOfWeekSin', \n",
    "    'flightDayOfWeekCos', \n",
    "    'flightMonthSin', \n",
    "    'flightMonthCos', \n",
    "    'flightHourSin', \n",
    "    'flightHourCos', \n",
    "    'flightMinuteSin', \n",
    "    'flightMinuteCos',\n",
    "    'timeDeltaDays',\n",
    "    'travelDurationDay',\n",
    "    'totalTravelDistance',\n",
    "    'totalFare'\n",
    "    ]].reset_index(drop=True)"
   ]
  },
  {
   "cell_type": "code",
   "execution_count": 55,
   "metadata": {},
   "outputs": [],
   "source": [
    "data_to_concat = [\n",
    "    isBasicEconomyTransformed, \n",
    "    isRefundableTransformed, \n",
    "    isNonStopTransformed,\n",
    "    numLegs,\n",
    "    cabinCodeTransformed]"
   ]
  },
  {
   "cell_type": "code",
   "execution_count": 56,
   "metadata": {},
   "outputs": [],
   "source": [
    "for i in data_to_concat:\n",
    "    if type(i) == pd.Series:\n",
    "        df_transformed = pd.concat([df_transformed, i], axis=1, names=list(df_transformed.columns)+[i.name])\n",
    "    elif type(i) == pd.DataFrame:\n",
    "        df_transformed = pd.concat([df_transformed, i], axis=1, names=list(df_transformed.columns)+list(i.columns))"
   ]
  },
  {
   "cell_type": "code",
   "execution_count": 57,
   "metadata": {},
   "outputs": [
    {
     "data": {
      "text/html": [
       "<div>\n",
       "<style scoped>\n",
       "    .dataframe tbody tr th:only-of-type {\n",
       "        vertical-align: middle;\n",
       "    }\n",
       "\n",
       "    .dataframe tbody tr th {\n",
       "        vertical-align: top;\n",
       "    }\n",
       "\n",
       "    .dataframe thead th {\n",
       "        text-align: right;\n",
       "    }\n",
       "</style>\n",
       "<table border=\"1\" class=\"dataframe\">\n",
       "  <thead>\n",
       "    <tr style=\"text-align: right;\">\n",
       "      <th></th>\n",
       "      <th>flightDayOfWeekSin</th>\n",
       "      <th>flightDayOfWeekCos</th>\n",
       "      <th>flightMonthSin</th>\n",
       "      <th>flightMonthCos</th>\n",
       "      <th>flightHourSin</th>\n",
       "      <th>flightHourCos</th>\n",
       "      <th>flightMinuteSin</th>\n",
       "      <th>flightMinuteCos</th>\n",
       "      <th>timeDeltaDays</th>\n",
       "      <th>travelDurationDay</th>\n",
       "      <th>totalTravelDistance</th>\n",
       "      <th>totalFare</th>\n",
       "      <th>isBasicEconomy</th>\n",
       "      <th>isRefundable</th>\n",
       "      <th>isNonStop</th>\n",
       "      <th>numLegs</th>\n",
       "      <th>business</th>\n",
       "      <th>coach</th>\n",
       "      <th>first</th>\n",
       "      <th>premium coach</th>\n",
       "    </tr>\n",
       "  </thead>\n",
       "  <tbody>\n",
       "    <tr>\n",
       "      <th>0</th>\n",
       "      <td>-0.433884</td>\n",
       "      <td>-0.900969</td>\n",
       "      <td>0.5</td>\n",
       "      <td>-0.866025</td>\n",
       "      <td>0.000000e+00</td>\n",
       "      <td>1.000000e+00</td>\n",
       "      <td>-2.079117e-01</td>\n",
       "      <td>0.978148</td>\n",
       "      <td>34</td>\n",
       "      <td>0.406250</td>\n",
       "      <td>1931.0</td>\n",
       "      <td>129.58</td>\n",
       "      <td>-1</td>\n",
       "      <td>-1</td>\n",
       "      <td>-1</td>\n",
       "      <td>2</td>\n",
       "      <td>-1</td>\n",
       "      <td>1</td>\n",
       "      <td>-1</td>\n",
       "      <td>-1</td>\n",
       "    </tr>\n",
       "    <tr>\n",
       "      <th>1</th>\n",
       "      <td>-0.433884</td>\n",
       "      <td>-0.900969</td>\n",
       "      <td>0.5</td>\n",
       "      <td>-0.866025</td>\n",
       "      <td>1.000000e+00</td>\n",
       "      <td>6.123234e-17</td>\n",
       "      <td>9.510565e-01</td>\n",
       "      <td>-0.309017</td>\n",
       "      <td>34</td>\n",
       "      <td>0.181944</td>\n",
       "      <td>1947.0</td>\n",
       "      <td>228.59</td>\n",
       "      <td>-1</td>\n",
       "      <td>-1</td>\n",
       "      <td>1</td>\n",
       "      <td>1</td>\n",
       "      <td>-1</td>\n",
       "      <td>1</td>\n",
       "      <td>-1</td>\n",
       "      <td>-1</td>\n",
       "    </tr>\n",
       "    <tr>\n",
       "      <th>2</th>\n",
       "      <td>0.433884</td>\n",
       "      <td>-0.900969</td>\n",
       "      <td>0.5</td>\n",
       "      <td>-0.866025</td>\n",
       "      <td>-9.659258e-01</td>\n",
       "      <td>-2.588190e-01</td>\n",
       "      <td>-9.510565e-01</td>\n",
       "      <td>-0.309017</td>\n",
       "      <td>33</td>\n",
       "      <td>0.182639</td>\n",
       "      <td>1947.0</td>\n",
       "      <td>228.59</td>\n",
       "      <td>-1</td>\n",
       "      <td>-1</td>\n",
       "      <td>1</td>\n",
       "      <td>1</td>\n",
       "      <td>-1</td>\n",
       "      <td>1</td>\n",
       "      <td>-1</td>\n",
       "      <td>-1</td>\n",
       "    </tr>\n",
       "    <tr>\n",
       "      <th>3</th>\n",
       "      <td>0.433884</td>\n",
       "      <td>-0.900969</td>\n",
       "      <td>0.5</td>\n",
       "      <td>-0.866025</td>\n",
       "      <td>1.224647e-16</td>\n",
       "      <td>-1.000000e+00</td>\n",
       "      <td>5.665539e-16</td>\n",
       "      <td>-1.000000</td>\n",
       "      <td>33</td>\n",
       "      <td>0.253472</td>\n",
       "      <td>1947.0</td>\n",
       "      <td>301.58</td>\n",
       "      <td>-1</td>\n",
       "      <td>-1</td>\n",
       "      <td>-1</td>\n",
       "      <td>2</td>\n",
       "      <td>-1</td>\n",
       "      <td>1</td>\n",
       "      <td>-1</td>\n",
       "      <td>-1</td>\n",
       "    </tr>\n",
       "    <tr>\n",
       "      <th>4</th>\n",
       "      <td>0.433884</td>\n",
       "      <td>-0.900969</td>\n",
       "      <td>0.5</td>\n",
       "      <td>-0.866025</td>\n",
       "      <td>-2.588190e-01</td>\n",
       "      <td>-9.659258e-01</td>\n",
       "      <td>0.000000e+00</td>\n",
       "      <td>1.000000</td>\n",
       "      <td>33</td>\n",
       "      <td>0.255556</td>\n",
       "      <td>1947.0</td>\n",
       "      <td>309.58</td>\n",
       "      <td>-1</td>\n",
       "      <td>-1</td>\n",
       "      <td>-1</td>\n",
       "      <td>2</td>\n",
       "      <td>-1</td>\n",
       "      <td>1</td>\n",
       "      <td>-1</td>\n",
       "      <td>-1</td>\n",
       "    </tr>\n",
       "  </tbody>\n",
       "</table>\n",
       "</div>"
      ],
      "text/plain": [
       "   flightDayOfWeekSin  flightDayOfWeekCos  flightMonthSin  flightMonthCos  \\\n",
       "0           -0.433884           -0.900969             0.5       -0.866025   \n",
       "1           -0.433884           -0.900969             0.5       -0.866025   \n",
       "2            0.433884           -0.900969             0.5       -0.866025   \n",
       "3            0.433884           -0.900969             0.5       -0.866025   \n",
       "4            0.433884           -0.900969             0.5       -0.866025   \n",
       "\n",
       "   flightHourSin  flightHourCos  flightMinuteSin  flightMinuteCos  \\\n",
       "0   0.000000e+00   1.000000e+00    -2.079117e-01         0.978148   \n",
       "1   1.000000e+00   6.123234e-17     9.510565e-01        -0.309017   \n",
       "2  -9.659258e-01  -2.588190e-01    -9.510565e-01        -0.309017   \n",
       "3   1.224647e-16  -1.000000e+00     5.665539e-16        -1.000000   \n",
       "4  -2.588190e-01  -9.659258e-01     0.000000e+00         1.000000   \n",
       "\n",
       "   timeDeltaDays  travelDurationDay  totalTravelDistance  totalFare  \\\n",
       "0             34           0.406250               1931.0     129.58   \n",
       "1             34           0.181944               1947.0     228.59   \n",
       "2             33           0.182639               1947.0     228.59   \n",
       "3             33           0.253472               1947.0     301.58   \n",
       "4             33           0.255556               1947.0     309.58   \n",
       "\n",
       "   isBasicEconomy  isRefundable  isNonStop  numLegs  business  coach  first  \\\n",
       "0              -1            -1         -1        2        -1      1     -1   \n",
       "1              -1            -1          1        1        -1      1     -1   \n",
       "2              -1            -1          1        1        -1      1     -1   \n",
       "3              -1            -1         -1        2        -1      1     -1   \n",
       "4              -1            -1         -1        2        -1      1     -1   \n",
       "\n",
       "   premium coach  \n",
       "0             -1  \n",
       "1             -1  \n",
       "2             -1  \n",
       "3             -1  \n",
       "4             -1  "
      ]
     },
     "execution_count": 57,
     "metadata": {},
     "output_type": "execute_result"
    }
   ],
   "source": [
    "df_transformed.head()"
   ]
  },
  {
   "cell_type": "code",
   "execution_count": 58,
   "metadata": {},
   "outputs": [
    {
     "data": {
      "text/html": [
       "<div>\n",
       "<style scoped>\n",
       "    .dataframe tbody tr th:only-of-type {\n",
       "        vertical-align: middle;\n",
       "    }\n",
       "\n",
       "    .dataframe tbody tr th {\n",
       "        vertical-align: top;\n",
       "    }\n",
       "\n",
       "    .dataframe thead th {\n",
       "        text-align: right;\n",
       "    }\n",
       "</style>\n",
       "<table border=\"1\" class=\"dataframe\">\n",
       "  <thead>\n",
       "    <tr style=\"text-align: right;\">\n",
       "      <th></th>\n",
       "      <th>flightDayOfWeekSin</th>\n",
       "      <th>flightDayOfWeekCos</th>\n",
       "      <th>flightMonthSin</th>\n",
       "      <th>flightMonthCos</th>\n",
       "      <th>flightHourSin</th>\n",
       "      <th>flightHourCos</th>\n",
       "      <th>flightMinuteSin</th>\n",
       "      <th>flightMinuteCos</th>\n",
       "      <th>timeDeltaDays</th>\n",
       "      <th>travelDurationDay</th>\n",
       "      <th>totalTravelDistance</th>\n",
       "      <th>totalFare</th>\n",
       "      <th>isBasicEconomy</th>\n",
       "      <th>isRefundable</th>\n",
       "      <th>isNonStop</th>\n",
       "      <th>numLegs</th>\n",
       "      <th>business</th>\n",
       "      <th>coach</th>\n",
       "      <th>first</th>\n",
       "      <th>premium coach</th>\n",
       "    </tr>\n",
       "  </thead>\n",
       "  <tbody>\n",
       "    <tr>\n",
       "      <th>13166502</th>\n",
       "      <td>0.781831</td>\n",
       "      <td>0.623490</td>\n",
       "      <td>1.224647e-16</td>\n",
       "      <td>-1.0</td>\n",
       "      <td>1.224647e-16</td>\n",
       "      <td>-1.000000</td>\n",
       "      <td>-9.510565e-01</td>\n",
       "      <td>0.309017</td>\n",
       "      <td>53</td>\n",
       "      <td>0.314583</td>\n",
       "      <td>2161.0</td>\n",
       "      <td>661.6</td>\n",
       "      <td>-1</td>\n",
       "      <td>-1</td>\n",
       "      <td>-1</td>\n",
       "      <td>2</td>\n",
       "      <td>-1</td>\n",
       "      <td>1</td>\n",
       "      <td>-1</td>\n",
       "      <td>-1</td>\n",
       "    </tr>\n",
       "    <tr>\n",
       "      <th>13166503</th>\n",
       "      <td>0.781831</td>\n",
       "      <td>0.623490</td>\n",
       "      <td>1.224647e-16</td>\n",
       "      <td>-1.0</td>\n",
       "      <td>1.224647e-16</td>\n",
       "      <td>-1.000000</td>\n",
       "      <td>5.665539e-16</td>\n",
       "      <td>-1.000000</td>\n",
       "      <td>53</td>\n",
       "      <td>0.210417</td>\n",
       "      <td>2135.0</td>\n",
       "      <td>668.6</td>\n",
       "      <td>-1</td>\n",
       "      <td>-1</td>\n",
       "      <td>1</td>\n",
       "      <td>1</td>\n",
       "      <td>-1</td>\n",
       "      <td>1</td>\n",
       "      <td>-1</td>\n",
       "      <td>-1</td>\n",
       "    </tr>\n",
       "    <tr>\n",
       "      <th>13166504</th>\n",
       "      <td>0.781831</td>\n",
       "      <td>0.623490</td>\n",
       "      <td>1.224647e-16</td>\n",
       "      <td>-1.0</td>\n",
       "      <td>-5.000000e-01</td>\n",
       "      <td>-0.866025</td>\n",
       "      <td>9.781476e-01</td>\n",
       "      <td>0.207912</td>\n",
       "      <td>53</td>\n",
       "      <td>0.213194</td>\n",
       "      <td>2135.0</td>\n",
       "      <td>668.6</td>\n",
       "      <td>-1</td>\n",
       "      <td>-1</td>\n",
       "      <td>1</td>\n",
       "      <td>1</td>\n",
       "      <td>-1</td>\n",
       "      <td>1</td>\n",
       "      <td>-1</td>\n",
       "      <td>-1</td>\n",
       "    </tr>\n",
       "    <tr>\n",
       "      <th>13166505</th>\n",
       "      <td>0.781831</td>\n",
       "      <td>0.623490</td>\n",
       "      <td>1.224647e-16</td>\n",
       "      <td>-1.0</td>\n",
       "      <td>2.588190e-01</td>\n",
       "      <td>-0.965926</td>\n",
       "      <td>5.665539e-16</td>\n",
       "      <td>-1.000000</td>\n",
       "      <td>53</td>\n",
       "      <td>0.300000</td>\n",
       "      <td>2332.0</td>\n",
       "      <td>771.6</td>\n",
       "      <td>-1</td>\n",
       "      <td>-1</td>\n",
       "      <td>-1</td>\n",
       "      <td>2</td>\n",
       "      <td>-1</td>\n",
       "      <td>1</td>\n",
       "      <td>-1</td>\n",
       "      <td>1</td>\n",
       "    </tr>\n",
       "    <tr>\n",
       "      <th>13166506</th>\n",
       "      <td>0.974928</td>\n",
       "      <td>-0.222521</td>\n",
       "      <td>1.224647e-16</td>\n",
       "      <td>-1.0</td>\n",
       "      <td>2.588190e-01</td>\n",
       "      <td>0.965926</td>\n",
       "      <td>-5.000000e-01</td>\n",
       "      <td>0.866025</td>\n",
       "      <td>54</td>\n",
       "      <td>0.210417</td>\n",
       "      <td>2135.0</td>\n",
       "      <td>998.6</td>\n",
       "      <td>-1</td>\n",
       "      <td>-1</td>\n",
       "      <td>1</td>\n",
       "      <td>1</td>\n",
       "      <td>-1</td>\n",
       "      <td>1</td>\n",
       "      <td>-1</td>\n",
       "      <td>-1</td>\n",
       "    </tr>\n",
       "  </tbody>\n",
       "</table>\n",
       "</div>"
      ],
      "text/plain": [
       "          flightDayOfWeekSin  flightDayOfWeekCos  flightMonthSin  \\\n",
       "13166502            0.781831            0.623490    1.224647e-16   \n",
       "13166503            0.781831            0.623490    1.224647e-16   \n",
       "13166504            0.781831            0.623490    1.224647e-16   \n",
       "13166505            0.781831            0.623490    1.224647e-16   \n",
       "13166506            0.974928           -0.222521    1.224647e-16   \n",
       "\n",
       "          flightMonthCos  flightHourSin  flightHourCos  flightMinuteSin  \\\n",
       "13166502            -1.0   1.224647e-16      -1.000000    -9.510565e-01   \n",
       "13166503            -1.0   1.224647e-16      -1.000000     5.665539e-16   \n",
       "13166504            -1.0  -5.000000e-01      -0.866025     9.781476e-01   \n",
       "13166505            -1.0   2.588190e-01      -0.965926     5.665539e-16   \n",
       "13166506            -1.0   2.588190e-01       0.965926    -5.000000e-01   \n",
       "\n",
       "          flightMinuteCos  timeDeltaDays  travelDurationDay  \\\n",
       "13166502         0.309017             53           0.314583   \n",
       "13166503        -1.000000             53           0.210417   \n",
       "13166504         0.207912             53           0.213194   \n",
       "13166505        -1.000000             53           0.300000   \n",
       "13166506         0.866025             54           0.210417   \n",
       "\n",
       "          totalTravelDistance  totalFare  isBasicEconomy  isRefundable  \\\n",
       "13166502               2161.0      661.6              -1            -1   \n",
       "13166503               2135.0      668.6              -1            -1   \n",
       "13166504               2135.0      668.6              -1            -1   \n",
       "13166505               2332.0      771.6              -1            -1   \n",
       "13166506               2135.0      998.6              -1            -1   \n",
       "\n",
       "          isNonStop  numLegs  business  coach  first  premium coach  \n",
       "13166502         -1        2        -1      1     -1             -1  \n",
       "13166503          1        1        -1      1     -1             -1  \n",
       "13166504          1        1        -1      1     -1             -1  \n",
       "13166505         -1        2        -1      1     -1              1  \n",
       "13166506          1        1        -1      1     -1             -1  "
      ]
     },
     "execution_count": 58,
     "metadata": {},
     "output_type": "execute_result"
    }
   ],
   "source": [
    "df_transformed.tail()"
   ]
  },
  {
   "cell_type": "code",
   "execution_count": 59,
   "metadata": {},
   "outputs": [],
   "source": [
    "processed_data_path = f\"{ROOT_PATH_FROM_NOTEBOOK}/{DATA_PATH}/{PROCESSED_DATA_PATH}\"\n",
    "\n",
    "df_transformed.to_parquet(f\"{processed_data_path}/all_data_transformed.parquet\")"
   ]
  },
  {
   "cell_type": "markdown",
   "metadata": {},
   "source": [
    "## Save transformers to `models/`"
   ]
  },
  {
   "cell_type": "code",
   "execution_count": 60,
   "metadata": {},
   "outputs": [],
   "source": [
    "from joblib import dump"
   ]
  },
  {
   "cell_type": "code",
   "execution_count": 61,
   "metadata": {},
   "outputs": [
    {
     "data": {
      "text/plain": [
       "['../models/nicholas_mlbCabinCode.joblib']"
      ]
     },
     "execution_count": 61,
     "metadata": {},
     "output_type": "execute_result"
    }
   ],
   "source": [
    "dump(mlbCabinCode, f\"{ROOT_PATH_FROM_NOTEBOOK}/{MODELS_PATH}/nicholas_mlbCabinCode.joblib\")"
   ]
  },
  {
   "cell_type": "markdown",
   "metadata": {},
   "source": [
    "## Extract origin/destination data"
   ]
  },
  {
   "cell_type": "code",
   "execution_count": 62,
   "metadata": {},
   "outputs": [],
   "source": [
    "df_all[['startingAirport', 'destinationAirport']] \\\n",
    "    .drop_duplicates() \\\n",
    "    .merge(\n",
    "        right=df_distance, how='left',\n",
    "        left_on=['startingAirport', 'destinationAirport'],\n",
    "        right_on=['ORIGIN', 'DEST']) \\\n",
    "    [['ORIGIN', 'DEST', 'DISTANCE IN MILES']] \\\n",
    "    .to_csv('distance_data.csv', encoding='utf-8', index=False, header=True)"
   ]
  },
  {
   "cell_type": "markdown",
   "metadata": {},
   "source": [
    "## Extract travel duration data"
   ]
  },
  {
   "cell_type": "code",
   "execution_count": 67,
   "metadata": {},
   "outputs": [],
   "source": [
    "df_all[['startingAirport', 'destinationAirport', 'travelDurationDay']] \\\n",
    "    .groupby(['startingAirport', 'destinationAirport']) \\\n",
    "    .mean() \\\n",
    "    .to_csv('travel_duration_data.csv', encoding='utf-8', index=True, header=True)"
   ]
  },
  {
   "cell_type": "code",
   "execution_count": null,
   "metadata": {},
   "outputs": [],
   "source": []
  }
 ],
 "metadata": {
  "kernelspec": {
   "display_name": ".venv",
   "language": "python",
   "name": "python3"
  },
  "language_info": {
   "codemirror_mode": {
    "name": "ipython",
    "version": 3
   },
   "file_extension": ".py",
   "mimetype": "text/x-python",
   "name": "python",
   "nbconvert_exporter": "python",
   "pygments_lexer": "ipython3",
   "version": "3.11.4"
  }
 },
 "nbformat": 4,
 "nbformat_minor": 2
}
