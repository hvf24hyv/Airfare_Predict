{
 "cells": [
  {
   "cell_type": "markdown",
   "id": "50ffdaba-c524-4536-ab7f-9e8728ae2bf2",
   "metadata": {},
   "source": [
    "# AT3 - Data Preparation"
   ]
  },
  {
   "cell_type": "markdown",
   "id": "27ce931e-aff4-4395-845b-71a56dce9099",
   "metadata": {},
   "source": [
    "We work with the itineraries_csv.zip\n",
    "\n",
    "First we unzip."
   ]
  },
  {
   "cell_type": "code",
   "execution_count": 2,
   "id": "86d76849-56f9-4d30-add1-5efff234b2e0",
   "metadata": {},
   "outputs": [],
   "source": [
    "import zipfile\n",
    "import os\n",
    "import pandas as pd"
   ]
  },
  {
   "cell_type": "code",
   "execution_count": null,
   "id": "0bd542b9-1a8d-499a-bacf-9575e7e0542e",
   "metadata": {},
   "outputs": [],
   "source": [
    "zip_file_path = '../data/raw/itineraries_csv.zip'\n",
    "destination_folder = \"../data/interim\"\n",
    "\n",
    "with zipfile.ZipFile(zip_file_path, 'r') as zip_ref:\n",
    "    zip_ref.extractall(destination_folder)"
   ]
  },
  {
   "cell_type": "code",
   "execution_count": null,
   "id": "080eb4ac-967d-4a82-a1fc-707c72748d37",
   "metadata": {},
   "outputs": [],
   "source": [
    "base_folder = \"../data/interim/itineraries_csv\"\n",
    "\n",
    "for airport_folder in os.listdir(base_folder):\n",
    "    airport_path = os.path.join(base_folder, airport_folder)\n",
    "    \n",
    "    # Check if it’s a directory\n",
    "    if os.path.isdir(airport_path):\n",
    "        # Iterate through files in the airport folder\n",
    "        for zip_file in os.listdir(airport_path):\n",
    "            zip_path = os.path.join(airport_path, zip_file)\n",
    "            \n",
    "            # Unzip if it's a zip file\n",
    "            if zipfile.is_zipfile(zip_path):\n",
    "                with zipfile.ZipFile(zip_path, 'r') as zip_ref:\n",
    "                    # Create a folder to store unzipped content within the same airport folder\n",
    "                    unzipped_folder = os.path.join(airport_path, zip_file.replace('.zip', ''))\n",
    "                    os.makedirs(unzipped_folder, exist_ok=True)\n",
    "                    zip_ref.extractall(unzipped_folder)"
   ]
  },
  {
   "cell_type": "code",
   "execution_count": null,
   "id": "4e266d66-f96d-4635-be9e-bf31503bc786",
   "metadata": {},
   "outputs": [],
   "source": [
    "atl_folder = \"../data/interim/itineraries_csv/ATL\"\n",
    "\n",
    "# Find the first folder inside ATL (one of the unzipped folders)\n",
    "unzipped_folder = next((f for f in os.listdir(atl_folder) if os.path.isdir(os.path.join(atl_folder, f))), None)\n",
    "\n",
    "# Path to the unzipped folder\n",
    "csv_folder_path = os.path.join(atl_folder, unzipped_folder)\n",
    "\n",
    "# Find the first CSV file in the folder\n",
    "csv_file = next((f for f in os.listdir(csv_folder_path) if f.endswith('.csv')), None)\n",
    "\n",
    "# Load and display the CSV file\n",
    "if csv_file:\n",
    "    csv_path = os.path.join(csv_folder_path, csv_file)\n",
    "    df = pd.read_csv(csv_path)\n",
    "    print(df.head())  # Display the first few rows of the CSV file\n",
    "else:\n",
    "    print(\"No CSV file found in the specified ATL folder.\")"
   ]
  },
  {
   "cell_type": "code",
   "execution_count": null,
   "id": "5cff5b85-8835-4d90-b3e8-b5b10177bee8",
   "metadata": {},
   "outputs": [],
   "source": [
    "df.head()"
   ]
  },
  {
   "cell_type": "code",
   "execution_count": null,
   "id": "e1d71f8c-417f-423e-bded-a64ed31b908d",
   "metadata": {},
   "outputs": [],
   "source": [
    "base_folder = \"../data/interim/itineraries_csv\"\n",
    "\n",
    "# Iterate over each airport folder\n",
    "for airport_folder in os.listdir(base_folder):\n",
    "    airport_path = os.path.join(base_folder, airport_folder)\n",
    "    \n",
    "    # Check if it’s a directory\n",
    "    if os.path.isdir(airport_path):\n",
    "        combined_df = pd.DataFrame()  # DataFrame to hold combined data for each airport\n",
    "\n",
    "        # Iterate through each unzipped folder within the airport folder\n",
    "        for subfolder in os.listdir(airport_path):\n",
    "            subfolder_path = os.path.join(airport_path, subfolder)\n",
    "\n",
    "            # Check if it’s a directory and contains CSV files\n",
    "            if os.path.isdir(subfolder_path):\n",
    "                for file in os.listdir(subfolder_path):\n",
    "                    if file.endswith('.csv'):\n",
    "                        file_path = os.path.join(subfolder_path, file)\n",
    "                        \n",
    "                        # Read each CSV and append to the combined DataFrame\n",
    "                        df = pd.read_csv(file_path)\n",
    "                        combined_df = pd.concat([combined_df, df], ignore_index=True)\n",
    "\n",
    "        # Save the combined CSV for the airport folder\n",
    "        combined_csv_path = os.path.join(airport_path, f\"{airport_folder}_combined.csv\")\n",
    "        combined_df.to_csv(combined_csv_path, index=False)\n",
    "        print(f\"Combined CSV saved for {airport_folder} at {combined_csv_path}\")"
   ]
  },
  {
   "cell_type": "code",
   "execution_count": null,
   "id": "4e20ba4c-c20c-4ce5-bf14-f6548f6d52d5",
   "metadata": {},
   "outputs": [],
   "source": [
    "base_folder = \"../data/interim/itineraries_csv\"\n",
    "\n",
    "# DataFrame to hold all combined data from all airports\n",
    "all_airports_df = pd.DataFrame()\n",
    "\n",
    "# Iterate over each airport folder\n",
    "for airport_folder in os.listdir(base_folder):\n",
    "    airport_path = os.path.join(base_folder, airport_folder)\n",
    "    \n",
    "    # Path to the combined CSV file for the airport\n",
    "    combined_csv_path = os.path.join(airport_path, f\"{airport_folder}_combined.csv\")\n",
    "    \n",
    "    # Check if the combined CSV file exists\n",
    "    if os.path.isfile(combined_csv_path):\n",
    "        # Read the combined CSV file and append to the all_airports DataFrame\n",
    "        df = pd.read_csv(combined_csv_path)\n",
    "        all_airports_df = pd.concat([all_airports_df, df], ignore_index=True)\n",
    "\n",
    "# Save the final combined CSV for all airports\n",
    "final_csv_path = os.path.join(base_folder, \"all_airports_combined.csv\")\n",
    "all_airports_df.to_csv(final_csv_path, index=False)\n",
    "print(f\"All airports combined CSV saved at {final_csv_path}\")"
   ]
  },
  {
   "cell_type": "code",
   "execution_count": 4,
   "id": "97371209-762a-4caf-98d0-7bb6145028f1",
   "metadata": {},
   "outputs": [],
   "source": [
    "csv_path = \"../data/interim/itineraries_csv/all_airports_combined.csv\"\n",
    "df = pd.read_csv(csv_path)"
   ]
  },
  {
   "cell_type": "code",
   "execution_count": 5,
   "id": "76f1b877-2e46-422c-9099-8f0287074b69",
   "metadata": {},
   "outputs": [
    {
     "data": {
      "text/html": [
       "<div>\n",
       "<style scoped>\n",
       "    .dataframe tbody tr th:only-of-type {\n",
       "        vertical-align: middle;\n",
       "    }\n",
       "\n",
       "    .dataframe tbody tr th {\n",
       "        vertical-align: top;\n",
       "    }\n",
       "\n",
       "    .dataframe thead th {\n",
       "        text-align: right;\n",
       "    }\n",
       "</style>\n",
       "<table border=\"1\" class=\"dataframe\">\n",
       "  <thead>\n",
       "    <tr style=\"text-align: right;\">\n",
       "      <th></th>\n",
       "      <th>legId</th>\n",
       "      <th>searchDate</th>\n",
       "      <th>flightDate</th>\n",
       "      <th>startingAirport</th>\n",
       "      <th>destinationAirport</th>\n",
       "      <th>travelDuration</th>\n",
       "      <th>isBasicEconomy</th>\n",
       "      <th>isRefundable</th>\n",
       "      <th>isNonStop</th>\n",
       "      <th>totalFare</th>\n",
       "      <th>...</th>\n",
       "      <th>segmentsArrivalTimeEpochSeconds</th>\n",
       "      <th>segmentsArrivalTimeRaw</th>\n",
       "      <th>segmentsArrivalAirportCode</th>\n",
       "      <th>segmentsDepartureAirportCode</th>\n",
       "      <th>segmentsAirlineName</th>\n",
       "      <th>segmentsAirlineCode</th>\n",
       "      <th>segmentsEquipmentDescription</th>\n",
       "      <th>segmentsDurationInSeconds</th>\n",
       "      <th>segmentsDistance</th>\n",
       "      <th>segmentsCabinCode</th>\n",
       "    </tr>\n",
       "  </thead>\n",
       "  <tbody>\n",
       "    <tr>\n",
       "      <th>0</th>\n",
       "      <td>8c3e12759e1b91a21803d1a6178606a8</td>\n",
       "      <td>2022-05-05</td>\n",
       "      <td>2022-06-06</td>\n",
       "      <td>OAK</td>\n",
       "      <td>ATL</td>\n",
       "      <td>PT7H42M</td>\n",
       "      <td>False</td>\n",
       "      <td>False</td>\n",
       "      <td>False</td>\n",
       "      <td>193.99</td>\n",
       "      <td>...</td>\n",
       "      <td>1654577160||1654595760</td>\n",
       "      <td>2022-06-06T22:46:00.000-06:00||2022-06-07T05:5...</td>\n",
       "      <td>DEN||ATL</td>\n",
       "      <td>OAK||DEN</td>\n",
       "      <td>Frontier Airlines||Frontier Airlines</td>\n",
       "      <td>F9||F9</td>\n",
       "      <td>||</td>\n",
       "      <td>9120||10620</td>\n",
       "      <td>943||1207</td>\n",
       "      <td>coach||coach</td>\n",
       "    </tr>\n",
       "    <tr>\n",
       "      <th>1</th>\n",
       "      <td>09116e0be6bc1b357c6695e00f48df17</td>\n",
       "      <td>2022-05-05</td>\n",
       "      <td>2022-06-06</td>\n",
       "      <td>OAK</td>\n",
       "      <td>ATL</td>\n",
       "      <td>PT10H25M</td>\n",
       "      <td>False</td>\n",
       "      <td>False</td>\n",
       "      <td>False</td>\n",
       "      <td>255.58</td>\n",
       "      <td>...</td>\n",
       "      <td>1654539000||1654561500</td>\n",
       "      <td>2022-06-06T13:10:00.000-05:00||2022-06-06T20:2...</td>\n",
       "      <td>ORD||ATL</td>\n",
       "      <td>OAK||ORD</td>\n",
       "      <td>Spirit Airlines||Spirit Airlines</td>\n",
       "      <td>NK||NK</td>\n",
       "      <td>AIRBUS INDUSTRIE A320 SHARKLETS||Airbus A319</td>\n",
       "      <td>15000||7800</td>\n",
       "      <td>None||None</td>\n",
       "      <td>coach||coach</td>\n",
       "    </tr>\n",
       "    <tr>\n",
       "      <th>2</th>\n",
       "      <td>27884a7714f975bd4692f0734562a9b1</td>\n",
       "      <td>2022-05-05</td>\n",
       "      <td>2022-06-06</td>\n",
       "      <td>OAK</td>\n",
       "      <td>ATL</td>\n",
       "      <td>PT6H40M</td>\n",
       "      <td>False</td>\n",
       "      <td>False</td>\n",
       "      <td>False</td>\n",
       "      <td>304.78</td>\n",
       "      <td>...</td>\n",
       "      <td>1654547640||1654566000</td>\n",
       "      <td>2022-06-06T13:34:00.000-07:00||2022-06-06T21:4...</td>\n",
       "      <td>LAS||ATL</td>\n",
       "      <td>OAK||LAS</td>\n",
       "      <td>Spirit Airlines||Spirit Airlines</td>\n",
       "      <td>NK||NK</td>\n",
       "      <td>||Airbus A319</td>\n",
       "      <td>5640||14700</td>\n",
       "      <td>None||None</td>\n",
       "      <td>coach||coach</td>\n",
       "    </tr>\n",
       "    <tr>\n",
       "      <th>3</th>\n",
       "      <td>46ecaf6738817f2ab949310f9cff6231</td>\n",
       "      <td>2022-05-05</td>\n",
       "      <td>2022-06-06</td>\n",
       "      <td>OAK</td>\n",
       "      <td>ATL</td>\n",
       "      <td>PT8H35M</td>\n",
       "      <td>False</td>\n",
       "      <td>False</td>\n",
       "      <td>False</td>\n",
       "      <td>304.78</td>\n",
       "      <td>...</td>\n",
       "      <td>1654540680||1654566000</td>\n",
       "      <td>2022-06-06T11:38:00.000-07:00||2022-06-06T21:4...</td>\n",
       "      <td>LAS||ATL</td>\n",
       "      <td>OAK||LAS</td>\n",
       "      <td>Spirit Airlines||Spirit Airlines</td>\n",
       "      <td>NK||NK</td>\n",
       "      <td>AIRBUS INDUSTRIE A321 SHARKLETS||Airbus A319</td>\n",
       "      <td>5580||14700</td>\n",
       "      <td>None||None</td>\n",
       "      <td>coach||coach</td>\n",
       "    </tr>\n",
       "    <tr>\n",
       "      <th>4</th>\n",
       "      <td>00c9d3aad9478336d57280e4dcfcbd2a</td>\n",
       "      <td>2022-05-05</td>\n",
       "      <td>2022-06-06</td>\n",
       "      <td>OAK</td>\n",
       "      <td>ATL</td>\n",
       "      <td>PT14H5M</td>\n",
       "      <td>False</td>\n",
       "      <td>False</td>\n",
       "      <td>False</td>\n",
       "      <td>304.78</td>\n",
       "      <td>...</td>\n",
       "      <td>1654584360||1654629300</td>\n",
       "      <td>2022-06-06T23:46:00.000-07:00||2022-06-07T15:1...</td>\n",
       "      <td>LAS||ATL</td>\n",
       "      <td>OAK||LAS</td>\n",
       "      <td>Spirit Airlines||Spirit Airlines</td>\n",
       "      <td>NK||NK</td>\n",
       "      <td>AIRBUS INDUSTRIE A320 SHARKLETS||AIRBUS INDUST...</td>\n",
       "      <td>5760||14700</td>\n",
       "      <td>None||None</td>\n",
       "      <td>coach||coach</td>\n",
       "    </tr>\n",
       "  </tbody>\n",
       "</table>\n",
       "<p>5 rows × 23 columns</p>\n",
       "</div>"
      ],
      "text/plain": [
       "                              legId  searchDate  flightDate startingAirport   \n",
       "0  8c3e12759e1b91a21803d1a6178606a8  2022-05-05  2022-06-06             OAK  \\\n",
       "1  09116e0be6bc1b357c6695e00f48df17  2022-05-05  2022-06-06             OAK   \n",
       "2  27884a7714f975bd4692f0734562a9b1  2022-05-05  2022-06-06             OAK   \n",
       "3  46ecaf6738817f2ab949310f9cff6231  2022-05-05  2022-06-06             OAK   \n",
       "4  00c9d3aad9478336d57280e4dcfcbd2a  2022-05-05  2022-06-06             OAK   \n",
       "\n",
       "  destinationAirport travelDuration  isBasicEconomy  isRefundable  isNonStop   \n",
       "0                ATL        PT7H42M           False         False      False  \\\n",
       "1                ATL       PT10H25M           False         False      False   \n",
       "2                ATL        PT6H40M           False         False      False   \n",
       "3                ATL        PT8H35M           False         False      False   \n",
       "4                ATL        PT14H5M           False         False      False   \n",
       "\n",
       "   totalFare  ...  segmentsArrivalTimeEpochSeconds   \n",
       "0     193.99  ...           1654577160||1654595760  \\\n",
       "1     255.58  ...           1654539000||1654561500   \n",
       "2     304.78  ...           1654547640||1654566000   \n",
       "3     304.78  ...           1654540680||1654566000   \n",
       "4     304.78  ...           1654584360||1654629300   \n",
       "\n",
       "                              segmentsArrivalTimeRaw   \n",
       "0  2022-06-06T22:46:00.000-06:00||2022-06-07T05:5...  \\\n",
       "1  2022-06-06T13:10:00.000-05:00||2022-06-06T20:2...   \n",
       "2  2022-06-06T13:34:00.000-07:00||2022-06-06T21:4...   \n",
       "3  2022-06-06T11:38:00.000-07:00||2022-06-06T21:4...   \n",
       "4  2022-06-06T23:46:00.000-07:00||2022-06-07T15:1...   \n",
       "\n",
       "  segmentsArrivalAirportCode segmentsDepartureAirportCode   \n",
       "0                   DEN||ATL                     OAK||DEN  \\\n",
       "1                   ORD||ATL                     OAK||ORD   \n",
       "2                   LAS||ATL                     OAK||LAS   \n",
       "3                   LAS||ATL                     OAK||LAS   \n",
       "4                   LAS||ATL                     OAK||LAS   \n",
       "\n",
       "                    segmentsAirlineName segmentsAirlineCode   \n",
       "0  Frontier Airlines||Frontier Airlines              F9||F9  \\\n",
       "1      Spirit Airlines||Spirit Airlines              NK||NK   \n",
       "2      Spirit Airlines||Spirit Airlines              NK||NK   \n",
       "3      Spirit Airlines||Spirit Airlines              NK||NK   \n",
       "4      Spirit Airlines||Spirit Airlines              NK||NK   \n",
       "\n",
       "                        segmentsEquipmentDescription   \n",
       "0                                                 ||  \\\n",
       "1       AIRBUS INDUSTRIE A320 SHARKLETS||Airbus A319   \n",
       "2                                      ||Airbus A319   \n",
       "3       AIRBUS INDUSTRIE A321 SHARKLETS||Airbus A319   \n",
       "4  AIRBUS INDUSTRIE A320 SHARKLETS||AIRBUS INDUST...   \n",
       "\n",
       "  segmentsDurationInSeconds segmentsDistance segmentsCabinCode  \n",
       "0               9120||10620        943||1207      coach||coach  \n",
       "1               15000||7800       None||None      coach||coach  \n",
       "2               5640||14700       None||None      coach||coach  \n",
       "3               5580||14700       None||None      coach||coach  \n",
       "4               5760||14700       None||None      coach||coach  \n",
       "\n",
       "[5 rows x 23 columns]"
      ]
     },
     "execution_count": 5,
     "metadata": {},
     "output_type": "execute_result"
    }
   ],
   "source": [
    "df.head()"
   ]
  },
  {
   "cell_type": "code",
   "execution_count": 6,
   "id": "d23c3952-aa12-434d-a89c-7587e66424fb",
   "metadata": {},
   "outputs": [],
   "source": [
    "columns_to_extract = [\n",
    "    'startingAirport',\n",
    "    'destinationAirport',\n",
    "    'totalFare',\n",
    "    'segmentsDepartureTimeRaw',\n",
    "    'segmentsCabinCode'\n",
    "]\n",
    "\n",
    "df_specific_columns = df[columns_to_extract]"
   ]
  },
  {
   "cell_type": "code",
   "execution_count": null,
   "id": "1d6c0429-9873-4e08-bc2c-b109ba629cc6",
   "metadata": {},
   "outputs": [],
   "source": [
    "df_specific_columns.info()"
   ]
  },
  {
   "cell_type": "code",
   "execution_count": null,
   "id": "3cb63f0a-aae7-40a1-86a7-8922437a6688",
   "metadata": {},
   "outputs": [],
   "source": [
    "df_specific_columns.head()"
   ]
  },
  {
   "cell_type": "code",
   "execution_count": null,
   "id": "62827616-2fca-49ed-bf8a-7109efbbb068",
   "metadata": {},
   "outputs": [],
   "source": [
    "df_specific_columns[\"startingAirport\"].unique()"
   ]
  },
  {
   "cell_type": "code",
   "execution_count": null,
   "id": "afc419bc-fb0f-40fb-8928-cb65be0e3277",
   "metadata": {},
   "outputs": [],
   "source": [
    "df_specific_columns[\"destinationAirport\"].unique()"
   ]
  },
  {
   "cell_type": "code",
   "execution_count": null,
   "id": "f60e6004-d07e-4bf4-978c-262ce63eb0e8",
   "metadata": {},
   "outputs": [],
   "source": [
    "df_specific_columns[\"segmentsDepartureTimeRaw\"].unique()"
   ]
  },
  {
   "cell_type": "code",
   "execution_count": 8,
   "id": "cbb8c229-3198-49e9-9fe0-5876f40819b4",
   "metadata": {},
   "outputs": [],
   "source": [
    "df_specific_columns.to_csv(\"../data/interim/itineraries_csv/df_specific_columns.csv\", index=False)"
   ]
  },
  {
   "cell_type": "code",
   "execution_count": 3,
   "id": "8ad7a39c-d2c9-477e-ab58-f4a14ca0070a",
   "metadata": {},
   "outputs": [],
   "source": [
    "df_specific_columns = pd.read_csv(\"../data/interim/itineraries_csv/df_specific_columns.csv\")"
   ]
  },
  {
   "cell_type": "code",
   "execution_count": 12,
   "id": "366faf8a-af5d-4f10-b673-daaec7cd36b4",
   "metadata": {},
   "outputs": [],
   "source": [
    "df_specific_columns[['departure_date', 'departure_time']] = (\n",
    "    df_specific_columns['segmentsDepartureTimeRaw']\n",
    "    .str.split(r'\\|\\|')\n",
    "    .str[0]  # Take the first leg's timestamp\n",
    "    .str.extract(r'(\\d{4}-\\d{2}-\\d{2})T(\\d{2}:\\d{2}:\\d{2})')  # Separate date and time\n",
    ")"
   ]
  },
  {
   "cell_type": "code",
   "execution_count": 13,
   "id": "d4a3939d-8311-4309-ae03-4c0f92b4edc4",
   "metadata": {},
   "outputs": [
    {
     "data": {
      "text/plain": [
       "array(['2022-06-06', '2022-06-07', '2022-06-23', '2022-06-24',\n",
       "       '2022-05-27', '2022-05-28', '2022-05-11', '2022-05-12',\n",
       "       '2022-06-17', '2022-06-18', '2022-06-19', '2022-05-15',\n",
       "       '2022-05-16', '2022-05-17', '2022-06-15', '2022-06-16',\n",
       "       '2022-05-31', '2022-06-01', '2022-06-02', '2022-06-09',\n",
       "       '2022-06-10', '2022-06-03', '2022-06-04', '2022-06-11',\n",
       "       '2022-06-12', '2022-05-13', '2022-05-14', '2022-06-13',\n",
       "       '2022-06-27', '2022-06-28', '2022-05-26', '2022-07-06',\n",
       "       '2022-07-07', '2022-07-08', '2022-07-04', '2022-05-07',\n",
       "       '2022-06-14', '2022-05-29', '2022-05-30', '2022-06-26',\n",
       "       '2022-05-24', '2022-05-25', '2022-05-22', '2022-05-23',\n",
       "       '2022-07-11', '2022-05-21', '2022-06-29', '2022-06-30',\n",
       "       '2022-06-05', '2022-05-18', '2022-05-19', '2022-05-20',\n",
       "       '2022-06-08', '2022-05-09', '2022-05-10', '2022-06-20',\n",
       "       '2022-06-21', '2022-06-25', '2022-06-22', '2022-05-06',\n",
       "       '2022-07-09', '2022-07-10', '2022-07-05', '2022-07-01',\n",
       "       '2022-07-02', '2022-07-03', '2022-05-08', '2022-04-29',\n",
       "       '2022-04-30', '2022-05-03', '2022-05-04', '2022-05-01',\n",
       "       '2022-05-02', '2022-04-28', '2022-05-05', '2022-04-27',\n",
       "       '2022-04-26', '2022-04-25', '2022-04-23', '2022-04-24',\n",
       "       '2022-04-21', '2022-04-22', '2022-04-19', '2022-04-20',\n",
       "       '2022-04-18', '2022-07-12', '2022-04-17', '2022-07-13',\n",
       "       '2022-07-14', '2022-07-17', '2022-07-15', '2022-07-16',\n",
       "       '2022-07-18'], dtype=object)"
      ]
     },
     "execution_count": 13,
     "metadata": {},
     "output_type": "execute_result"
    }
   ],
   "source": [
    "df_specific_columns[\"departure_date\"].unique()"
   ]
  },
  {
   "cell_type": "code",
   "execution_count": 16,
   "id": "c645c49a-9ac5-4674-b60e-c02fcb6c3c1b",
   "metadata": {},
   "outputs": [
    {
     "data": {
      "text/plain": [
       "0"
      ]
     },
     "execution_count": 16,
     "metadata": {},
     "output_type": "execute_result"
    }
   ],
   "source": [
    "sum(df_specific_columns[\"departure_time\"].isna())"
   ]
  },
  {
   "cell_type": "code",
   "execution_count": 17,
   "id": "7ed350d3-6c95-47c4-b3e3-76c22d702b25",
   "metadata": {},
   "outputs": [
    {
     "data": {
      "text/html": [
       "<div>\n",
       "<style scoped>\n",
       "    .dataframe tbody tr th:only-of-type {\n",
       "        vertical-align: middle;\n",
       "    }\n",
       "\n",
       "    .dataframe tbody tr th {\n",
       "        vertical-align: top;\n",
       "    }\n",
       "\n",
       "    .dataframe thead th {\n",
       "        text-align: right;\n",
       "    }\n",
       "</style>\n",
       "<table border=\"1\" class=\"dataframe\">\n",
       "  <thead>\n",
       "    <tr style=\"text-align: right;\">\n",
       "      <th></th>\n",
       "      <th>startingAirport</th>\n",
       "      <th>destinationAirport</th>\n",
       "      <th>totalFare</th>\n",
       "      <th>segmentsDepartureTimeRaw</th>\n",
       "      <th>segmentsCabinCode</th>\n",
       "      <th>departure_date</th>\n",
       "      <th>departure_time</th>\n",
       "    </tr>\n",
       "  </thead>\n",
       "  <tbody>\n",
       "    <tr>\n",
       "      <th>0</th>\n",
       "      <td>OAK</td>\n",
       "      <td>ATL</td>\n",
       "      <td>193.99</td>\n",
       "      <td>2022-06-06T19:14:00.000-07:00||2022-06-07T00:5...</td>\n",
       "      <td>coach||coach</td>\n",
       "      <td>2022-06-06</td>\n",
       "      <td>19:14:00</td>\n",
       "    </tr>\n",
       "    <tr>\n",
       "      <th>1</th>\n",
       "      <td>OAK</td>\n",
       "      <td>ATL</td>\n",
       "      <td>255.58</td>\n",
       "      <td>2022-06-06T07:00:00.000-07:00||2022-06-06T17:1...</td>\n",
       "      <td>coach||coach</td>\n",
       "      <td>2022-06-06</td>\n",
       "      <td>07:00:00</td>\n",
       "    </tr>\n",
       "    <tr>\n",
       "      <th>2</th>\n",
       "      <td>OAK</td>\n",
       "      <td>ATL</td>\n",
       "      <td>304.78</td>\n",
       "      <td>2022-06-06T12:00:00.000-07:00||2022-06-06T14:3...</td>\n",
       "      <td>coach||coach</td>\n",
       "      <td>2022-06-06</td>\n",
       "      <td>12:00:00</td>\n",
       "    </tr>\n",
       "    <tr>\n",
       "      <th>3</th>\n",
       "      <td>OAK</td>\n",
       "      <td>ATL</td>\n",
       "      <td>304.78</td>\n",
       "      <td>2022-06-06T10:05:00.000-07:00||2022-06-06T14:3...</td>\n",
       "      <td>coach||coach</td>\n",
       "      <td>2022-06-06</td>\n",
       "      <td>10:05:00</td>\n",
       "    </tr>\n",
       "    <tr>\n",
       "      <th>4</th>\n",
       "      <td>OAK</td>\n",
       "      <td>ATL</td>\n",
       "      <td>304.78</td>\n",
       "      <td>2022-06-06T22:10:00.000-07:00||2022-06-07T08:1...</td>\n",
       "      <td>coach||coach</td>\n",
       "      <td>2022-06-06</td>\n",
       "      <td>22:10:00</td>\n",
       "    </tr>\n",
       "  </tbody>\n",
       "</table>\n",
       "</div>"
      ],
      "text/plain": [
       "  startingAirport destinationAirport  totalFare   \n",
       "0             OAK                ATL     193.99  \\\n",
       "1             OAK                ATL     255.58   \n",
       "2             OAK                ATL     304.78   \n",
       "3             OAK                ATL     304.78   \n",
       "4             OAK                ATL     304.78   \n",
       "\n",
       "                            segmentsDepartureTimeRaw segmentsCabinCode   \n",
       "0  2022-06-06T19:14:00.000-07:00||2022-06-07T00:5...      coach||coach  \\\n",
       "1  2022-06-06T07:00:00.000-07:00||2022-06-06T17:1...      coach||coach   \n",
       "2  2022-06-06T12:00:00.000-07:00||2022-06-06T14:3...      coach||coach   \n",
       "3  2022-06-06T10:05:00.000-07:00||2022-06-06T14:3...      coach||coach   \n",
       "4  2022-06-06T22:10:00.000-07:00||2022-06-07T08:1...      coach||coach   \n",
       "\n",
       "  departure_date departure_time  \n",
       "0     2022-06-06       19:14:00  \n",
       "1     2022-06-06       07:00:00  \n",
       "2     2022-06-06       12:00:00  \n",
       "3     2022-06-06       10:05:00  \n",
       "4     2022-06-06       22:10:00  "
      ]
     },
     "execution_count": 17,
     "metadata": {},
     "output_type": "execute_result"
    }
   ],
   "source": [
    "df_specific_columns.head()"
   ]
  },
  {
   "cell_type": "code",
   "execution_count": 18,
   "id": "dd276af2-486a-4e2f-a89f-9cd03fd4298a",
   "metadata": {},
   "outputs": [
    {
     "data": {
      "text/plain": [
       "array(['coach||coach', 'coach||coach||coach', 'coach',\n",
       "       'coach||first||coach', 'first||first||first',\n",
       "       'coach||coach||premium coach', 'coach||business',\n",
       "       'coach||premium coach||coach',\n",
       "       'coach||premium coach||premium coach', 'business||business',\n",
       "       'first||coach||coach', 'coach||coach||coach||coach',\n",
       "       'coach||coach||first', 'first||first||coach', 'first||first',\n",
       "       'business||coach||coach', 'coach||business||coach',\n",
       "       'business||coach', 'coach||premium coach', 'coach||first||first',\n",
       "       'business||business||coach', 'coach||first',\n",
       "       'coach||business||business', 'first||coach',\n",
       "       'coach||coach||business', 'premium coach', 'first||coach||first',\n",
       "       'business||coach||business', 'premium coach||coach', 'business',\n",
       "       'first', 'coach||coach||coach||premium coach',\n",
       "       'premium coach||premium coach', 'coach||coach||coach||first',\n",
       "       'premium coach||coach||coach', 'first||coach||business',\n",
       "       'premium coach||premium coach||coach',\n",
       "       'premium coach||premium coach||premium coach', 'first||business',\n",
       "       'first||coach||coach||coach', 'first||first||coach||coach',\n",
       "       'premium coach||first', 'premium coach||coach||coach||coach',\n",
       "       'coach||business||first', 'business||first',\n",
       "       'business||first||first', 'premium coach||business||coach',\n",
       "       'coach||coach||first||first', 'coach||coach||first||coach',\n",
       "       'coach||coach||premium coach||premium coach',\n",
       "       'coach||coach||premium coach||coach',\n",
       "       'coach||coach||business||coach'], dtype=object)"
      ]
     },
     "execution_count": 18,
     "metadata": {},
     "output_type": "execute_result"
    }
   ],
   "source": [
    "df_specific_columns[\"segmentsCabinCode\"].unique()"
   ]
  },
  {
   "cell_type": "code",
   "execution_count": 19,
   "id": "7347a1e7-061f-4300-a42d-9d1b133b71a2",
   "metadata": {},
   "outputs": [],
   "source": [
    "df_specific_columns['cabin_type'] = (\n",
    "    df_specific_columns['segmentsCabinCode']\n",
    "    .str.split(r'\\|\\|')  # Split by '||' to separate each leg\n",
    "    .str[0]              # Take the first leg's cabin type\n",
    ")"
   ]
  },
  {
   "cell_type": "code",
   "execution_count": 20,
   "id": "f970f284-79a8-4fc7-9089-840151744b1a",
   "metadata": {},
   "outputs": [
    {
     "data": {
      "text/plain": [
       "array(['coach', 'first', 'business', 'premium coach'], dtype=object)"
      ]
     },
     "execution_count": 20,
     "metadata": {},
     "output_type": "execute_result"
    }
   ],
   "source": [
    "df_specific_columns['cabin_type'].unique()"
   ]
  },
  {
   "cell_type": "code",
   "execution_count": 21,
   "id": "4e4b7776-f3a7-41ff-b617-3fe1fe29f6e8",
   "metadata": {},
   "outputs": [],
   "source": [
    "final_columns = [\"startingAirport\", \"destinationAirport\", \"totalFare\", \"departure_date\", \"departure_time\", \"cabin_type\"]\n",
    "\n",
    "df_preprocessed = df_specific_columns[final_columns]"
   ]
  },
  {
   "cell_type": "code",
   "execution_count": 22,
   "id": "4fd529bc-cd4f-4a2a-b782-31d718a19776",
   "metadata": {},
   "outputs": [
    {
     "data": {
      "text/html": [
       "<div>\n",
       "<style scoped>\n",
       "    .dataframe tbody tr th:only-of-type {\n",
       "        vertical-align: middle;\n",
       "    }\n",
       "\n",
       "    .dataframe tbody tr th {\n",
       "        vertical-align: top;\n",
       "    }\n",
       "\n",
       "    .dataframe thead th {\n",
       "        text-align: right;\n",
       "    }\n",
       "</style>\n",
       "<table border=\"1\" class=\"dataframe\">\n",
       "  <thead>\n",
       "    <tr style=\"text-align: right;\">\n",
       "      <th></th>\n",
       "      <th>startingAirport</th>\n",
       "      <th>destinationAirport</th>\n",
       "      <th>totalFare</th>\n",
       "      <th>departure_date</th>\n",
       "      <th>departure_time</th>\n",
       "      <th>cabin_type</th>\n",
       "    </tr>\n",
       "  </thead>\n",
       "  <tbody>\n",
       "    <tr>\n",
       "      <th>0</th>\n",
       "      <td>OAK</td>\n",
       "      <td>ATL</td>\n",
       "      <td>193.99</td>\n",
       "      <td>2022-06-06</td>\n",
       "      <td>19:14:00</td>\n",
       "      <td>coach</td>\n",
       "    </tr>\n",
       "    <tr>\n",
       "      <th>1</th>\n",
       "      <td>OAK</td>\n",
       "      <td>ATL</td>\n",
       "      <td>255.58</td>\n",
       "      <td>2022-06-06</td>\n",
       "      <td>07:00:00</td>\n",
       "      <td>coach</td>\n",
       "    </tr>\n",
       "    <tr>\n",
       "      <th>2</th>\n",
       "      <td>OAK</td>\n",
       "      <td>ATL</td>\n",
       "      <td>304.78</td>\n",
       "      <td>2022-06-06</td>\n",
       "      <td>12:00:00</td>\n",
       "      <td>coach</td>\n",
       "    </tr>\n",
       "    <tr>\n",
       "      <th>3</th>\n",
       "      <td>OAK</td>\n",
       "      <td>ATL</td>\n",
       "      <td>304.78</td>\n",
       "      <td>2022-06-06</td>\n",
       "      <td>10:05:00</td>\n",
       "      <td>coach</td>\n",
       "    </tr>\n",
       "    <tr>\n",
       "      <th>4</th>\n",
       "      <td>OAK</td>\n",
       "      <td>ATL</td>\n",
       "      <td>304.78</td>\n",
       "      <td>2022-06-06</td>\n",
       "      <td>22:10:00</td>\n",
       "      <td>coach</td>\n",
       "    </tr>\n",
       "  </tbody>\n",
       "</table>\n",
       "</div>"
      ],
      "text/plain": [
       "  startingAirport destinationAirport  totalFare departure_date departure_time   \n",
       "0             OAK                ATL     193.99     2022-06-06       19:14:00  \\\n",
       "1             OAK                ATL     255.58     2022-06-06       07:00:00   \n",
       "2             OAK                ATL     304.78     2022-06-06       12:00:00   \n",
       "3             OAK                ATL     304.78     2022-06-06       10:05:00   \n",
       "4             OAK                ATL     304.78     2022-06-06       22:10:00   \n",
       "\n",
       "  cabin_type  \n",
       "0      coach  \n",
       "1      coach  \n",
       "2      coach  \n",
       "3      coach  \n",
       "4      coach  "
      ]
     },
     "execution_count": 22,
     "metadata": {},
     "output_type": "execute_result"
    }
   ],
   "source": [
    "df_preprocessed.head()"
   ]
  },
  {
   "cell_type": "code",
   "execution_count": 24,
   "id": "68b57cca-2905-4e3f-80d6-bebee0c60875",
   "metadata": {},
   "outputs": [
    {
     "name": "stdout",
     "output_type": "stream",
     "text": [
      "<class 'pandas.core.frame.DataFrame'>\n",
      "RangeIndex: 13519999 entries, 0 to 13519998\n",
      "Data columns (total 6 columns):\n",
      " #   Column              Dtype  \n",
      "---  ------              -----  \n",
      " 0   startingAirport     object \n",
      " 1   destinationAirport  object \n",
      " 2   totalFare           float64\n",
      " 3   departure_date      object \n",
      " 4   departure_time      object \n",
      " 5   cabin_type          object \n",
      "dtypes: float64(1), object(5)\n",
      "memory usage: 618.9+ MB\n"
     ]
    }
   ],
   "source": [
    "df_preprocessed.info()"
   ]
  },
  {
   "cell_type": "code",
   "execution_count": 26,
   "id": "d0525f30-1f4d-4c96-bc6d-afa650e122d8",
   "metadata": {},
   "outputs": [],
   "source": [
    "df_preprocessed.loc[:, 'startingAirport'] = df_preprocessed['startingAirport'].astype('category')\n",
    "df_preprocessed.loc[:, 'destinationAirport'] = df_preprocessed['destinationAirport'].astype('category')\n",
    "df_preprocessed.loc[:, 'departure_date'] = pd.to_datetime(df_preprocessed['departure_date']).dt.date\n",
    "df_preprocessed.loc[:, 'departure_time'] = pd.to_datetime(df_preprocessed['departure_time'], errors='coerce').dt.time\n",
    "df_preprocessed.loc[:, 'cabin_type'] = df_preprocessed['cabin_type'].astype('category')\n",
    "\n",
    "# Save the processed DataFrame to a new file\n",
    "df_preprocessed.to_csv('../data/processed/df_processed.csv', index=False)"
   ]
  },
  {
   "cell_type": "code",
   "execution_count": 34,
   "id": "88b93f6e-dae7-4164-915d-7d8fbe76019d",
   "metadata": {},
   "outputs": [],
   "source": [
    "df_preprocessed.to_csv('../data/processed/df_processed.csv', index=False)"
   ]
  },
  {
   "cell_type": "code",
   "execution_count": 33,
   "id": "536fb84e-e647-4bde-a941-016c713b9cfe",
   "metadata": {},
   "outputs": [],
   "source": [
    "df_preprocessed.loc[:, 'departure_time'] = pd.to_datetime(df_specific_columns['departure_time'], format='%H:%M:%S', errors='coerce').dt.time"
   ]
  },
  {
   "cell_type": "code",
   "execution_count": 32,
   "id": "ffe9e654-8794-4433-9ac1-4e206818f5e4",
   "metadata": {},
   "outputs": [
    {
     "data": {
      "text/plain": [
       "0    19:14:00\n",
       "1    07:00:00\n",
       "2    12:00:00\n",
       "3    10:05:00\n",
       "4    22:10:00\n",
       "Name: departure_time, dtype: object"
      ]
     },
     "execution_count": 32,
     "metadata": {},
     "output_type": "execute_result"
    }
   ],
   "source": [
    "pd.to_datetime(df_specific_columns['departure_time'], format='%H:%M:%S', errors='coerce').dt.time.head()"
   ]
  }
 ],
 "metadata": {
  "kernelspec": {
   "display_name": "Python 3 (ipykernel)",
   "language": "python",
   "name": "python3"
  },
  "language_info": {
   "codemirror_mode": {
    "name": "ipython",
    "version": 3
   },
   "file_extension": ".py",
   "mimetype": "text/x-python",
   "name": "python",
   "nbconvert_exporter": "python",
   "pygments_lexer": "ipython3",
   "version": "3.12.4"
  }
 },
 "nbformat": 4,
 "nbformat_minor": 5
}
